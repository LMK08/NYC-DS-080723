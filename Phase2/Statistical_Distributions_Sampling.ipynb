{
 "cells": [
  {
   "cell_type": "markdown",
   "metadata": {
    "slideshow": {
     "slide_type": "slide"
    }
   },
   "source": [
    "<div style=\"color:white;\n",
    "           display:fill;\n",
    "           border-radius:5px;\n",
    "           background-color:#5642C5;\n",
    "           font-size:200%;\n",
    "           font-family:Arial;letter-spacing:0.5px\">\n",
    "\n",
    "<p width = 20%, style=\"padding: 10px;\n",
    "              color:white;\">\n",
    "Distributions\n",
    "              \n",
    "</p>\n",
    "</div>\n",
    "\n",
    "Data Science Cohort NYC August 2023\n",
    "<p>Phase 2</p>\n",
    "<br>\n",
    "<br>\n",
    "\n",
    "<div align = \"right\">\n",
    "<img src=\"Images/flatiron-school-logo.png\" align = \"right\" width=\"200\"/>\n",
    "</div>"
   ]
  },
  {
   "cell_type": "code",
   "execution_count": 1,
   "metadata": {
    "ExecuteTime": {
     "end_time": "2021-10-08T20:59:55.423713Z",
     "start_time": "2021-10-08T20:59:53.995917Z"
    },
    "slideshow": {
     "slide_type": "slide"
    }
   },
   "outputs": [],
   "source": [
    "# Import the dependencies\n",
    "import pandas as pd\n",
    "import numpy as np\n",
    "from scipy import stats\n",
    "from matplotlib import pyplot as plt\n",
    "import seaborn as sns\n",
    "%matplotlib inline"
   ]
  },
  {
   "cell_type": "markdown",
   "metadata": {
    "heading_collapsed": true,
    "slideshow": {
     "slide_type": "slide"
    }
   },
   "source": [
    "# Objectives"
   ]
  },
  {
   "cell_type": "markdown",
   "metadata": {
    "hidden": true,
    "slideshow": {
     "slide_type": "fragment"
    }
   },
   "source": [
    "* Explain how sampling is related to its related population\n",
    "* Describe the difference between discrete and continuous random variables\n",
    "* Describe the difference between PMFs, PDFs, and CDFs"
   ]
  },
  {
   "cell_type": "markdown",
   "metadata": {
    "heading_collapsed": true,
    "slideshow": {
     "slide_type": "slide"
    }
   },
   "source": [
    "# First Steps: Sampling"
   ]
  },
  {
   "cell_type": "markdown",
   "metadata": {
    "hidden": true,
    "slideshow": {
     "slide_type": "fragment"
    }
   },
   "source": [
    "Before we get into our main topic of probability distributions, it'll help to first understand the concept of **sampling**."
   ]
  },
  {
   "cell_type": "markdown",
   "metadata": {
    "heading_collapsed": true,
    "hidden": true,
    "slideshow": {
     "slide_type": "slide"
    }
   },
   "source": [
    "## Our View of The World Isn't Perfect"
   ]
  },
  {
   "cell_type": "markdown",
   "metadata": {
    "slideshow": {
     "slide_type": "fragment"
    }
   },
   "source": [
    "We don't have _perfect_ information; life doesn't have an answer key.\n",
    "\n",
    "Ideally, we want to have all the details of a whole group. But as you can guess, that's not always feasible."
   ]
  },
  {
   "cell_type": "markdown",
   "metadata": {
    "hidden": true,
    "slideshow": {
     "slide_type": "slide"
    }
   },
   "source": [
    "**🧠 Knowledge Check**: What are some reasons we sometimes _can't_ observe the whole group?\n",
    "<details>\n",
    "<ul>\n",
    "    <li>Expensive</li>\n",
    "    <li>Unrealistic</li>\n",
    "    <li>We don't need it to gain insights!</li>\n",
    "</ul>\n",
    "</details>"
   ]
  },
  {
   "cell_type": "markdown",
   "metadata": {
    "heading_collapsed": true,
    "hidden": true,
    "slideshow": {
     "slide_type": "slide"
    }
   },
   "source": [
    "## Solutions?"
   ]
  },
  {
   "cell_type": "markdown",
   "metadata": {
    "hidden": true,
    "slideshow": {
     "slide_type": "fragment"
    }
   },
   "source": [
    "Let's use an example scenario to think about how we can approach this. Let's say we would like to know the ages of students at Flatiron School. \n",
    "\n",
    "Picture what this might look like. How would you describe the population of students' ages?"
   ]
  },
  {
   "cell_type": "markdown",
   "metadata": {
    "hidden": true,
    "slideshow": {
     "slide_type": "slide"
    }
   },
   "source": [
    "> **Key Terms**\n",
    ">\n",
    "> We define the **population** as the whole group we're interested in. We abstract this to the population being the whole set of _possible outcomes_.\n",
    "> \n",
    "> And when we \"pick\" a student (or students), we say we have (randomly) _sampled_ over the population. We call this subset of \"picked\" individuals/outcomes from the population a **sample**."
   ]
  },
  {
   "cell_type": "markdown",
   "metadata": {
    "hidden": true,
    "slideshow": {
     "slide_type": "slide"
    }
   },
   "source": [
    "Well, if we knew what the **population** (all the Flatiron students) looked like, we could probably get an idea of what the likely age is of a _randomly_ picked one from the population."
   ]
  },
  {
   "cell_type": "markdown",
   "metadata": {
    "hidden": true,
    "slideshow": {
     "slide_type": "fragment"
    }
   },
   "source": [
    "We can describe the \"look\" of the population a **probability distribution**. "
   ]
  },
  {
   "cell_type": "markdown",
   "metadata": {
    "hidden": true,
    "slideshow": {
     "slide_type": "fragment"
    }
   },
   "source": [
    "> **Key Terms**\n",
    "> \n",
    "> A **probability distribution** is a representation of the frequencies of potential outcomes or the percentage of time each outcome occurs."
   ]
  },
  {
   "cell_type": "markdown",
   "metadata": {
    "hidden": true,
    "slideshow": {
     "slide_type": "slide"
    }
   },
   "source": [
    "There are a few ways to get the probability distribution, even if it's only approximate."
   ]
  },
  {
   "cell_type": "markdown",
   "metadata": {
    "heading_collapsed": true,
    "hidden": true,
    "slideshow": {
     "slide_type": "slide"
    }
   },
   "source": [
    "### Observe the Whole Population"
   ]
  },
  {
   "cell_type": "markdown",
   "metadata": {
    "hidden": true,
    "slideshow": {
     "slide_type": "fragment"
    }
   },
   "source": [
    "This might seem like \"cheating\" but sometimes this is really the best way even if it's \"expensive\" (monetarily, time, or otherwise). Sometimes this has already been done for us and we can use those results. It's important to note that sometimes the information is outdated but we can use it as approximately right. (Think how the US Census is done only every 10 years.)"
   ]
  },
  {
   "cell_type": "markdown",
   "metadata": {
    "hidden": true,
    "slideshow": {
     "slide_type": "slide"
    }
   },
   "source": [
    "So in our example, we could have a _distribution_ of ages of our population. Let's say of all students were asked their age when enrolling:\n",
    "\n",
    "- $15\\%$ are under the age of $25$\n",
    "- $30\\%$ are between $25$ & $30$\n",
    "- $25\\%$ are between $30$ & $35$\n",
    "- $20\\%$ are between $35$ & $40$\n",
    "- $10\\%$ are over the age of $40$"
   ]
  },
  {
   "cell_type": "markdown",
   "metadata": {
    "heading_collapsed": true,
    "hidden": true,
    "slideshow": {
     "slide_type": "slide"
    }
   },
   "source": [
    "### We Sample and Infer the Population's Distribution "
   ]
  },
  {
   "cell_type": "markdown",
   "metadata": {
    "hidden": true,
    "slideshow": {
     "slide_type": "fragment"
    }
   },
   "source": [
    "Another method is to sample the population (usually randomly) and observe what the sample's distribution looks like. We can then infer what the population might look like."
   ]
  },
  {
   "cell_type": "markdown",
   "metadata": {
    "hidden": true,
    "slideshow": {
     "slide_type": "fragment"
    }
   },
   "source": [
    "Suppose we ask 100 random students their ages and observe the following:\n",
    "\n",
    "- $10$ are under the age of $25$\n",
    "- $30$ are between $25$ & $30$\n",
    "- $30$ are between $30$ & $35$\n",
    "- $15$ are between $35$ & $40$\n",
    "- $15$ are over the age of $40$\n",
    "\n",
    "Then we can guess that our population is similar to this distribution."
   ]
  },
  {
   "cell_type": "markdown",
   "metadata": {
    "hidden": true,
    "slideshow": {
     "slide_type": "slide"
    }
   },
   "source": [
    "How similar? Well, that can be a tough question and is part of _inferential statistics_ where we make predictions based on our observations/data.  We'll  be going into more detail about this in the near future."
   ]
  },
  {
   "cell_type": "markdown",
   "metadata": {
    "slideshow": {
     "slide_type": "slide"
    }
   },
   "source": [
    "## Sampling & Point Estimates "
   ]
  },
  {
   "cell_type": "markdown",
   "metadata": {
    "slideshow": {
     "slide_type": "fragment"
    }
   },
   "source": [
    "**Know the differences - Population v Sample Terminology**\n",
    "\n",
    "Characteristics of populations are called *parameters*<br/>\n",
    "Characteristics of a sample are called *statistics*\n",
    "\n",
    "<img src=\"https://media.cheggcdn.com/media/7ac/7ac1a812-3b41-4873-8413-b6a7b8fab530/CL-26481V_image_006.png\" width=700>"
   ]
  },
  {
   "cell_type": "markdown",
   "metadata": {
    "slideshow": {
     "slide_type": "slide"
    }
   },
   "source": [
    "Let's work through an example to understand this topic better. We grabbed wage and classification information for 11,739 City of Seattle Employees (as of March 2022).\n",
    "\n",
    "Details: https://data.seattle.gov/City-Business/City-of-Seattle-Wage-Data/2khk-5ukd"
   ]
  },
  {
   "cell_type": "code",
<<<<<<< HEAD
   "execution_count": 2,
=======
   "execution_count": null,
>>>>>>> upstream/main
   "metadata": {
    "cell_style": "center",
    "slideshow": {
     "slide_type": "slide"
    }
   },
<<<<<<< HEAD
   "outputs": [
    {
     "data": {
      "text/html": [
       "<div>\n",
       "<style scoped>\n",
       "    .dataframe tbody tr th:only-of-type {\n",
       "        vertical-align: middle;\n",
       "    }\n",
       "\n",
       "    .dataframe tbody tr th {\n",
       "        vertical-align: top;\n",
       "    }\n",
       "\n",
       "    .dataframe thead th {\n",
       "        text-align: right;\n",
       "    }\n",
       "</style>\n",
       "<table border=\"1\" class=\"dataframe\">\n",
       "  <thead>\n",
       "    <tr style=\"text-align: right;\">\n",
       "      <th></th>\n",
       "      <th>Department</th>\n",
       "      <th>Last Name</th>\n",
       "      <th>First Name</th>\n",
       "      <th>Job Title</th>\n",
       "      <th>Hourly Rate</th>\n",
       "    </tr>\n",
       "  </thead>\n",
       "  <tbody>\n",
       "    <tr>\n",
       "      <th>0</th>\n",
       "      <td>Seattle Public Utilities</td>\n",
       "      <td>Batchelor</td>\n",
       "      <td>Craig</td>\n",
       "      <td>Civil Engrng Spec,Sr</td>\n",
       "      <td>53.740</td>\n",
       "    </tr>\n",
       "    <tr>\n",
       "      <th>1</th>\n",
       "      <td>Finance &amp; Admin Services</td>\n",
       "      <td>Altice</td>\n",
       "      <td>Jeffrey</td>\n",
       "      <td>Auto Mechanic</td>\n",
       "      <td>39.780</td>\n",
       "    </tr>\n",
       "    <tr>\n",
       "      <th>2</th>\n",
       "      <td>Finance &amp; Admin Services</td>\n",
       "      <td>Montes</td>\n",
       "      <td>Valeria</td>\n",
       "      <td>Cust Svc Rep</td>\n",
       "      <td>29.450</td>\n",
       "    </tr>\n",
       "    <tr>\n",
       "      <th>3</th>\n",
       "      <td>Fire Department</td>\n",
       "      <td>Kuklok</td>\n",
       "      <td>Rebecca</td>\n",
       "      <td>Cust Svc Rep *</td>\n",
       "      <td>29.450</td>\n",
       "    </tr>\n",
       "    <tr>\n",
       "      <th>4</th>\n",
       "      <td>Planning &amp; Comm Development</td>\n",
       "      <td>Quirindongo</td>\n",
       "      <td>Rico</td>\n",
       "      <td>Executive3</td>\n",
       "      <td>97.164</td>\n",
       "    </tr>\n",
       "  </tbody>\n",
       "</table>\n",
       "</div>"
      ],
      "text/plain": [
       "                    Department    Last Name First Name             Job Title  \\\n",
       "0     Seattle Public Utilities    Batchelor      Craig  Civil Engrng Spec,Sr   \n",
       "1     Finance & Admin Services       Altice    Jeffrey         Auto Mechanic   \n",
       "2     Finance & Admin Services       Montes    Valeria          Cust Svc Rep   \n",
       "3              Fire Department       Kuklok    Rebecca        Cust Svc Rep *   \n",
       "4  Planning & Comm Development  Quirindongo       Rico            Executive3   \n",
       "\n",
       "   Hourly Rate   \n",
       "0        53.740  \n",
       "1        39.780  \n",
       "2        29.450  \n",
       "3        29.450  \n",
       "4        97.164  "
      ]
     },
     "execution_count": 2,
     "metadata": {},
     "output_type": "execute_result"
    }
   ],
=======
   "outputs": [],
>>>>>>> upstream/main
   "source": [
    "# Grab our data\n",
    "df = pd.read_csv('data/City_of_Seattle_Wage_Data_031422.csv')\n",
    "df.head()"
   ]
  },
  {
   "cell_type": "code",
<<<<<<< HEAD
   "execution_count": 3,
=======
   "execution_count": null,
>>>>>>> upstream/main
   "metadata": {
    "cell_style": "split",
    "slideshow": {
     "slide_type": "fragment"
    }
   },
<<<<<<< HEAD
   "outputs": [
    {
     "data": {
      "text/plain": [
       "Index(['Department', 'Last Name', 'First Name', 'Job Title', 'Hourly Rate '], dtype='object')"
      ]
     },
     "execution_count": 3,
     "metadata": {},
     "output_type": "execute_result"
    }
   ],
=======
   "outputs": [],
>>>>>>> upstream/main
   "source": [
    "# Thing to note - the column name 'Hourly Rate ' has a space at the end\n",
    "df.columns"
   ]
  },
  {
   "cell_type": "code",
<<<<<<< HEAD
   "execution_count": 4,
=======
   "execution_count": null,
>>>>>>> upstream/main
   "metadata": {
    "cell_style": "split",
    "slideshow": {
     "slide_type": "fragment"
    }
   },
<<<<<<< HEAD
   "outputs": [
    {
     "data": {
      "text/plain": [
       "['Department', 'LastName', 'FirstName', 'JobTitle', 'HourlyRate']"
      ]
     },
     "execution_count": 4,
     "metadata": {},
     "output_type": "execute_result"
    }
   ],
=======
   "outputs": [],
>>>>>>> upstream/main
   "source": [
    "[c.replace(\" \", \"\") for c in df.columns]"
   ]
  },
  {
   "cell_type": "code",
<<<<<<< HEAD
   "execution_count": 5,
=======
   "execution_count": null,
>>>>>>> upstream/main
   "metadata": {
    "slideshow": {
     "slide_type": "slide"
    }
   },
   "outputs": [],
   "source": [
    "# So let's rename the columns\n",
    "df = df.rename(columns = dict(zip(df.columns, [c.replace(\" \", \"\") for c in df.columns])))"
   ]
  },
  {
   "cell_type": "code",
<<<<<<< HEAD
   "execution_count": 6,
=======
   "execution_count": null,
>>>>>>> upstream/main
   "metadata": {
    "slideshow": {
     "slide_type": "fragment"
    }
   },
<<<<<<< HEAD
   "outputs": [
    {
     "data": {
      "text/html": [
       "<div>\n",
       "<style scoped>\n",
       "    .dataframe tbody tr th:only-of-type {\n",
       "        vertical-align: middle;\n",
       "    }\n",
       "\n",
       "    .dataframe tbody tr th {\n",
       "        vertical-align: top;\n",
       "    }\n",
       "\n",
       "    .dataframe thead th {\n",
       "        text-align: right;\n",
       "    }\n",
       "</style>\n",
       "<table border=\"1\" class=\"dataframe\">\n",
       "  <thead>\n",
       "    <tr style=\"text-align: right;\">\n",
       "      <th></th>\n",
       "      <th>Department</th>\n",
       "      <th>LastName</th>\n",
       "      <th>FirstName</th>\n",
       "      <th>JobTitle</th>\n",
       "      <th>HourlyRate</th>\n",
       "    </tr>\n",
       "  </thead>\n",
       "  <tbody>\n",
       "    <tr>\n",
       "      <th>0</th>\n",
       "      <td>Seattle Public Utilities</td>\n",
       "      <td>Batchelor</td>\n",
       "      <td>Craig</td>\n",
       "      <td>Civil Engrng Spec,Sr</td>\n",
       "      <td>53.740</td>\n",
       "    </tr>\n",
       "    <tr>\n",
       "      <th>1</th>\n",
       "      <td>Finance &amp; Admin Services</td>\n",
       "      <td>Altice</td>\n",
       "      <td>Jeffrey</td>\n",
       "      <td>Auto Mechanic</td>\n",
       "      <td>39.780</td>\n",
       "    </tr>\n",
       "    <tr>\n",
       "      <th>2</th>\n",
       "      <td>Finance &amp; Admin Services</td>\n",
       "      <td>Montes</td>\n",
       "      <td>Valeria</td>\n",
       "      <td>Cust Svc Rep</td>\n",
       "      <td>29.450</td>\n",
       "    </tr>\n",
       "    <tr>\n",
       "      <th>3</th>\n",
       "      <td>Fire Department</td>\n",
       "      <td>Kuklok</td>\n",
       "      <td>Rebecca</td>\n",
       "      <td>Cust Svc Rep *</td>\n",
       "      <td>29.450</td>\n",
       "    </tr>\n",
       "    <tr>\n",
       "      <th>4</th>\n",
       "      <td>Planning &amp; Comm Development</td>\n",
       "      <td>Quirindongo</td>\n",
       "      <td>Rico</td>\n",
       "      <td>Executive3</td>\n",
       "      <td>97.164</td>\n",
       "    </tr>\n",
       "  </tbody>\n",
       "</table>\n",
       "</div>"
      ],
      "text/plain": [
       "                    Department     LastName FirstName              JobTitle  \\\n",
       "0     Seattle Public Utilities    Batchelor     Craig  Civil Engrng Spec,Sr   \n",
       "1     Finance & Admin Services       Altice   Jeffrey         Auto Mechanic   \n",
       "2     Finance & Admin Services       Montes   Valeria          Cust Svc Rep   \n",
       "3              Fire Department       Kuklok   Rebecca        Cust Svc Rep *   \n",
       "4  Planning & Comm Development  Quirindongo      Rico            Executive3   \n",
       "\n",
       "   HourlyRate  \n",
       "0      53.740  \n",
       "1      39.780  \n",
       "2      29.450  \n",
       "3      29.450  \n",
       "4      97.164  "
      ]
     },
     "execution_count": 6,
     "metadata": {},
     "output_type": "execute_result"
    }
   ],
=======
   "outputs": [],
>>>>>>> upstream/main
   "source": [
    "# Check our work\n",
    "df.head()"
   ]
  },
  {
   "cell_type": "markdown",
   "metadata": {
    "slideshow": {
     "slide_type": "slide"
    }
   },
   "source": [
    "What we'll do is grab a random sample, of 500 employees, and see how the sample statistics match up with our population parameters."
   ]
  },
  {
   "cell_type": "code",
<<<<<<< HEAD
   "execution_count": 8,
=======
   "execution_count": null,
>>>>>>> upstream/main
   "metadata": {
    "slideshow": {
     "slide_type": "fragment"
    }
   },
   "outputs": [],
   "source": [
    "# gonna use the random library to add randomness\n",
    "import random\n",
    "\n",
    "# seed for reproducibility (not too random)\n",
    "random.seed(2023) "
   ]
  },
  {
   "cell_type": "code",
<<<<<<< HEAD
   "execution_count": 9,
=======
   "execution_count": null,
>>>>>>> upstream/main
   "metadata": {
    "cell_style": "split",
    "slideshow": {
     "slide_type": "fragment"
    }
   },
   "outputs": [],
   "source": [
    "# set our parameters\n",
    "sample_size = 500\n",
    "total_employees = len(df)"
   ]
  },
  {
   "cell_type": "code",
<<<<<<< HEAD
   "execution_count": 10,
=======
   "execution_count": null,
>>>>>>> upstream/main
   "metadata": {
    "cell_style": "split",
    "slideshow": {
     "slide_type": "fragment"
    }
   },
   "outputs": [],
   "source": [
    "# Sample 500 random employees\n",
    "sample = df.sample(sample_size)"
   ]
  },
  {
   "cell_type": "code",
<<<<<<< HEAD
   "execution_count": 11,
=======
   "execution_count": null,
>>>>>>> upstream/main
   "metadata": {
    "slideshow": {
     "slide_type": "slide"
    }
   },
<<<<<<< HEAD
   "outputs": [
    {
     "data": {
      "image/png": "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\n",
      "text/plain": [
       "<Figure size 800x600 with 1 Axes>"
      ]
     },
     "metadata": {},
     "output_type": "display_data"
    }
   ],
=======
   "outputs": [],
>>>>>>> upstream/main
   "source": [
    "#Make a visualization that shows the distribution of hourly rate\n",
    "\n",
    "plt.figure(figsize=(8,6))\n",
    "\n",
    "sns.histplot(df['HourlyRate'], label ='Full Dataset', stat='density', kde=True)\n",
    "sns.histplot(sample['HourlyRate'], label='Sample', stat='density', kde=True, color='orange', alpha=.5)\n",
    "\n",
    "plt.xlabel(\"Hourly Rate\")\n",
    "plt.ylabel(\"Frequency\")\n",
    "plt.title(\"Distribution of Hourly Rates Amongst Seattle City Employees\")\n",
    "plt.legend()\n",
    "plt.show()"
   ]
  },
  {
   "cell_type": "markdown",
   "metadata": {
    "slideshow": {
     "slide_type": "slide"
    }
   },
   "source": [
    "Another comparison: "
   ]
  },
  {
   "cell_type": "code",
<<<<<<< HEAD
   "execution_count": 13,
=======
   "execution_count": null,
>>>>>>> upstream/main
   "metadata": {
    "cell_style": "split",
    "slideshow": {
     "slide_type": "fragment"
    }
   },
<<<<<<< HEAD
   "outputs": [
    {
     "name": "stdout",
     "output_type": "stream",
     "text": [
      "Full Dataset:\n",
      "         HourlyRate\n",
      "count  11739.000000\n",
      "mean      47.817331\n",
      "std       16.722128\n",
      "min        5.530000\n",
      "25%       35.400000\n",
      "50%       47.340000\n",
      "75%       59.550000\n",
      "max      187.767000\n",
      "********************\n",
      "Sample:\n",
      "       HourlyRate\n",
      "count  500.000000\n",
      "mean    47.613637\n",
      "std     15.814359\n",
      "min     17.270000\n",
      "25%     36.050000\n",
      "50%     46.680000\n",
      "75%     59.698750\n",
      "max    104.070000\n"
     ]
    }
   ],
=======
   "outputs": [],
>>>>>>> upstream/main
   "source": [
    "print(\"Full Dataset:\")\n",
    "print(df.describe())\n",
    "print(\"*\" * 20)\n",
    "print(\"Sample:\")\n",
    "print(sample.describe())"
   ]
  },
  {
   "cell_type": "markdown",
   "metadata": {
    "cell_style": "split",
    "slideshow": {
     "slide_type": "fragment"
    }
   },
   "source": [
    "So, how'd our sample do, in terms of representing our underlying population?\n",
    "\n",
    "- \n"
   ]
  },
  {
   "cell_type": "markdown",
   "metadata": {
    "cell_style": "split",
    "slideshow": {
     "slide_type": "fragment"
    }
   },
   "source": [
    "Now let's change that 500 to something smaller, like 5 or 10 - rerun the code, how does our sample do in that case?\n",
    "\n",
    "- "
   ]
  },
  {
   "cell_type": "markdown",
   "metadata": {
    "heading_collapsed": true,
    "hidden": true,
    "slideshow": {
     "slide_type": "slide"
    }
   },
   "source": [
    "## Going Forward"
   ]
  },
  {
   "cell_type": "markdown",
   "metadata": {
    "hidden": true,
    "slideshow": {
     "slide_type": "fragment"
    }
   },
   "source": [
    "Today, we're going to focus on how we can describe probability distributions. This will give us a tool set whether we're talking about a sample or an established population."
   ]
  },
  {
   "cell_type": "markdown",
   "metadata": {
    "hidden": true,
    "slideshow": {
     "slide_type": "slide"
    }
   },
   "source": [
    "> **Aside - Use a Mathematical Model as a Proxy to the Population's Distribution**\n",
    "> \n",
    "> If we know what a population distribution _should_ look like, we can mathematically  define a model that would fill-in for our population.\n",
    "> \n",
    "> This is analogous to something like using a perfect circle to approximate a car's tire. Is it exactly the same? No, there are some deviations from the circle but it's close enough for many applications.\n",
    "> \n",
    "> There are many other _parametric probability distributions_ which can be described mathematically and can be very convenient for us. We won't focus on this now, but know that is another use case of probability distributions."
   ]
  },
  {
   "cell_type": "markdown",
   "metadata": {
    "heading_collapsed": true,
    "slideshow": {
     "slide_type": "slide"
    }
   },
   "source": [
    "# Probability Distributions"
   ]
  },
  {
   "cell_type": "markdown",
   "metadata": {
    "slideshow": {
     "slide_type": "fragment"
    }
   },
   "source": [
    "We will learn about a variety of different probability distributions, but before we do so, we need to establish the difference between **discrete** and **continuous** distributions."
   ]
  },
  {
   "cell_type": "markdown",
   "metadata": {
    "slideshow": {
     "slide_type": "slide"
    }
   },
   "source": [
    "A fundamental distinction among kinds of distributions is the distinction between discrete and continuous distributions. \n",
    "\n",
    "A **discrete distribution** (or variable) takes on countable values, like integers, where every outcome has a positive probability.\n",
    "\n",
    "A **continuous distribution** takes on a continuum of values, like real numbers. It assigns probabilities to ranges of values (not any one single value)\n",
    "\n",
    "![](https://miro.medium.com/max/1022/1*7DwXV_h_t7_-TkLAImKBaQ.png)\n",
    "\n",
    "[More Explanation](https://mathbitsnotebook.com/Algebra1/FunctionGraphs/FNGContinuousDiscrete.html)"
   ]
  },
  {
   "cell_type": "markdown",
   "metadata": {
    "heading_collapsed": true,
    "hidden": true,
    "slideshow": {
     "slide_type": "slide"
    }
   },
   "source": [
    "## Discrete Distributions"
   ]
  },
  {
   "cell_type": "markdown",
   "metadata": {
    "hidden": true,
    "slideshow": {
     "slide_type": "fragment"
    }
   },
   "source": [
    "With discrete distributions, you can only get certain specific values, not all values in a range.  Take, for example, a roll of a single six-sided die - there are 6 possible outcomes of the roll, and non-integer numbers between 1 and 6 are not possible results."
   ]
  },
  {
   "cell_type": "markdown",
   "metadata": {
    "hidden": true,
    "slideshow": {
     "slide_type": "slide"
    }
   },
   "source": [
    "### Examples of Discrete Distributions\n",
    "- **Uniform Distribution**\n",
    "    - Occurs when all possible outcomes are equally likely.\n",
    "    - e.g. rolling a six-sided die\n",
    "    \n",
    "- **Bernoulli Distribution**\n",
    "    - Represents the probability of success for a certain experiment (binary outcome).\n",
    "    - e.g. flipping a fair coin\n",
    "    \n",
    "- **Binomial Distribution**\n",
    "    - Represents the probability of observing a specific number of successes (Bernoulli trials) in a specific number of trials.\n",
    "    - e.g. number of defects found from a 100-random sample from the production line"
   ]
  },
  {
   "cell_type": "markdown",
   "metadata": {
    "heading_collapsed": true,
    "hidden": true,
    "slideshow": {
     "slide_type": "slide"
    }
   },
   "source": [
    "## Continuous Distributions"
   ]
  },
  {
   "cell_type": "markdown",
   "metadata": {
    "hidden": true,
    "slideshow": {
     "slide_type": "fragment"
    }
   },
   "source": [
    "With a continuous distribution, you can expect to get any value within a range. Think about measuring the length of something. The reported measurement can always be more or less precise.\n"
   ]
  },
  {
   "cell_type": "markdown",
   "metadata": {
    "heading_collapsed": true,
    "hidden": true,
    "slideshow": {
     "slide_type": "slide"
    }
   },
   "source": [
    "### Examples of Continuous Distributions"
   ]
  },
  {
   "cell_type": "markdown",
   "metadata": {
    "hidden": true,
    "slideshow": {
     "slide_type": "slide"
    }
   },
   "source": [
    "- **Continuous Uniform**\n",
    "    - A continuous distribution that takes values within a specified range *a* to *b*, when each value within the range is equally likely.\n",
    "    - e.g. time take an elevator arrive at your floor.\n",
    "\n",
    "- **Normal (Gaussian)**\n",
    "    - A probability distribution that is symmetric about the mean, showing that the mean are more frequent in occurrence than data far from the mean.\n",
    "    - e.g. individual height in a population\n",
    "    \n",
    "- **Exponential**\n",
    "    - Used to model the time elapsed between events.\n",
    "    - e.g. amount of time a postal clerk spends with a customer"
   ]
  },
  {
   "cell_type": "markdown",
   "metadata": {
    "slideshow": {
     "slide_type": "slide"
    }
   },
   "source": [
    "## Probability Distribution Functions\n",
    "\n",
    "### Probability Mass Functions (PMF) / Probability Density Functions (PDF) & Cumulative Density Functions (CDF)\n",
    "\n",
    "(I know, \"Probability Distribution Functions\" and \"Probability Density Functions\" have the same acronym. PDF normally stands for the latter - the former is a more catch-all term for all three of these)"
   ]
  },
  {
   "cell_type": "markdown",
   "metadata": {
    "slideshow": {
     "slide_type": "slide"
    }
   },
   "source": [
    "![example graphs of a continuous cdf with corresponding pdf and discrete cdf with corresponding pmf](images/cdf.png)"
   ]
  },
  {
   "cell_type": "markdown",
   "metadata": {
    "heading_collapsed": true,
    "slideshow": {
     "slide_type": "slide"
    }
   },
   "source": [
    "# PMF: Probability Mass Function"
   ]
  },
  {
   "cell_type": "markdown",
   "metadata": {
    "hidden": true,
    "slideshow": {
     "slide_type": "fragment"
    }
   },
   "source": [
    "The **probability mass function (PMF)** for a *discrete random variable* gives, at any value $k$, the probability that the random variable takes the value $k$."
   ]
  },
  {
   "cell_type": "markdown",
   "metadata": {
    "slideshow": {
     "slide_type": "slide"
    }
   },
   "source": [
    "### Probability Density Function\n",
    "\n",
    "**Probability density functions (PDF)** are similar to PMFs, in that they describe the probability of a result within a range of values. But where PMFs are appropriate for discrete variables and so can be descibed with barplots, PDFs are smooth curves that describe *continuous random variables*.  \n",
    "\n",
    "We can think of a PDF as a bunch of bars of probabilities getting smaller and smaller until each neighbor is indistinguishable from its neighbor.\n",
    "\n",
    "It is then intuitive that you cannot calculate expected value and variance in the same way as we did with PMFs.  Instead, we have to integrate over the entirety of the curve to calculate the expected value."
   ]
  },
  {
   "cell_type": "markdown",
   "metadata": {
    "slideshow": {
     "slide_type": "slide"
    }
   },
   "source": [
    "![](images/pdf_inter.png)"
   ]
  },
  {
   "cell_type": "markdown",
   "metadata": {
    "slideshow": {
     "slide_type": "slide"
    }
   },
   "source": [
    "## Distributions with Scipy Stats"
   ]
  },
  {
   "cell_type": "markdown",
   "metadata": {
    "slideshow": {
     "slide_type": "fragment"
    }
   },
   "source": [
    "Documentation: https://docs.scipy.org/doc/scipy/reference/stats.html"
   ]
  },
  {
   "cell_type": "markdown",
   "metadata": {
    "slideshow": {
     "slide_type": "slide"
    }
   },
   "source": [
    "## First Up: Get to know the stats module with Discrete Distributions!"
   ]
  },
  {
   "cell_type": "markdown",
   "metadata": {
    "slideshow": {
     "slide_type": "slide"
    }
   },
   "source": [
    "### Bernoulli Distribution \n",
    "\n",
    "The **Bernoulli** distribution shows the outcome of a single trial where there are only 2 possible options.\n",
    "\n",
    "The easiest example is a single coin flip of a fair coin."
   ]
  },
  {
   "cell_type": "code",
<<<<<<< HEAD
   "execution_count": 14,
=======
   "execution_count": null,
>>>>>>> upstream/main
   "metadata": {
    "slideshow": {
     "slide_type": "slide"
    }
   },
   "outputs": [],
   "source": [
    "# Define our likelihood of 'success' - aka Heads\n",
    "p_success = .5\n",
    "\n",
    "# Now - lets use the stats library to get the probabilities\n",
    "p_tails = stats.bernoulli.pmf(k=0, p=p_success) # Probability of 'failure' (0)\n",
    "\n",
    "p_heads = stats.bernoulli.pmf(k=1, p=p_success) # Probability of 'success' (1)"
   ]
  },
  {
   "cell_type": "code",
<<<<<<< HEAD
   "execution_count": 15,
=======
   "execution_count": null,
>>>>>>> upstream/main
   "metadata": {
    "cell_style": "split",
    "slideshow": {
     "slide_type": "fragment"
    }
   },
<<<<<<< HEAD
   "outputs": [
    {
     "name": "stdout",
     "output_type": "stream",
     "text": [
      "{'Tails': 0.5, 'Heads': 0.5}\n"
     ]
    }
   ],
=======
   "outputs": [],
>>>>>>> upstream/main
   "source": [
    "# Create a dict for visualization:\n",
    "coin_flip = {\n",
    "    'Tails' : p_tails,\n",
    "    'Heads' : p_heads\n",
    "}\n",
    "\n",
    "print(coin_flip)"
   ]
  },
  {
   "cell_type": "code",
<<<<<<< HEAD
   "execution_count": 16,
=======
   "execution_count": null,
>>>>>>> upstream/main
   "metadata": {
    "cell_style": "split",
    "scrolled": true,
    "slideshow": {
     "slide_type": "slide"
    }
   },
<<<<<<< HEAD
   "outputs": [
    {
     "data": {
      "image/png": "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\n",
      "text/plain": [
       "<Figure size 800x600 with 1 Axes>"
      ]
     },
     "metadata": {},
     "output_type": "display_data"
    }
   ],
=======
   "outputs": [],
>>>>>>> upstream/main
   "source": [
    "# visualize it\n",
    "plt.figure(figsize=(8,6))\n",
    "\n",
    "plt.bar(coin_flip.keys(), height=coin_flip.values())\n",
    "\n",
    "plt.ylabel('Probability')\n",
    "plt.xlabel('Result of Coin Flip')\n",
    "plt.ylim(0, 1)\n",
    "plt.show()"
   ]
  },
  {
   "cell_type": "markdown",
   "metadata": {
    "slideshow": {
     "slide_type": "slide"
    }
   },
   "source": [
    "A note - Bernoulli distributions do not need to showcase a fair and balanced trial, as is the case above. Let's look really quickly at a game where the chance of winning is only 10%:"
   ]
  },
  {
   "cell_type": "code",
<<<<<<< HEAD
   "execution_count": 17,
=======
   "execution_count": null,
>>>>>>> upstream/main
   "metadata": {
    "slideshow": {
     "slide_type": "fragment"
    }
   },
<<<<<<< HEAD
   "outputs": [
    {
     "name": "stdout",
     "output_type": "stream",
     "text": [
      "{'Lose': 0.9, 'Win': 0.1}\n"
     ]
    }
   ],
=======
   "outputs": [],
>>>>>>> upstream/main
   "source": [
    "p_success = .1\n",
    "\n",
    "# Let's 'freeze' this distribution\n",
    "rv = stats.bernoulli(p_success)\n",
    "\n",
    "# Create a dict for visualization:\n",
    "unfair_game = {\n",
    "    'Lose' : rv.pmf(k=0),\n",
    "    'Win' : rv.pmf(k=1)\n",
    "}\n",
    "\n",
    "print(unfair_game)\n",
    "# Note the python rounding - not an issue"
   ]
  },
  {
   "cell_type": "code",
<<<<<<< HEAD
   "execution_count": 18,
=======
   "execution_count": null,
>>>>>>> upstream/main
   "metadata": {
    "cell_style": "split",
    "slideshow": {
     "slide_type": "slide"
    }
   },
<<<<<<< HEAD
   "outputs": [
    {
     "data": {
      "image/png": "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\n",
      "text/plain": [
       "<Figure size 800x600 with 1 Axes>"
      ]
     },
     "metadata": {},
     "output_type": "display_data"
    }
   ],
=======
   "outputs": [],
>>>>>>> upstream/main
   "source": [
    "# visualize it\n",
    "plt.figure(figsize=(8,6))\n",
    "\n",
    "plt.bar(unfair_game.keys(), height=unfair_game.values())\n",
    "\n",
    "plt.ylabel('Probability')\n",
    "plt.xlabel('Result of Game')\n",
    "plt.show()"
   ]
  },
  {
   "cell_type": "code",
<<<<<<< HEAD
   "execution_count": 19,
=======
   "execution_count": null,
>>>>>>> upstream/main
   "metadata": {
    "cell_style": "split",
    "scrolled": true,
    "slideshow": {
     "slide_type": "fragment"
    }
   },
<<<<<<< HEAD
   "outputs": [
    {
     "data": {
      "image/png": "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\n",
      "text/plain": [
       "<Figure size 800x600 with 1 Axes>"
      ]
     },
     "metadata": {},
     "output_type": "display_data"
    }
   ],
=======
   "outputs": [],
>>>>>>> upstream/main
   "source": [
    "# visualize it\n",
    "plt.figure(figsize=(8,6))\n",
    "\n",
    "plt.bar(unfair_game.keys(), \n",
    "        height=[rv.cdf(0), rv.cdf(1)], \n",
    "        label='Cumulative Probability')\n",
    "\n",
    "plt.bar(unfair_game.keys(), \n",
    "        height=unfair_game.values(),\n",
    "        label='Unbalanced Bernoulli Discrete Probability')\n",
    "\n",
    "plt.ylabel('Probability')\n",
    "plt.xlabel('Result of Unfair Game')\n",
    "plt.legend(bbox_to_anchor=(1, 1))\n",
    "plt.show()"
   ]
  },
  {
   "cell_type": "markdown",
   "metadata": {
    "slideshow": {
     "slide_type": "slide"
    }
   },
   "source": [
    "Another note - a **Bernoulli** distribution is not the same as a **Binomial** distribution.\n",
    "\n",
    "- Bernoulli shows the probable results of a single trial with only 2 outcomes\n",
    "- Binomial shows the probable summed results of MANY trials with only 2 outcomes"
   ]
  },
  {
   "cell_type": "markdown",
   "metadata": {
    "heading_collapsed": true,
    "hidden": true,
    "slideshow": {
     "slide_type": "slide"
    }
   },
   "source": [
    "## Uniform Distribution"
   ]
  },
  {
   "cell_type": "markdown",
   "metadata": {
    "slideshow": {
     "slide_type": "fragment"
    }
   },
   "source": [
    "\n",
    "The **Uniform** distribution applies when all possible values of the variable are _equally probable_. \n",
    "\n",
    "If I'm rolling a fair die, then the six possible outcomes are all equally probable. That is, the chance that I roll a 1 is 1 in 6, as is the chance that I roll a 2 etc."
   ]
  },
  {
   "cell_type": "code",
<<<<<<< HEAD
   "execution_count": 20,
=======
   "execution_count": null,
>>>>>>> upstream/main
   "metadata": {
    "slideshow": {
     "slide_type": "slide"
    }
   },
<<<<<<< HEAD
   "outputs": [
    {
     "data": {
      "text/plain": [
       "{1: 0.16666666666666666,\n",
       " 2: 0.16666666666666666,\n",
       " 3: 0.16666666666666666,\n",
       " 4: 0.16666666666666666,\n",
       " 5: 0.16666666666666666,\n",
       " 6: 0.16666666666666666}"
      ]
     },
     "execution_count": 20,
     "metadata": {},
     "output_type": "execute_result"
    }
   ],
=======
   "outputs": [],
>>>>>>> upstream/main
   "source": [
    "low = 1\n",
    "high = 6\n",
    "\n",
    "possible_rolls = {}\n",
    "# Scipy stats' randint is a discrete uniform distribution\n",
    "for roll in range(low, high+1):\n",
    "    possible_rolls[roll] = stats.randint.pmf(k=roll, low=low, high=high+1)\n",
    "    \n",
    "possible_rolls"
   ]
  },
  {
   "cell_type": "code",
<<<<<<< HEAD
   "execution_count": 21,
=======
   "execution_count": null,
>>>>>>> upstream/main
   "metadata": {
    "cell_style": "center",
    "slideshow": {
     "slide_type": "slide"
    }
   },
<<<<<<< HEAD
   "outputs": [
    {
     "data": {
      "image/png": "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\n",
      "text/plain": [
       "<Figure size 640x480 with 1 Axes>"
      ]
     },
     "metadata": {},
     "output_type": "display_data"
    }
   ],
=======
   "outputs": [],
>>>>>>> upstream/main
   "source": [
    "# visualize it\n",
    "plt.bar(possible_rolls.keys(), height=possible_rolls.values())\n",
    "\n",
    "plt.ylabel('Probability')\n",
    "plt.xlabel('Result of Die Roll')\n",
    "plt.ylim(0, 1)\n",
    "plt.show()"
   ]
  },
  {
   "cell_type": "code",
<<<<<<< HEAD
   "execution_count": 22,
=======
   "execution_count": null,
>>>>>>> upstream/main
   "metadata": {
    "slideshow": {
     "slide_type": "fragment"
    }
   },
<<<<<<< HEAD
   "outputs": [
    {
     "data": {
      "text/plain": [
       "{1: 0.16666666666666666,\n",
       " 2: 0.3333333333333333,\n",
       " 3: 0.5,\n",
       " 4: 0.6666666666666666,\n",
       " 5: 0.8333333333333334,\n",
       " 6: 1.0}"
      ]
     },
     "execution_count": 22,
     "metadata": {},
     "output_type": "execute_result"
    }
   ],
=======
   "outputs": [],
>>>>>>> upstream/main
   "source": [
    "# 'freeze' the distribution\n",
    "rv = stats.randint(low=low, high=high+1)\n",
    "\n",
    "# using dictionary comprehension (!!) to get the CDF\n",
    "cdf_roll = {roll: rv.cdf(roll) for roll in possible_rolls.keys()}\n",
    "cdf_roll"
   ]
  },
  {
   "cell_type": "code",
<<<<<<< HEAD
   "execution_count": 23,
=======
   "execution_count": null,
>>>>>>> upstream/main
   "metadata": {
    "slideshow": {
     "slide_type": "slide"
    }
   },
<<<<<<< HEAD
   "outputs": [
    {
     "data": {
      "image/png": "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\n",
      "text/plain": [
       "<Figure size 800x600 with 1 Axes>"
      ]
     },
     "metadata": {},
     "output_type": "display_data"
    }
   ],
=======
   "outputs": [],
>>>>>>> upstream/main
   "source": [
    "# visualize it\n",
    "plt.figure(figsize=(8,6))\n",
    "plt.bar(cdf_roll.keys(), height=cdf_roll.values(), \n",
    "        label='Cumulative Probability')\n",
    "\n",
    "plt.bar(possible_rolls.keys(), height=possible_rolls.values(), \n",
    "        label='Uniform Discrete Probability')\n",
    "\n",
    "plt.ylabel('Probability')\n",
    "plt.xlabel('Result of Die Roll')\n",
    "plt.legend()\n",
    "plt.show()"
   ]
  },
  {
   "cell_type": "markdown",
   "metadata": {
    "slideshow": {
     "slide_type": "slide"
    }
   },
   "source": [
    "## Next Up: Continuous Distributions!\n"
   ]
  },
  {
   "cell_type": "markdown",
   "metadata": {
    "slideshow": {
     "slide_type": "slide"
    }
   },
   "source": [
    "### Normal Distribution\n",
    "\n",
    "Suppose I want to simulate the behavior of a certain frog, whose species has an average weight of 15 oz. with a standard deviation of 2.5 oz.:"
   ]
  },
  {
   "cell_type": "code",
<<<<<<< HEAD
   "execution_count": 24,
   "metadata": {
    "slideshow": {
     "slide_type": "slide"
    }
   },
   "outputs": [
    {
     "name": "stdout",
     "output_type": "stream",
     "text": [
      "Continuous Random Variable: \n",
      " [16.57775595 17.38271276 17.09585866 13.42521075 16.7519489  11.34801973\n",
      " 14.89937681 15.30404054 14.22781735 14.76008976 14.00896461 15.4164179\n",
      " 16.20827347 13.12535407 15.25282137 12.5915598  16.06861527 17.38808164\n",
      " 17.36076992 16.29624969  9.55162444 10.37536598 20.78540882 14.07602742\n",
      " 14.51435582 11.20032175 17.48666055 16.04945524 17.32727959 17.23013492\n",
      " 11.96545923  9.9388971  14.27087575 19.53469019 15.0008904  13.84171124\n",
      " 15.71511485 13.73191859 16.16978337 15.29179502 16.17274922 19.99624033\n",
      " 16.0814026  14.65663186 13.62093642  9.73689684 17.71750656 17.73148735\n",
      " 10.45854804 14.71641889 13.76893711 17.86149207 14.36262926 16.24520478\n",
      " 17.20981262 16.43001752 15.0352078  13.89666562 13.96915206 17.27832025\n",
      " 13.25069855 13.87351588 17.02819676 16.04912901 11.78596092 14.24360465\n",
      " 16.03147693 11.20282928 19.21431737 14.61286583 15.0325516  15.95528762\n",
      " 15.05638226 15.84664679 14.98761846 12.0922591  12.23906765 11.27256957\n",
      " 12.67964618 14.29501663 13.6949877  18.36822596 15.31495296 10.86745467\n",
      " 12.22990515 14.24075251 10.05515263 10.85827848 17.6086618  18.262556\n",
      " 15.4499667  16.4279409  17.42325913 14.73402564 16.9107452  18.62435562\n",
      " 15.45393703 14.21402022 13.67004218 16.3285288 ] \n",
      "\n"
     ]
    }
   ],
=======
   "execution_count": null,
   "metadata": {
    "slideshow": {
     "slide_type": "slide"
    }
   },
   "outputs": [],
>>>>>>> upstream/main
   "source": [
    "# Create required parameters for the distribution\n",
    "mu = 15  # mean of the data\n",
    "sigma = 2.5  # standard deviation of the data\n",
    "size = 100  # number of observations to be created\n",
    "\n",
    "# Create a discrete distribution with the given parameter values\n",
    "# Use rvs to create random values within this distribution\n",
    "normal = stats.norm.rvs(loc=mu, scale=sigma, size=size)\n",
    "\n",
    "print(f'Continuous Random Variable: \\n {normal} \\n')"
   ]
  },
  {
   "cell_type": "markdown",
   "metadata": {
    "slideshow": {
     "slide_type": "fragment"
    }
   },
   "source": [
    "The **mean** of our probability density function (PDF) affects where it is centered on the x-axis. This is the `loc` parameter in the `stats` module.\n",
    "\n",
    "The two plots below have the same shape, but different centers."
   ]
  },
  {
   "cell_type": "code",
<<<<<<< HEAD
   "execution_count": 25,
=======
   "execution_count": null,
>>>>>>> upstream/main
   "metadata": {
    "slideshow": {
     "slide_type": "slide"
    }
   },
<<<<<<< HEAD
   "outputs": [
    {
     "data": {
      "image/png": "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\n",
      "text/plain": [
       "<Figure size 640x480 with 1 Axes>"
      ]
     },
     "metadata": {},
     "output_type": "display_data"
    }
   ],
=======
   "outputs": [],
>>>>>>> upstream/main
   "source": [
    "# Plotting the probability density function for continuous data\n",
    "fig, ax = plt.subplots()\n",
    "\n",
    "# Distribution with zero mean\n",
    "mean = 0\n",
    "\n",
    "# Calculate the percentile for x axis using stats.norm.ppf()\n",
    "z_curve = np.linspace(stats.norm(mean, 1).ppf(0.01),\n",
    "                      stats.norm(mean, 1).ppf(0.99),\n",
    "                      100)\n",
    "\n",
    "# Calculate the density values using stats.norm.pdf() for every percentile position\n",
    "# Plot the distribution in red\n",
    "ax.plot(z_curve,\n",
    "        stats.norm(mean, 1).pdf(z_curve),\n",
    "        'r-', lw=5, alpha=0.6, label='z_curve')\n",
    "\n",
    "# Distribution with mean value = 1\n",
    "mean = 1\n",
    "\n",
    "# Calculate the percentile for x axis using stats.norm.ppf()\n",
    "z_curve = np.linspace(stats.norm(mean, 1).ppf(0.01),\n",
    "                      stats.norm(mean, 1).ppf(0.99),\n",
    "                      100)\n",
    "\n",
    "# Calculate the density values using stats.norm.pdf() for every percentile position\n",
    "# Plot the distribution in blue\n",
    "ax.plot(z_curve,\n",
    "        stats.norm(mean, 1).pdf(z_curve),\n",
    "        'b-', lw=5, alpha=0.6, label='norm pdf')\n",
    "\n",
    "ax.set_title(\"Two distributions differing in mean\");"
   ]
  },
  {
   "cell_type": "markdown",
   "metadata": {
    "slideshow": {
     "slide_type": "fragment"
    }
   },
   "source": [
    "The **variance** of our plots describes how closely the points are gathered around the mean. Low variance means tight and skinny, high variance short and wide. This is the `scale` parameter in the `stats` module - but note that the `scale` parameter for the `stats.norm` distribution specifically means the standard deviation (aka the square root of variance)\n",
    "\n",
    "The two plots below have the same mean, but different variance:"
   ]
  },
  {
   "cell_type": "code",
<<<<<<< HEAD
   "execution_count": 26,
=======
   "execution_count": null,
>>>>>>> upstream/main
   "metadata": {
    "slideshow": {
     "slide_type": "slide"
    }
   },
<<<<<<< HEAD
   "outputs": [
    {
     "data": {
      "text/plain": [
       "Text(0.5, 1.0, 'Two distributions differing in variance')"
      ]
     },
     "execution_count": 26,
     "metadata": {},
     "output_type": "execute_result"
    },
    {
     "data": {
      "image/png": "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\n",
      "text/plain": [
       "<Figure size 640x480 with 1 Axes>"
      ]
     },
     "metadata": {},
     "output_type": "display_data"
    }
   ],
=======
   "outputs": [],
>>>>>>> upstream/main
   "source": [
    "# Create 2 normal distributions with same mean, but different sigma/scale\n",
    "fig, ax = plt.subplots()\n",
    "\n",
    "mean = 1\n",
    "std = 1\n",
    "z_curve = np.linspace(stats.norm(mean, std).ppf(0.01),\n",
    "                      stats.norm(mean, std).ppf(0.99), \n",
    "                      100)\n",
    "\n",
    "ax.plot(z_curve, stats.norm(mean, std).pdf(z_curve),\n",
    "        'r-', lw=5, alpha=0.6, label='z_curve')\n",
    "\n",
    "mean = 1\n",
    "std = 3\n",
    "z_curve = np.linspace(stats.norm(mean, std).ppf(0.01),\n",
    "                      stats.norm(mean, std).ppf(0.99), \n",
    "                      100)\n",
    "\n",
    "ax.plot(z_curve, stats.norm(mean, std).pdf(z_curve),\n",
    "        'b-', lw=5, alpha=0.6, label='norm pdf')\n",
    "\n",
    "ax.set_title(\"Two distributions differing in variance\")"
   ]
  },
  {
   "cell_type": "markdown",
   "metadata": {
    "heading_collapsed": true,
    "hidden": true,
    "slideshow": {
     "slide_type": "slide"
    }
   },
   "source": [
    "## Some Things to Be Aware Of"
   ]
  },
  {
   "cell_type": "markdown",
   "metadata": {
    "hidden": true,
    "slideshow": {
     "slide_type": "fragment"
    }
   },
   "source": [
    "- For continuous random variables, obtaining probabilities for observing a specific outcome is not possible \n",
    "- Be careful with interpretation of PDF\n",
    "\n",
    "We can use the CDF to learn the probability that a variable will be less than or equal to a given value.\n",
    "\n",
    "Typically, you'll see something like this equation associated with the CDF:\n",
    "\n",
    "$$F(x) = P(X\\leq x)$$"
   ]
  },
  {
   "cell_type": "markdown",
   "metadata": {
    "slideshow": {
     "slide_type": "slide"
    }
   },
   "source": [
    "###  Code with Python:\n",
    "\n",
    "Let's use the ```scipy.stats``` module to calculate the cumulative density for both discrete and continuous distributions.\n",
    "\n",
    "For discrete distributions, let's try to calculate the probability of the **binomial** distribution for the number of successes equal or less than 8 successes out of 20 trials (assuming the trials are fairly balanced, so equally as likely to get a success as a failure).\n",
    "\n",
    "$$P(x \\leq 8)$$"
   ]
  },
  {
   "cell_type": "code",
<<<<<<< HEAD
   "execution_count": 27,
=======
   "execution_count": null,
>>>>>>> upstream/main
   "metadata": {
    "slideshow": {
     "slide_type": "slide"
    }
   },
   "outputs": [],
   "source": [
    "# Need the probability of success\n",
    "p_success = .5"
   ]
  },
  {
   "cell_type": "code",
<<<<<<< HEAD
   "execution_count": 28,
=======
   "execution_count": null,
>>>>>>> upstream/main
   "metadata": {
    "ExecuteTime": {
     "end_time": "2021-10-08T21:00:07.840276Z",
     "start_time": "2021-10-08T21:00:07.836086Z"
    },
    "slideshow": {
     "slide_type": "fragment"
    }
   },
<<<<<<< HEAD
   "outputs": [
    {
     "data": {
      "text/plain": [
       "0.2517223358154297"
      ]
     },
     "execution_count": 28,
     "metadata": {},
     "output_type": "execute_result"
    }
   ],
=======
   "outputs": [],
>>>>>>> upstream/main
   "source": [
    "# Create the random discrete value for the number of success\n",
    "k = 8\n",
    "n_trials = 20\n",
    "\n",
    "# Calculate the probability for x equal or less than 8\n",
    "stats.binom.cdf(k, n=n_trials, p=p_success)\n",
    "# Same as:\n",
    "# stats.binom(n=n_trials, p=p_success).cdf(k=k)"
   ]
  },
  {
   "cell_type": "code",
<<<<<<< HEAD
   "execution_count": 29,
=======
   "execution_count": null,
>>>>>>> upstream/main
   "metadata": {
    "slideshow": {
     "slide_type": "slide"
    }
   },
<<<<<<< HEAD
   "outputs": [
    {
     "data": {
      "image/png": "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\n",
      "text/plain": [
       "<Figure size 800x600 with 1 Axes>"
      ]
     },
     "metadata": {},
     "output_type": "display_data"
    }
   ],
=======
   "outputs": [],
>>>>>>> upstream/main
   "source": [
    "# Visualizing this!\n",
    "rv = stats.binom(n=n_trials, p=p_success)\n",
    "\n",
    "nums = range(0, 21)\n",
    "\n",
    "plt.figure(figsize=(8, 6))\n",
    "plt.bar(nums, rv.pmf(nums),\n",
    "        color=['green' if n <= 8 else 'blue' for n in nums])\n",
    "\n",
    "plt.plot(nums, rv.cdf(nums), color='orange',\n",
    "         label='Binomial Cumulative Distribution')\n",
    "\n",
    "plt.vlines(x=k, ymin=0, ymax=rv.cdf(8), color='red',\n",
    "           label='K=8')\n",
    "plt.hlines(y=rv.cdf(k), xmin=0, xmax=k, color='red')\n",
    "\n",
    "plt.xlabel('Number of Successes')\n",
    "plt.xticks(ticks=nums)\n",
    "plt.legend()\n",
    "plt.show()"
   ]
  },
  {
   "cell_type": "markdown",
   "metadata": {
    "slideshow": {
     "slide_type": "slide"
    }
   },
   "source": [
    "For continuous distribution, we can calculate the probability of the normal distribution for a random value of x equal or less than 18.\n",
    "\n",
    "$$P(x \\leq 18)$$"
   ]
  },
  {
   "cell_type": "code",
<<<<<<< HEAD
   "execution_count": 31,
=======
   "execution_count": null,
>>>>>>> upstream/main
   "metadata": {
    "slideshow": {
     "slide_type": "fragment"
    }
   },
   "outputs": [],
   "source": [
    "# Need our mean and standard deviation - same as our frog example\n",
    "mu = 15\n",
    "sigma = 2.5"
   ]
  },
  {
   "cell_type": "code",
<<<<<<< HEAD
   "execution_count": 32,
=======
   "execution_count": null,
>>>>>>> upstream/main
   "metadata": {
    "ExecuteTime": {
     "end_time": "2021-10-08T21:00:08.157104Z",
     "start_time": "2021-10-08T21:00:08.152825Z"
    },
    "slideshow": {
     "slide_type": "fragment"
    }
   },
<<<<<<< HEAD
   "outputs": [
    {
     "data": {
      "text/plain": [
       "0.8849303297782918"
      ]
     },
     "execution_count": 32,
     "metadata": {},
     "output_type": "execute_result"
    }
   ],
=======
   "outputs": [],
>>>>>>> upstream/main
   "source": [
    "# Create the random x value for calculation\n",
    "x = 18\n",
    "\n",
    "# Calculate the probability for x equal or less than 18\n",
    "stats.norm.cdf(x=x, loc=mu, scale=sigma)"
   ]
  },
  {
   "cell_type": "code",
<<<<<<< HEAD
   "execution_count": 33,
=======
   "execution_count": null,
>>>>>>> upstream/main
   "metadata": {
    "slideshow": {
     "slide_type": "slide"
    }
   },
<<<<<<< HEAD
   "outputs": [
    {
     "data": {
      "image/png": "iVBORw0KGgoAAAANSUhEUgAAAp8AAAH5CAYAAADHrVXSAAAAOXRFWHRTb2Z0d2FyZQBNYXRwbG90bGliIHZlcnNpb24zLjYuMiwgaHR0cHM6Ly9tYXRwbG90bGliLm9yZy8o6BhiAAAACXBIWXMAAA9hAAAPYQGoP6dpAABpIUlEQVR4nO3dd3wUdeL/8dfupndCQkJIIfQmIEW6WBAEC6goioqIjbP9hLMclrOeWDnlPCxfxYYFCyqniKJSxUaT3gMB0kggve/O74+BQCRAAklmN3k/H499ZHZmdve92ZC8mfIZm2EYBiIiIiIi9cBudQARERERaTxUPkVERESk3qh8ioiIiEi9UfkUERERkXqj8ikiIiIi9UblU0RERETqjcqniIiIiNQbL6sDVIfL5SIlJYXg4GBsNpvVcURERETkLwzDIC8vj5iYGOz242/f9IjymZKSQlxcnNUxREREROQk9uzZQ2xs7HGXe0T5DA4OBsw3ExISYnEaEREREfmr3Nxc4uLiKnrb8XhE+Ty8qz0kJETlU0RERMSNnewQSZ1wJCIiIiL1RuVTREREROqNyqeIiIiI1BuPOOazupxOJ2VlZVbHEBE35uPjc8IhQEREpG41iPJpGAZpaWlkZ2dbHUVE3JzdbicxMREfHx+ro4iINEoNonweLp7NmjUjICBAA9GLSJUOX7AiNTWV+Ph4/a4QEbGAx5dPp9NZUTybNm1qdRwRcXORkZGkpKRQXl6Ot7e31XFERBodjz/w6fAxngEBARYnERFPcHh3u9PptDiJiEjj5PHl8zDtPhOR6tDvChERazWY8ikiIiIi7q/G5XPJkiVccsklxMTEYLPZ+PLLL0/6mMWLF9OzZ0/8/Pxo1aoVr7322qlkFREREREPV+PyWVBQQLdu3XjllVeqtX5SUhIjRoxg0KBBrF69mgcffJC7776bzz//vMZhxXqLFi3CZrN59LBWtfUe3O178dhjj9G9e/daf96/vs933nmHsLCwWn+dql5LREQanhqXz+HDh/PUU09x+eWXV2v91157jfj4eF566SU6duzIzTffzIQJE3jhhRdqHLYhGT9+PDabjWeeeabS/C+//LJBHJO2evVqrrzySqKiovDz86Ndu3bccsstbN261epop+Scc87hnnvuqTSvf//+pKamEhoaWmevu2vXLmw2W8UtODiYzp07c8cdd7Bt27ZK69577738+OOP1XremhTVunqfVn1PRUTEWnV+zOcvv/zC0KFDK80bNmwYK1asOO7ViEpKSsjNza10a4j8/Px49tlnOXjwYK0+b2lpaa0+X019/fXX9O3bl5KSEj744AM2bdrE+++/T2hoKI888oil2WqTj48P0dHR9fKfhR9++IHU1FT+/PNPnn76aTZt2kS3bt0qlc2goKBaH26srKysXt9nfb6WiIhYo87LZ1paGlFRUZXmRUVFUV5eTmZmZpWPmTp1KqGhoRW3uLi46r+gYUBpgTU3w6jR92bIkCFER0czderUE673+eef07lzZ3x9fWnZsiUvvvhipeUtW7bkqaeeYvz48YSGhnLLLbdU7Br9+uuvad++PQEBAYwePZqCggLeffddWrZsSZMmTbjrrrsqDTkza9YsevXqRXBwMNHR0YwdO5aMjIxqv6fCwkJuvPFGRowYwdy5cxkyZAiJiYn06dOHF154gddffx2oetftX7f6Ht46N3PmTOLj4wkKCuJvf/sbTqeT5557jujoaJo1a8a//vWviscc3lK4Zs2ainnZ2dnYbDYWLVpUZeasrCyuueYaYmNjCQgI4IwzzuCjjz6qWD5+/HgWL17Myy+/XLEFcteuXZV2Eefk5ODv78/8+fMrPfecOXMIDAwkPz8fgH379jFmzBiaNGlC06ZNGTlyJLt27Trp97Vp06ZER0fTqlUrRo4cyQ8//ECfPn246aabKj6/v27NXLRoEWeddRaBgYGEhYUxYMAAdu/ezTvvvMPjjz/On3/+WfF+3nnnHcA8E/y1115j5MiRBAYG8tRTTx13V/iXX35Ju3bt8PPz44ILLmDPnj2VvmejRo2qtP4999zDOeecU+3v6WHV+fl/+umnmTBhAsHBwcTHx/PGG2+c9HsqIiLWqJdB5v+6FcM4VNKOt3VjypQpTJ48ueJ+bm5u9QtoWSE8HXNqQU/XgyngE1jt1R0OB08//TRjx47l7rvvJjY29ph1Vq5cyVVXXcVjjz3GmDFjWL58ObfffjtNmzZl/PjxFes9//zzPPLIIzz88MMALFu2jMLCQqZPn87HH39MXl4el19+OZdffjlhYWHMmzePnTt3csUVVzBw4EDGjBkDmFtNn3zySdq3b09GRgaTJk1i/PjxzJs3r1rv6bvvviMzM5P777+/yuU1PVZwx44dfPvtt8yfP58dO3YwevRokpKSaNeuHYsXL2b58uVMmDCB888/n759+9bouQ8rLi6mZ8+ePPDAA4SEhPDNN99w/fXX06pVK/r06cPLL7/M1q1b6dKlC0888QRgDlR+dGkMDQ3loosu4oMPPuDCCy+smP/hhx8ycuRIgoKCKCws5Nxzz2XQoEEsWbIELy8vnnrqKS688ELWrl1bo8s92u12/t//+39cdtllrFy5krPOOqvS8vLyckaNGsUtt9zCRx99RGlpKb///js2m40xY8awfv165s+fzw8//FCR/7BHH32UqVOn8u9//xuHw0FSUtIxr19YWMi//vUv3n33XXx8fLj99tu5+uqr+fnnn6uVvzrfU6j+z/+LL77Ik08+yYMPPshnn33G3/72N84++2w6dOhQrTwiIlJ/6rx8RkdHk5aWVmleRkYGXl5ex91F6Ovri6+vb11HcwuXXXYZ3bt359FHH+Wtt946Zvm0adM4//zzK3ZXt2vXjo0bN/L8889X+uN73nnnce+991bcX7ZsGWVlZbz66qu0bt0agNGjR/P++++Tnp5OUFAQnTp14txzz2XhwoUV5XPChAkVz9GqVSumT5/OWWedRX5+PkFBQSd9P4ePQ6ytP/oul4uZM2cSHBxckXfLli3MmzcPu91O+/btefbZZ1m0aNEpl88WLVpU+t7dddddzJ8/n08//ZQ+ffoQGhqKj48PAQEBREdHH/d5rr32WsaNG0dhYSEBAQHk5ubyzTffVJxc9/HHH2O323nzzTcr/uP19ttvExYWxqJFi445POVkDn+Pd+3adUz5zM3NJScnh4svvrji8+/YsWPF8qCgILy8vKp8P2PHjq30c1BV+SwrK+OVV16hT58+ALz77rt07NiR33///ZgsVanu97S6P/8jRozg9ttvB+CBBx7g3//+N4sWLVL5FBFxQ3VePvv168f//ve/SvO+//57evXqVTeXtvMOMLdAWsH71K6y9Oyzz3Leeefx97///ZhlmzZtYuTIkZXmDRgwgJdeegmn04nD4QCgV69exzw2ICCgoniAebhDy5YtK5XIqKioSrvVV69ezWOPPcaaNWs4cOAALpcLgOTkZDp16nTS92LU8NCDk2nZsiXBwcGV8jocDux2e6V5NTk04K+cTifPPPMMs2fPZt++fZSUlFBSUkJgYPW3YgNcdNFFeHl5MXfuXK6++mo+//xzgoODK0rlypUr2b59e6X3A+aW1x07dtQ494n2IISHhzN+/HiGDRvGBRdcwJAhQ7jqqqto3rz5SZ+3qp+lv/Ly8qq0XocOHQgLC2PTpk3VKp/VVd2f/65du1Yst9lsREdHn9bPhIiIxyjJh9wUyEuBvHTIT4O8Q7f8dIjtBRc8YXXKSmpcPvPz89m+fXvF/aSkJNasWUN4eDjx8fFMmTKFffv28d577wEwceJEXnnlFSZPnswtt9zCL7/8wltvvVXpmLpaZbPVaNe3Ozj77LMZNmwYDz74YKWtOWAWjOMdtnC0qorSX8u9zWarct7hgllQUMDQoUMZOnQos2bNIjIykuTkZIYNG1btk5jatWsHwObNm+nXr99x17Pb7ce8j6pOQKvpezhcSo9+7uOd2HbYiy++yL///W9eeuklzjjjDAIDA7nnnntqfOKWj48Po0eP5sMPP+Tqq6/mww8/ZMyYMXh5mf/MXC4XPXv25IMPPjjmsZGRkTV6LTCLGUBiYmKVy99++23uvvtu5s+fz+zZs3n44YdZsGDBSbcQV7d0V1V6D8+r7ud7MtX9+T/Rz4SIiMdylkHuPsjeAzl7jnzNTTlyK8k58XPY6+UIyxqpcaIVK1Zw7rnnVtw/fGzmDTfcwDvvvENqairJyckVyxMTE5k3bx6TJk3iv//9LzExMUyfPp0rrriiFuI3HM888wzdu3evKG+HderUiWXLllWat3z5ctq1a1ex1ae2bN68mczMTJ555pmKY2xXrFhRo+cYOnQoERERPPfcc3zxxRfHLM/OziYsLIzIyEjy8vIoKCioKDtHnyR0qg6XuNTUVM4888xqPe/SpUsZOXIk1113HWCWxG3btlXaTe3j41Ota4Ffe+21DB06lA0bNrBw4UKefPLJimU9evRg9uzZNGvWjJCQkJq+tUpcLhfTp08nMTGx4n1W5cwzz+TMM89kypQp9OvXjw8//JC+fftW+/0cT3l5OStWrKjYyrllyxays7MrdnNHRkayfv36So9Zs2ZNpZJYnQz1+fMvImKJwgNwIAkOHr7tggO7zK95KWBU4z/SvqEQHF35FhQNwVEQ3qqO30DN1bh8nnPOOSfctXr4rNmjDR48mFWrVtX0pRqVM844g2uvvZb//Oc/leb//e9/p3fv3jz55JOMGTOGX375hVdeeYUZM2bUeob4+Hh8fHz4z3/+w8SJE1m/fn2l8lQdgYGBvPnmm1x55ZVceuml3H333bRp04bMzEw++eQTkpOT+fjjj+nTpw8BAQE8+OCD3HXXXfz+++9V/uzUlL+/P3379uWZZ56hZcuWZGZmVpyEdTxt2rTh888/Z/ny5TRp0oRp06aRlpZWqXy2bNmS3377jV27dhEUFER4eHiVzzV48GCioqK49tpradmyZaWtjNdeey3PP/88I0eO5IknniA2Npbk5GTmzJnDfffdV+UJZ4dlZWWRlpZGYWEh69ev56WXXuL333/nm2++qbKEJSUl8cYbb3DppZcSExPDli1b2Lp1K+PGjat4P4f3WsTGxhIcHFyj46y9vb256667mD59Ot7e3tx555307du3ooyed955PP/887z33nv069ePWbNmsX79+kpFuTrf0/r8+RcRqTPlpXBgB2RuhaztkLnd/Jq1HYoOnPixDl8IjYWwOAg9fGsBIYdvzcE3+MTP4Wbcb1tsI/bkk0/yySefVJrXo0cPPvnkE/75z3/y5JNP0rx5c5544oljds/XhsjISN555x0efPBBpk+fTo8ePXjhhRe49NJLa/Q8I0eOZPny5UydOpWxY8dWjFZw3nnn8dRTTwHmMYmzZs3ivvvu44033mDIkCE89thj3Hrrraf9PmbOnMmECRPo1asX7du357nnnjvhyTyPPPIISUlJDBs2jICAAG699VZGjRpFTs6RXRn33nsvN9xwA506daKoqKjKk3DA3N17zTXX8Pzzz/PPf/6z0rKAgACWLFnCAw88wOWXX05eXh4tWrTg/PPPP+mW0CFDhlQ8R0JCAueeey5vvPEGbdq0qXL9gIAANm/ezLvvvktWVhbNmzfnzjvv5LbbbgPgiiuuYM6cOZx77rlkZ2fz9ttv1+hnKiAggAceeICxY8eyd+9eBg4cyMyZMyuWDxs2jEceeYT777+f4uJiJkyYwLhx41i3bl3FOtX5ntbnz7+IyGlzlpuFMn097N8C+zebt6wdYJxgT09wc2iSCE1aQvihr01aQlg8BDYDe52PjFmvbEZtnyFSB3JzcwkNDSUnJ+eYP9LFxcUkJSWRmJiIn5+fRQlFxFPod4aI1IqibEhbC2nrIH2D+XX/FnCWVL2+TzBEtoOmbaFpG2jaGiLamrvFPexcleM5UV87mrZ8ioiIiJxIcQ6krIHUNZCy2pw+WPUeMLwDIaoTNOsIkR0gsj1EdoSQGPOkaFH5FBEREangckLGJti3Avb+AXtXmFs0qWJHcVg8RHeFqC4Q3QWiOkNYywa3m7y2qXyKiIhI41VWZBbM5F9g98/mdGn+seuFxUPMmdC8O8R0N78GVH3yqZyYyqeIiIg0HqUFZtFMWgq7l5u70V1/GYfYJwha9IDY3uatRS8Iqvl4zFI1lU8RERFpuJxl5tbMpMWQtAT2/H5s2QxuDvH9IKG/+bVZR7BrLOG6ovIpIiIiDUv2Htj+g3nbuRhK8yovD4mFVoOh5UCzbDZpqZOB6pHKp4iIiHg2ZzkkL4et35mFc//mysv9wyHxbLNwJg42hzdS2bSMyqeIiIh4npI82P4jbJlnls7i7CPLbHbzWM02F0Cb882Tg3QGuttQ+RQRERHPUHQQNn8DG7+CnYvAWXpkmX84tBsGbYdCq3N0Jrob038DGoglS5ZwySWXEBMTg81m48svvzxmnfz8fO68805iY2Px9/enY8eOvPrqq/UfVkREpLqKDsLqWTBrNDzfBr66A7Z9bxbP8FbQ704YPw/u3QaXvQZdLlfxdHPa8tlAFBQU0K1bN2688UauuOKKKteZNGkSCxcuZNasWbRs2ZLvv/+e22+/nZiYGEaOHFnPiUVERI6jtNDcnb72E9jxU+Wz05t1hs6joOOl5tWDdOymx1H5tMj+/fs544wzuPvuu3nwwQcB+O233xg0aBBff/01Q4cOrdHzDR8+nOHDh59wnV9++YUbbriBc845B4Bbb72V119/nRUrVqh8ioiItVxO2LUU/pwNm+ZWHuj9cOHsNMq8Prp4tIZbPgsK6vf1AgNrtHpkZCQzZ85k1KhRDB06lA4dOnDddddx++23M3ToUJYuXXrSMvnggw9WFNfqGDhwIHPnzmXChAnExMSwaNEitm7dyssvv1yj7CIiIrUmawesft8snXkpR+aHxUPXMXDGleYWTmkwGm75DAqq39czqrjm60mMGDGCW265hWuvvZbevXvj5+fHM888A0CvXr1Ys2bNCR8fHl6zY1qmT5/OLbfcQmxsLF5eXtjtdt58800GDhxY4+wiIiKnrKwINs6FVe/B7mVH5vuFQefLoNvVENdHu9QbqIZbPj3ECy+8QJcuXfjkk09YsWIFfn5+APj7+9OmTZtafa3p06fz66+/MnfuXBISEliyZAm33347zZs3Z8iQIbX6WiIiIsdI3wgrZprHcpbkmPNsdmh9PvS4HtpdCF6+1maUOtdwy2d+/snXcQM7d+4kJSUFl8vF7t276dq1K0Ct73YvKiriwQcf5IsvvuCiiy4CoGvXrqxZs4YXXnhB5VNEROqGs8wcHun3/6u8lTM03iyc3cdCaKx1+aTeNdzyWcNjMK1QWlrKtddey5gxY+jQoQM33XQT69atIyoqqtZ3u5eVlVFWVob9L4PsOhwOXC7XqcQXERE5vrx0WPWuuaUzL9WcZ3NAhxHQawIknqOB3xuphls+PcBDDz1ETk4O06dPJygoiG+//ZabbrqJr7/+usa73fPz89m+fXvF/aSkJNasWUN4eDjx8fGEhIQwePBg7rvvPvz9/UlISGDx4sW89957TJs2rS7enoiINEbpG+GXV2Ddp0cGgQ+MhB43QK8btZVTVD6tsmjRIl566SUWLlxISEgIAO+//z5du3bl1Vdf5W9/+1uNnm/FihWce+65FfcnT54MwA033MA777wDwMcff8yUKVO49tprOXDgAAkJCfzrX/9i4sSJtfOmRESkcTIM84pDy/8DO348Mj+2N5x1G3S6VMdySgWbYZzCadr1LDc3l9DQUHJyciqK2mHFxcUkJSWRmJhYcbKOiMjx6HeGSC1ylsOGOfDzy5C+3pxns0PHS6DfXRDX29p8Uq9O1NeOpi2fIiIiUjPlpfDnR7BsGhzcZc7zDoQzr4O+f4PwREvjiXtT+RQREZHqKSuCVe+bWzpz95rzApqahbPXTbqmulSLyqeIiIicWFmxedb6sn9DQYY5LygaBtwNPceDj/uPMCPuQ+VTREREqlZeal76cskLRy59GRoPA++B7teCt46blppT+RQREZHKXE5YOxsWPQPZu815IbEw+D6zdDq8rc0nHq3BlE8NlC4i1eEBA3yIWMcwYMs8+OExyNxqzguKgkH3Qs8bNFyS1AqPL58+Pj7Y7XZSUlKIjIzEx8cHm81mdSwRcUOGYbB//35sNhve3tpyI1LJvpXw/SOw+2fzvn8TGDgJet8CPgHWZpMGxePLp91uJzExkdTUVFJSUqyOIyJuzmazERsbi8PhsDqKiHs4uAt+fALWf27e9/KDfnfAgHvA7/hjNYqcKo8vn2Bu/YyPj6e8vByn02l1HBFxY97e3iqeIgDFubDkOfjt9UOXwbRBt2vgvId0CUypUw2ifAIVu9G0K01EROQEXC5Y+zEsePTIsEmtzoELnoTmXS2NJo1DgymfIiIichL7VsG398PeP8z74a3hwmeg7QWg8yWknqh8ioiINHQFmeYZ7KtnAQb4BMHZ90Hf28HLx+p00siofIqIiDRUhmEWzgWPQNFBc17XMTDkcQhpbm02abRUPkVERBqi/Vvg60lHhk6K6gIXvQjxfa3NJY2eyqeIiEhDUlYMS180r8PuKgPvADhnCvT9m65MJG5B5VNERKSh2PUzzL0LDuww77cdBhe9AGHx1uYSOYrKp4iIiKcrLYAfHoffXzfvB0XDiOeg46U6i13cjsqniIiIJ0taAl/dCdm7zfs9xsHQp8Av1NpcIseh8nk8BQVWJxARETm+kjxY/hyseMu8HxoHl7wMbc63NpfISah8Hk9QkNUJRERETuzRQ9de7zXBHD5J12IXD6DyKSIi4qkez4V186DLcKuTiFSbyufx5OdbnUBEROSI/VvhqzsgfT2UGvDiob9TiWdbm0ukhlQ+jycw0OoEIiIi5lWKfn8DFvwTyoshNBzOfxZevNrqZCKnROVTRETEXRVkwpd/g23fm/dbnw8j/wsOHdspnkvlU0RExB3tWgaf3wx5qeDwNYdPOusWc9xOjcgiHkzlU0RExJ24nLDkeVj8LBguiGgHV74DUZ2tTiZSK1Q+RURE3EVuKsy5BXYtNe93vxZGPA8+Og9BGg6VTxEREXewY6G5m70wE7wD4eJp0E0nFUnDo/IpIiJiJZcLlk2Dhf8yd7NHnQFXvg0Rba1OJlInVD5FRESsUpRtns2+ZZ55/8zrYcQL4O1naSyRuqTyKSIiYoW09TD7OjiYZJ7NPuJ56HmD1alE6pzKp4iISH1b+wnMvRvKiyA0Hsa8BzFnWp1KpF6ofIqIiNQXl9O8UtEvr5j3W58PV7wJAeHW5hKpRyqfIiIi9aEoGz6/Cbb/YN4/+z44ZwrYHZbGEqlvKp8iIiJ1LXMbfHQ1ZG0HL3+47FXofJnVqUQsofIpIiJSl7YtgM8mQEkuhMTCNR9C825WpxKxjMqniIhIXTAM89jO7x8BDIjvB1e9D0GRVicTsZTKp4iISG1zlsG8+2Dl2+b9HuNgxIvg5WNtLhE3oPIpIiJSm4pz4NPxsOMnwAbD/gV9bwebzepkIm5B5VNERKS2ZO+BD6+CjI3gHWAOo9ThIqtTibgVlU8REZHasG+VeUZ7fjoERcHY2Ro4XqQKKp8iIiKna8u38OmN5hWLmnU2i2dYnNWpRNySyqeIiMjpWPkufH0PGC7zikVXvgN+IVanEnFbKp8iIiKnwjBgyfOw8F/m/e7XwSUvgcPb0lgi7k7lU0REpKZcTph3L6yYad4fdC+c97DOaBepBpVPERGRmigrgs9vhs1fAzYY8TycdYvVqUQ8hsqniIhIdRVlm2e0J/8CDl+44v+g00irU4l4FJVPERGR6sjfD7Mug7R14BsK13wELQdYnUrE46h8ioiInEz2Hnh/FGRth8BmcP0XEN3F6lQiHknlU0RE5EQyt8N7IyF3L4TGwbivoGlrq1OJeCyVTxERkeNJXQuzLoeC/dC0LYz7EkJjrU4l4tFUPkVERKqS/Bt8cCWU5ED0GXDdFxAUaXUqEY9nP5UHzZgxg8TERPz8/OjZsydLly494foffPAB3bp1IyAggObNm3PjjTeSlZV1SoFFRETq3K5l8P5lZvGM6ws3fK3iKVJLalw+Z8+ezT333MNDDz3E6tWrGTRoEMOHDyc5ObnK9ZctW8a4ceO46aab2LBhA59++il//PEHN99882mHFxERqXU7FsKs0VBWAK3ONU8u8g+zOpVIg1Hj8jlt2jRuuukmbr75Zjp27MhLL71EXFwcr776apXr//rrr7Rs2ZK7776bxMREBg4cyG233caKFStOO7yIiEit2vYDfDgGyoug7VC45mPwCbA6lUiDUqPyWVpaysqVKxk6dGil+UOHDmX58uVVPqZ///7s3buXefPmYRgG6enpfPbZZ1x00UXHfZ2SkhJyc3Mr3UREROrUlm/h42vAWQLtL4Ixs8Dbz+pUIg1OjcpnZmYmTqeTqKioSvOjoqJIS0ur8jH9+/fngw8+YMyYMfj4+BAdHU1YWBj/+c9/jvs6U6dOJTQ0tOIWFxdXk5giIiI1s3EuzL4OnKXmFYuuehe8fK1OJdIgndIJRzabrdJ9wzCOmXfYxo0bufvuu/nnP//JypUrmT9/PklJSUycOPG4zz9lyhRycnIqbnv27DmVmCIiIie34Uv4dDy4yqHLaLhiJji8rU4l0mDVaKiliIgIHA7HMVs5MzIyjtkaetjUqVMZMGAA9913HwBdu3YlMDCQQYMG8dRTT9G8efNjHuPr64uvr/7HKSIidWzjXPhsAhhO6Ho1jJoBdofVqUQatBpt+fTx8aFnz54sWLCg0vwFCxbQv3//Kh9TWFiI3V75ZRwO8x+2YRg1eXkREZHas/kb+OxGFU+Relbj3e6TJ0/mzTffZObMmWzatIlJkyaRnJxcsRt9ypQpjBs3rmL9Sy65hDlz5vDqq6+yc+dOfv75Z+6++27OOussYmJiau+diIiIVNeW+fDJDeau9jOuVPEUqUc1vsLRmDFjyMrK4oknniA1NZUuXbowb948EhISAEhNTa005uf48ePJy8vjlVde4e9//zthYWGcd955PPvss7X3LkRERKpr2wL45HpwlUHny2HUayqeIvXIZnjAvu/c3FxCQ0PJyckhJCTE6jgiIuKptv8IHx0aTqnTyEMnF3nglaYLCiAoyJzOz4fAQGvziFD9vnZKZ7uLiIh4nKQl8PFYs3h2uBiueMszi6eIh1P5FBGRhm/PH/Dh1VBeDO2Gw+i3NZySiEVUPkVEpGFLXQsfXGFeqz1xMFz5Dnj5WJ1KpNFS+RQRkYZr/1Z4/zIozoG4PnDNR7pkpojFVD5FRKRhOrgL3hsJhZkQ3RXGfgI+OjFHxGoqnyIi0vDkpprFMy8FItrD9V+Af5jVqUQElU8REWloCg/A+6PMLZ9NWsK4ryAwwuJQInKYyqeIiDQcJfnwwZWwfzMEx8C4uRDS3OpUInIUlU8REWkYykvNKxftWwH+Tcxd7U0SrE4lIn+h8ikiIp7P5YIvJ8KOn8A7AMZ+Cs06WJ1KRKqg8ikiIp7NMODb+2H952D3hjHvQ1xvq1OJyHGofIqIiGdb/Cz88X+ADS57DdoMsTqRiJyAyqeIiHiuP96ERVPN6RHPwxmjrc0jIiel8ikiIp5p0//gm3vN6cH/gLNusTaPiFSLyqeIiHie5N/g85sBA3qOh3P+YXUiEakmlU8REfEs+7fCR2OgvBjaDYcRL4LNZnUqEakmlU8REfEceWkw6wooOggtesHot8DhZXUqEakBlU8REfEMxbnwwWjISYbwVjB2NvgEWp1KRGpI5VNERNyfsww+GQdp6yAwEq77XNdrF/FQKp8iIuLeDAP+dw/sXAjegTD2E3PLp4h4JJVPERFxb0tfgDWzwGaHK9+GFj2sTiQip0HlU0RE3Ne6z+Cnp8zp4c9Bu2HW5hGR06byKSIi7mn3cvjyb+Z0vzs1iLxIA6HyKSIi7idzO3w8Fpyl0OFiuOBJqxOJSC1R+RQREfdSkAUfXmmO5RnTAy7/P7Drz5VIQ6F/zSIi4j7KS8wtngd2Qmj8obE8A6xOJSK1SOVTRETcg2HA3Lthz6/gGwrXfgpBzaxOJSK1TOVTRETcw7JpsPZjsDngqnegWQerE4lIHVD5FBER622cCz8+YU4PfxZan2dtHhGpMyqfIiJirdQ/4YvbzOmzbtWQSiINnMqniIhYJzcVPrwaygqh9fkwbKrViUSkjql8ioiINUoL4eNrIC8FItqbl850eFmdSkTqmMqniIjUP8OAr+6AlNXgHw5jPwa/UKtTiUg9UPkUEZH6t/RF2DAH7N4wZhaEt7I6kYjUE5VPERGpX5vnwU+HLpd50QvQcoC1eUSkXql8iohI/cnYBHMOnc3e+xboOd7SOCJS/1Q+RUSkfhQegI+uhtJ8aDkILtSZ7SKNkcqniIjUPWcZfHoDHNwFYQlw1Xvg8LY6lYhYQOVTRETq3ncPQdIS8A6Eaz6CgHCrE4mIRVQ+RUSkbq16H35/3Zy+/A2I6mxtHhGxlMqniIjUnb0r4JvJ5vQ5D0LHi63NIyKWU/kUEZG6kZcOs68DZyl0uBjOvs/qRCLiBlQ+RUSk9pWXmicY5aWal8687DWw60+OiKh8iohIXfhuCiT/Ar4hcPUH4BtsdSIRcRMqnyIiUrtWvQ9/vAnY4PL/g4i2VicSETei8ikiIrVn78ojJxid+yC0v9DaPCLidlQ+RUSkduRnVD7BaNC9VicSETek8ikiIqfPWQ6fTYC8FIhoB6Ne1QlGIlIl/WYQEZHT9+NjsGsp+ATBmA/AL8TqRCLiplQ+RUTk9Gz4Epb/x5weNQMi21kaR0Tcm8qniIicuv1b4Ks7zOn+d0OnkdbmERG3p/IpIiKnpjgXPr4WSvOh5SA4/1GrE4mIB1D5FBGRmjMMc4tn1jYIjoHRb4PDy+pUIuIBVD5FRKTmlk+HTXPB7g1XvQdBkVYnEhEPofIpIiI1s2sZ/PC4OT38GYjrbW0eEfEoKp8iIlJ9eWnmeJ6GE7peDb1usjqRiHgYlU8REamewwPJ56dDs05w8TSw2axOJSIeRuVTRESq56cnYffP4BNsHufpE2h1IhHxQCqfIiJycpvnwc8vmdMjX4GItpbGERHPpfIpIiIndmAnfDHRnO57O3QeZWkcEfFsKp8iInJ8ZUXwyTgoyYHYs2DI41YnEhEPp/IpIiLH9+0DkLYOAprCle+Al4/ViUTEw6l8iohI1f6cDaveBWxwxZsQ2sLqRCLSAKh8iojIsfZvga/vMacHPwCtz7M0jog0HCqfIiJSWWkBfHIDlBVC4mAYfL/ViUSkAVH5FBGRyr65F/ZvgqAoc3e73WF1IhFpQFQ+RUTkiNWz4M8PwWaH0TMhqJnViUSkgVH5FBERU/oG+Obv5vS5D0HLgdbmEZEGSeVTRESgJM88zrO8GNoMgYGTrU4kIg2UyqeISGNnGPD1ZMjaBsExcNkbYNefBxGpG/rtIiLS2K2eBes+AZvDPM4zsKnViUSkAVP5FBFpzDI2wbz7zOnzHoKEftbmEZEGT+VTRKSxKi2AT8dDeZE5iPyASVYnEpFGQOVTRKSxmnc/7N8MQdE6zlNE6s0p/aaZMWMGiYmJ+Pn50bNnT5YuXXrC9UtKSnjooYdISEjA19eX1q1bM3PmzFMKLCIiteDPj2HNLHM8zyvehKBIqxOJSCPhVdMHzJ49m3vuuYcZM2YwYMAAXn/9dYYPH87GjRuJj4+v8jFXXXUV6enpvPXWW7Rp04aMjAzKy8tPO7yIiJyC/VvNs9sBBv8DEgdZm0dEGhWbYRhGTR7Qp08fevTowauvvloxr2PHjowaNYqpU6ces/78+fO5+uqr2blzJ+Hh4acUMjc3l9DQUHJycggJCTml5xAREaCsCN4cAunrIfFsuP5LXT7TExUUQFCQOZ2fD4GB1uYRofp9rUa73UtLS1m5ciVDhw6tNH/o0KEsX768ysfMnTuXXr168dxzz9GiRQvatWvHvffeS1FR0XFfp6SkhNzc3Eo3ERGpBd89ZBbPgAi4/P9UPEWk3tVot3tmZiZOp5OoqKhK86OiokhLS6vyMTt37mTZsmX4+fnxxRdfkJmZye23386BAweOe9zn1KlTefzxx2sSTURETmbjV7DiLXP68tchONraPCLSKJ3SCUc2m63SfcMwjpl3mMvlwmaz8cEHH3DWWWcxYsQIpk2bxjvvvHPcrZ9TpkwhJyen4rZnz55TiSkiIocd3A1f3WVOD7jHvISmiIgFarTlMyIiAofDccxWzoyMjGO2hh7WvHlzWrRoQWhoaMW8jh07YhgGe/fupW3btsc8xtfXF19f35pEExGR43GWwec3QUkOxPaG8x62OpGINGI12vLp4+NDz549WbBgQaX5CxYsoH///lU+ZsCAAaSkpJCfn18xb+vWrdjtdmJjY08hsoiI1MjCf8HeP8A3FK54CxzeVicSkUasxrvdJ0+ezJtvvsnMmTPZtGkTkyZNIjk5mYkTJwLmLvNx48ZVrD927FiaNm3KjTfeyMaNG1myZAn33XcfEyZMwN/fv/beiYiIHGv7j7Ds3+b0pdOhSYK1eUSk0avxOJ9jxowhKyuLJ554gtTUVLp06cK8efNISDB/oaWmppKcnFyxflBQEAsWLOCuu+6iV69eNG3alKuuuoqnnnqq9t6FiIgcKy8dvrjNnO41ATqPsjSOiAicwjifVtA4nyIiNeRywazLYedCaNYZbvkRvLW3qcHQOJ/ihupknE8REfEQy6ebxdPLH0bPVPEUEbeh8iki0tDsXQE/PWlOD38WmnWwNo+IyFFUPkVEGpLiHPhsArjKodMo6DHupA8REalPKp8iIg2FYcDXkyF7N4TGwyUvw3EuACIiYhWVTxGRhmLNh7D+M7A5YPRb4B9mdSIRkWOofIqINASZ22Defeb0uQ9C3FnW5hEROQ6VTxERT1deYh7nWVYALQfBwElWJxIROS6VTxERT/fDY5C2FvzD4fL/A7vD6kQiIsel8iki4sm2LYBfZ5jTo2ZASHNr84iInITKp4iIp8pLhy8mmtNn3Qbth1ubR0SkGlQ+RUQ8kcsFX06EwkyI6gIXPGF1IhGRalH5FBHxRL/+F3b8ZF4+84q3wNvP6kQiItWi8iki4mlSVsMPj5vTFz6ty2eKiEdR+RQR8SQl+fDZTeAqg46XQM8brU4kIlIjKp8iIp7k2wfgwA4IaQGXTNflM0XE46h8ioh4ivWfw5pZgA0ufwMCwq1OJCJSYyqfIiKe4OBu+N+hKxedfS+0HGhtHhGRU6TyKSLi7pzlMOdWKMmB2N4w+AGrE4mInDKVTxERd7f0BdjzK/gEm5fPdHhbnUhE5JSpfIqIuLPkX2Hxs+b0xdMgPNHaPCIip0nlU0TEXRVlw+e3gOGCrmOg61VWJxIROW0qnyIi7sgw4OtJkJMMYQkw4gWrE4mI1AqVTxERd/TnR7BhDtgc5uUz/UKsTiQiUitUPkVE3E3WDvjmXnP6nCkQ19vaPCIitUjlU0TEnTjL4POboawAEgbAoMlWJxIRqVUqnyIi7mTRVEhZBX6h5lWM7A6rE4mI1CqVTxERd5G0FJZOM6cvmQ6hsdbmERGpAyqfIiLuoPAAfHEbYMCZ10PnUVYnEhGpEyqfIiJWMwz4+h7I3QfhreHCZ6xOJCJSZ1Q+RUSstvp92PgV2L1h9FvgG2R1IhGROqPyKSJipczt8O0D5vR5D0PMmdbmERGpYyqfIiJWKS+Fz2+CskJIPBv63211IhGROqfyKSJilYVPQeoa8G8Cl70Odv1KFpGGT7/pRESssHMR/DzdnL70FQiJsTSOiEh9UfkUEalvhQfgi4mAAT3HQ8eLrU4kIlJvVD5FROqTYcDcuyAvFSLawbCnrU4kIlKvVD5FROrTyndg89fmsEpXvAk+gVYnEhGpVyqfIiL1Zf8WmD/FnB7yKDTvZm0eERELqHyKiNSH8hJzWKXyImh1LvS9w+pEIiKWUPkUEakPPz4BaevAPxxGvaphlUSk0dJvPxGRurb9R/jlFXN65H8hpLm1eURELKTyKSJSlwoy4cu/mdO9b4YOI6zNIyJiMZVPEZG6Yhjw1R2Qnw6RHWDoU1YnEhGxnMqniEhd+eNN2DofHL5wxVvg7W91IhERy6l8iojUhYxN8P3D5vQFj0N0F2vziIi4CZVPEZHaVlYMn90E5cXQ5gLoM9HqRCIibkPlU0Sktv3wGGRsgMBIGDUDbDarE4mIuA2VTxGR2rT1e/jtVXN65AwIamZtHhERN6PyKSJSW/Iz4Kvbzek+f4N2Q63NIyLihlQ+RURqg8tljudZsB+iusCQx6xOJCLillQ+RURqw2+vwfYfwMvv0LBKflYnEhFxSyqfIiKnK3Ut/PCoOT3saWjWwdo8IiJuTOVTROR0lBbC5zeBsxTaXwS9JlidSETEral8ioicju8ehMytENwcLv2PhlUSETkJlU8RkVO16X+w8m3ABpe9BoFNrU4kIuL2VD5FRE5Fzl746k5zesDd0OocS+OIiHgKlU8RkZpyOWHObVCcDTFnwrkPW51IRMRjqHyKiNTU0mmwexn4BJnDKnn5WJ1IRMRjqHyKiNTEnt9h0VRzesQL0LS1tXlERDyMyqeISHUVZcNnN4HhhDOuhG5XW51IRMTjqHyKiFSHYcDXkyAnGcIS4KJpGlZJROQUqHyKiFTHmg9gwxywOczjPP1CrE4kIuKRVD5FRE4mczvMu9+cPvdBiOttbR4REQ+m8ikiciLlJfDZjVBWAC0HwcBJVicSEfFoKp8iIifyw2OQthb8w+HyN8DusDqRiIhHU/kUETmerd/BrzPM6VEzICTG2jwiIg2AyqeISFVyU+HLv5nTfSZC++HW5hERaSBUPkVE/srlhC9uhcIsiD4DLnjC6kQiIg2GyqeIyF/9/BIkLQHvABj9Nnj5Wp1IRKTBUPkUETnanj/gp3+Z0yOeh4i21uYREWlgVD5FRA4ryobPJ5iXz+wyGrpfa3UiEZEGR+VTRATMy2fOvQuyk6FJS7hYl88UEakLKp8iIgArZsKmuWD3gtEzwS/U6kQiIg2SyqeISNp6mD/FnB7yGLToaWkcEZGG7JTK54wZM0hMTMTPz4+ePXuydOnSaj3u559/xsvLi+7du5/Ky4qI1L7SAvPymc4SaDsU+t5hdSIRkQatxuVz9uzZ3HPPPTz00EOsXr2aQYMGMXz4cJKTk0/4uJycHMaNG8f5559/ymFFRGrdt/dD5lYIioZRr4JdO4REROpSjX/LTps2jZtuuombb76Zjh078tJLLxEXF8err756wsfddtttjB07ln79+p1yWBGRWrX2U1g9C7DBFf8HgRFWJxIRafBqVD5LS0tZuXIlQ4cOrTR/6NChLF++/LiPe/vtt9mxYwePPvpotV6npKSE3NzcSjcRkVqVtQO+vsecHnw/JJ5taRwRkcaiRuUzMzMTp9NJVFRUpflRUVGkpaVV+Zht27bxj3/8gw8++AAvL69qvc7UqVMJDQ2tuMXFxdUkpojIiZWXmMd5luZDfH84+36rE4mINBqndHCT7S9j3xmGccw8AKfTydixY3n88cdp165dtZ9/ypQp5OTkVNz27NlzKjFFRKr2/cOQ+if4h8MVb4Kjev8xFhGR01ej37gRERE4HI5jtnJmZGQcszUUIC8vjxUrVrB69WruvPNOAFwuF4Zh4OXlxffff8955513zON8fX3x9dW1lEWkDmycC7+/YU5f9jqEtrA2j4hII1OjLZ8+Pj707NmTBQsWVJq/YMEC+vfvf8z6ISEhrFu3jjVr1lTcJk6cSPv27VmzZg19+vQ5vfQiIjVxcBd8Zf5HmP53Q7uhJ1xdRERqX433NU2ePJnrr7+eXr160a9fP9544w2Sk5OZOHEiYO4y37dvH++99x52u50uXbpUenyzZs3w8/M7Zr6ISJ0qL4XPJkBJDsT2hvP/aXUiEZFGqcblc8yYMWRlZfHEE0+QmppKly5dmDdvHgkJCQCkpqaedMxPEZF69+PjsG+lednM0TPB4W11IhGRRslmGIZhdYiTyc3NJTQ0lJycHEJCQqyOIyKeZsu38NHV5vSYD6DjxdbmETldBQUQFGRO5+dDYKC1eUSofl/TpTxEpGHL3gNf/s2c7vM3FU8REYupfIpIw1Veao7nWXQQYs6EC56wOpGISKOn8ikiDdePj8PeP8A3FK58B7x8rE4kItLoqXyKSMO0+Rv45RVzetQMaNLS0jgiImJS+RSRhufgLvji0HGe/e7UcZ4iIm5E5VNEGpbyEvh0/JHxPIc8ZnUiERE5isqniDQs3z8MKavBvwmMflvjeYqIuBmVTxFpODZ8cdR129+AsDhr84iIyDFUPkWkYcjcDl/dZU4PnKTrtouIuCmVTxHxfKWF8Mk4KM2DhAFw7sNWJxIRkeNQ+RQRz2YY8M1kyNgAgc0OXbfdy+pUIiJyHCqfIuLZVr0Lf34ENjtc+TYER1udSERETkDlU0Q8V8oamHe/OX3+P6HlQEvjiIjIyal8iohnKjoIn1wPzhJoPwIG3GN1IhERqQaVTxHxPC4XfDERspMhLAFGvQo2m9WpRESkGlQ+RcTz/Pxv2DofHL4w5n3wD7M6kYiIVJPKp4h4lh0/wU9PmdMjnofm3azNIyIiNaLyKSKeI3sPfHYTGC4483roeYPViUREpIZUPkXEM5QVmycYFR2A5t1hxAtWJxIRkVOg8ikinuHb+yFlNfg3MY/z9PazOpGIiJwClU8RcX+r3jMHk8cGV7wFYfFWJxIRkVOk8iki7m3fKvjmXnP6vIegzfnW5hERkdOi8iki7qsgCz654chA8gP/bnUiERE5TSqfIuKenOXw2XjISYbwVuZA8nb9yhIR8XT6TS4i7umHRyFpCXgHwpgPNJC8iEgDofIpIu5n7afwyyvm9KgZENXJ2jwiIlJrVD5FxL2kroW5d5nTAydD51GWxhERkdql8iki7qMgCz6+FsqLoM0QOO9hqxOJiEgtU/kUEffgLIfPbjRPMGqSCFe8CXaH1alERKSWqXyKiHv44VFIWmyeYHT1h+aVjEREpMFR+RQR6/358VEnGP1XJxiJiDRgKp8iYq29K2Hu3eb0wMnQ+TJr84iISJ1S+RQR6+SmwsdjzSsYtRsO5z1idSIREaljKp8iYo2yYph9LeSnQWQHuPwNXcFIRKQR0G96Eal/hgH/+3+wbyX4hcE1H4FfiNWpRESkHqh8ikj9++UVWPsx2Bxw1bvmtdtFRKRRUPkUkfq17QdY8E9z+sKp0OocS+OIiEj9UvkUkfqTsdkcSN5wQY9xcNatVicSEZF6pvIpIvWjIBM+vApKciG+P4x4EWw2q1OJiEg9U/kUkbpXXgKzr4Ps3dCkJYyZBV4+VqcSERELqHyKSN0yDPh6EiT/Ar4hcM1sCGxqdSoREbGIyqeI1K2fX4Y1H4DNDle+Dc06WJ1IREQspPIpInVn09fww2Pm9IXPQpshlsYRERHrqXyKSN1I/RPm3AoY0Ptm6KMz20VEROVTROpCzj74cAyUFZjjeF74jNWJRETETah8ikjtKs41h1TKSzWv2X7lu+DwtjqViIi4CZVPEak9znJzEPn09RDYDK79FPzDrE4lIiJuROVTRGqHYcC398H2H8DLH8Z+DGHxVqcSERE3o/IpIrVj+X9gxUzABqPfghY9rU4kIiJuSOVTRE7fxq9gwSPm9LCnocNF1uYRERG3pfIpIqcn+bdDQyoBZ90Kff9mbR4REXFrKp8icuoyt8FHY6C8GNpdaA6pZLNZnUpERNyYyqeInJq8NJh1ORQdhBa9YPRMsDusTiUiIm5O5VNEaq4kDz64ErKTIbwVjJ0NPoFWpxIREQ+g8ikiNVNeCp+Mg7S1EBgJ130OgRFWpxIREQ+h8iki1WcYMPcu2PETeAfC2E/MLZ8iIiLVpPIpItX34+Ow9mOwOeCqd6FFD6sTiYiIh1H5FJHq+eW/sOzf5vQlL0PbC6zNIyIiHknlU0RObs1H8N2D5vT5/4Qe11ubR0REPJbKp4ic2Jb58NUd5nTfO2DgZGvziIiIR1P5FJHj2/0LfHoDGE7oejUMfUqDyIuIyGlR+RSRqqVvOHL1orbDYOQrYNevDBEROT36SyIixzqQBO9fDsU5ENcXrnwHHN5WpxIRkQZA5VNEKstNgfdGQn4aNOsMYz8GnwCrU4mISAOh8ikiR+TvN4tn9m5okgjXzwH/JlanEhGRBkTlU0RMRdkw6zLI3AohsXDDXAiOtjqViIg0MCqfIgIl+fDBaEhbB4HNYNxXEBZvdSoREWmAVD5FGruyIvjoatj7B/iFwbgvIaKN1alERKSBUvkUaczKS+GTG2DXUvAJguvmQFRnq1OJiEgDpvIp0lg5y+CzG2Hbd+DlD2M/gdieVqcSEZEGTuVTpDFylsFnE2Dz1+Dwhas/gJYDrE4lIiKNgMqnSGPjLIc5t8CmueDwMYtnm/OtTiUiIo2EyqdIY+Jywhe3wYYvwO4NV70PbS+wOpWIiDQiKp8ijYXLCV/eDus/A7sXXPUutL/Q6lQiItLInFL5nDFjBomJifj5+dGzZ0+WLl163HXnzJnDBRdcQGRkJCEhIfTr14/vvvvulAOLyClwOeGrO2Htx2BzmNdq73CR1alERKQRqnH5nD17Nvfccw8PPfQQq1evZtCgQQwfPpzk5OQq11+yZAkXXHAB8+bNY+XKlZx77rlccsklrF69+rTDi0g1OMvNXe1/fmgWz9FvQcdLrE4lIiKNlM0wDKMmD+jTpw89evTg1VdfrZjXsWNHRo0axdSpU6v1HJ07d2bMmDH885//rHJ5SUkJJSUlFfdzc3OJi4sjJyeHkJCQmsQVadycZebJRRu+MHe1X/EWdB5ldSoROV0FBRAUZE7n50NgoLV5RDD7Wmho6En7Wo22fJaWlrJy5UqGDh1aaf7QoUNZvnx5tZ7D5XKRl5dHeHj4cdeZOnUqoaGhFbe4uLiaxBQRMAeQ/3T8UScXvafiKSIilqtR+czMzMTpdBIVFVVpflRUFGlpadV6jhdffJGCggKuuuqq464zZcoUcnJyKm579uypSUwRKSuG2dcdNY7nhzrGU0RE3ILXqTzIZrNVum8YxjHzqvLRRx/x2GOP8dVXX9GsWbPjrufr64uvr++pRBORsiL4+FrY8SN4+ZnFU+N4ioiIm6hR+YyIiMDhcByzlTMjI+OYraF/NXv2bG666SY+/fRThgwZUvOkInJyJXnw0TXmtdq9A+Caj6HVYKtTiYiIVKjRbncfHx969uzJggULKs1fsGAB/fv3P+7jPvroI8aPH8+HH37IRRdp159InSg8AO9eahZPn2C49jMVTxERcTs13u0+efJkrr/+enr16kW/fv144403SE5OZuLEiYB5vOa+fft47733ALN4jhs3jpdffpm+fftWbDX19/cnNDS0Ft+KSCOWmwrvj4L9m8E/HK6fAzFnWp1KRETkGDUun2PGjCErK4snnniC1NRUunTpwrx580hISAAgNTW10pifr7/+OuXl5dxxxx3ccccdFfNvuOEG3nnnndN/ByKN3YEkeG8kZO+G4OZw/ZfQrIPVqURERKpU43E+rVDdcaNEGp2MTfDeKMhPgyaJMO5LaNLS4lAiUuc0zqe4oer2tVM6211E3MCeP+DDK6HoIDTrBNd/AcHRVqcSERE5IZVPEU+0Zb45gHx5EbToBdd+CgHHv3CDiIiIu1D5FPE0q96H//0/MJzQ5gK46l3w0S43ERHxDCqfIp7CMGDJC7DwKfN+92vhkpfB4W1tLhERkRpQ+RTxBC4nzLsPVrxl3h/0dzjvEajGlcVERETcicqniLsrLYQ5t5jXaccGw5+DPrdanUpEROSUqHyKuLO8dPjoakhZBQ4fuPz/oPMoq1OJiIicMpVPEXeVsQk+uApyks2rFl39IST0szqViIjIaVH5FHFHOxbCJ+OgJBfCW5tDKTVtbXUqqYLLZVBY5qSgpJz8knLza3E5haVOSp0uSsvNW8mh6eNd18Nht+HjZcfHYcfHy46vlx1fLwcBPg6C/LwI8vUi0Nf86utlx6bjfUXEQ6l8irible/CN5PBVQ4JA2DMLI3hWc/KnS4y80tJyy0m/ahbVn4pBwpKOVhofj1QUEpOURmuer5OnLcDwgK8aRroR3igD00CfQgP8CEy2JeoEF+iQvyICvEjOsSPsABvFVURcSsqnyLuwuWEHx6F5f8x73cdA5f+B7x8rc3VABmGwf68EnZmFrDnQCF7Dhax90Ahew8WsedgIem5xTUulAZODIpw2QpxUYRhKwHKgDIMWzkG5RiUAc4qHm3DhgPwxoY3NsML8MJm+GDDD5vhj50A7PgDUOaE/Xll7M8rO2kubwfEhPmT0DSI2Cb+xDUJIC7cn/jwABIjAgn201BdIlK/VD5F3EFRNnx+E2z/wbx/zhQY/ICGUjpN5U4XSZkFbEnPY0dGATsz89m53/xaUFJVCTzCwInTdgAnB3DZD+K0ZVHOQZy2HFy2XJzk4rIdulGIQQnU9cdl2LHhi90IwkEIdiMUhxGCnRDzq9EEbyJxGE2wu8JxEEqZE3ZnFbE7q6jKpwwP9KJtsxBaRQbROjKQNs2CaB8dTHSIn7aYikidUPkUsVrmNvOM9qzt4OUPo2ZAl8utTuVxMvNLWL8vh02peWxJy2VLej7bM/Ioc1a9CdPASbltP05bGk57BqWkUm5Lp9yejtOWgZMcsLnq+V2chM2FQRFOWxFO9p98fcMLL6MpXkYUXkYUDiMKbyMKbyMahysaB004UFDOb0kH+C3pQKWHBvra6dg8hA7RIbSPDqFzTAgdo0Pw93HU0ZsTkcZC5VPEStt+gM8mQEkOhMTCNR9C825Wp3J7GXnFrN2Tw/qUHNbvy2H9vlzScourXNdFIWW2ZJyOfZSQTJk9hXLbXspsqWArr+fk9cxWbhZq0qtebATibbTA2xWDlxGLjxGLtyseL6MFBSWwYlc2K3ZlH1nfBq0i/OkWG07nFqGc0SKULi1CCPDRnxIRqT79xhCxgmHAL6/Agn+C4YK4vjDmfQhqZnUyt1Nc5mRDSg6rk7NZvSeb1ckHSck+tmgauCi37aPMnkSpbRel9l2U2XZTbssAWz2fEeQhDFsBpbatlNq3/mWBF95GLD6ulngbCfi4EvFxtcZhNGHH/iJ27N/HnNX7ALDboG1UID0TmtI9Lowz48JoHRmE3a5d9iJSNZVPkfpWkg9z74INc8z7Z14PF72oE4sOOVhQyordB1mx6wB/7DrA2n05lP9l17mBizLbHsodOyi2baPUtp1SexKGreqtn1JDtnLKbLsos++qNNthNMHH1RofVxt8jNb4uNriZUSwJa2ALWkFfPhbMgCBvjbOahlB78RwercMp2tsKL5e2l0vIiaVT5H6lLkNZl8H+zeD3QuGPQ1n3dqoTyzKyCvm150H+HVnFr8nHWB7Rv4x6zg5SKljCyW2LZTYt1Bi34Zhq/oEGqk7TttBihwrKHKsqJjnMJri62qPj6s9fq72eLvaUFDix8It+1m4xTwu1csBXVuE0r91JH1bNaVnQhMdOyrSiNmM44147EZyc3MJDQ0lJyeHkJAQq+OInJqNX8GXd0BpHgRFw1XvQnxfq1PVuwMFpfyyI4tfdmby686qy2apLZkyx2aKbOsosW+k3JZe92eSS+0w7PgYrfB1dcLP2RlfV2cchFVaxWGH7nGhDGgdSd/WZhnVltEaKiiAoCBzOj8fAgOtzSNC9fuayqdIXXOWw4+PHRm/M2EgjJ4JwVGWxqovxWVOVu4+yNJtmSzbvp8N+3I5+peOuQs9iVLHegrtaymxb8Jly7Usr9QyA7yMGPxcnfF1nYGfqyteRkSlVXwccFarcAa3jWJg2wg6RAdrmKeTUfkUN1Tdvqbd7iJ1KTcVPr8Zdi8z7/e/C85/DBwN95+eYRjs2J/Poi37Wbx1P78nHaCkvPKQRaW2XZQ61lFo/5MS+3pctmO3fkoDYYNyWwr59hTyWXCojDbH71AR9XN1pdQZzrJtB1i2zRzuKSzAzjntojmnfTMGtY2gaZCOhxZpSLTlU6SubFsAX9wGhVngEwQj/wudR1mdqk4UlJTz8/ZMFm3dz+It+9mXXfl4zHKyKPX6k0LbKooca3DZsq0JKu7HAG8jAT9Xd/ydZ+Lr6oIdv4rFNgw6xgQxpGMMg9tF0j0uDIfOpNeWT3FL2u0uYhVnGfz4BCyfbt6PPgNGvwMRbSyNVdt2ZxXw0+YMftqcwS87syqdkW5QSrF9PcWOVRTZV1FmS9Yxm1I9hhe+ro74u3rg7+qFjyux0uJgPxvnd2jO+R2jOLtdJKH+jfTyoCqf4oZUPkWscHC3OWj8vkNnA591K1zwJHj7nfhxHqDc6WLl7oP8uDmDHzels2N/QaXlZbYUShyrKbD/QYl93aFrm4ucHocRjp+zh1lGnT2wE1SxzG4z6JEQxtBOzRnSMYpWkUEneKYGRuVT3JDKp0h92/AFzP1/5tWK/ELh0leg06VWpzotBSXlLNm6nwWb0lm4OYODhWUVywzKKbFvoMixgkL7b5TbUyxMKo2CYT+0VbQ3Ac6z8DbiKy2OD/dh+BmxDO0URfe4Jg1797zKp7ghlU+R+lKcA98+AH9+ZN6P7Q1XvAVNEqzNdYoy80tYsDGd7zek8fOOLEqPOlnISS4lXispsP9KkX01hq3QwqTS2Hm5ovB39cbf2Qc/VxdsHNkFH+pvY2jnFlzYOZoBbSLw825gQzmpfIobUvkUqQ+7l8Oc2yAnGWx2GDgZzvkHODzrOLQ9Bwr5bkMa329I549dByoNhVRmS6HY8QcF9uWU2DeBzXXc5xGxis0IwN/ZkwBXH/ydvSrtnvf1hvM6RDG8Swznto8k2M+z/n1WSeVT3JDKp0hdKi+FRU/DspcAA8IS4PI3PGrQ+O0ZeXy7Lo35G9LYkFJ5XM0S21aKvX6jwL6cMtsenSwknsVw4Ofqgr+zL4GufjiOGlfUYTcY0LopF3eN5YJOUTQJ9LEw6GlQ+RQ3pPIpUlfSN8AXEyFtrXm/+3Uw/BnwDbY210kYhsHG1Fzmr0/j2/Vpla4sZOCkxL6eIsevFNh/wWnPtDCpSC0ywMdoS4CzPwHOfngbsRWL7DaD3i3DuLhbHMM6R9Es2INODFT5FDek8ilS25xlsOzfsPg5cJWBfzhc8rJbn1RkGAbr9+Uyb30q365LZVfWkWM0Dcootq+hwLGcIsdvuqqQNAperlgCnQMIcA7Ax2h11BKDM+NDGNktjgu7NCc61M2LqMqnuCGVT5HalLoWvrod0taZ99uPgIv/DcHR1uaqgmEYrN2bw7x1qcxbn8qeA0cGfHdRcmg4pGUUOv7AsBWc4JlEGjYvV7S5RdQ1AF9X+0rLusUFcWm3eEacEU3zUH+LEp6Ayqe4IZVPkdpQXgpLX4ClL4KrHPybwPDn4YzR4EbXnjYMg3X7cvhmbSrfrEtl78GjC2cxxY6VFNiXUuRYgWErtjCpiHtyuCIJcPUn0DkQX1fHSsu6xgYxqns8I85woy2iKp/ihlQ+RU7Xnt/hf/dAxgbzfsdL4KJpENTM0liHHd6l/vW6FOat++sWzmKKHSsocCylyL5CA76L1IDDaEqA0yyiPq6O2LBXLOsWF8TIbm5QRFU+xQ2pfIqcqqJs8/KYK2YCBgQ0hREvQOfLLN/aaRgGm1Lz+HptCt+sS2X3UcdwHimcSyiyr1ThFKkFR4roIHxdnY5aYh4jetmZ8VzYJbr+T1ZS+RQ3pPIpUlOGYV6laP4/ID/dnNf9WvPymIFNLY22JS2Pb9am8PXaVHZmHjlOs2KXumOJtnCK1DGziA44VESP7Jq32Qx6JYQysns8w7tE0zTIt+7DqHyKG1L5FKmJg7vgm3th+wLzftM25glFiWdbFml7Rr65hXNtKtsqDYtUSrFjJfn2JRQ5/tAxnCIWcLgiCHAOJNA1qNLJSnabwVmJTRjVPY5hnaPrbhxRlU9xQyqfItVRWmgOn/Tzy+AsAYcPDPo7DJwEXvWw9eIvdmUW8PWhLZyb0/Iq5huUUexYRYF9KYWO3zBsRSd4FhGpTw5XMwKdAwl0nY2Pq03FfLvNoF/rcEZ1j2No52hC/Wvxykoqn+KGVD5FTsQwYOOX8N3DkLvXnJc4GC56ESLa1muUPQcK+XptKl+vTal0pSGDcortqylwHC6cGhZJxN2ZwzcNItA5qNI4og67wcA2EYw6M5YhHaNO/xKfKp/ihlQ+RY4nfSN8ez/sWmreD42HYf8yz2avpxOK9mUX8e26VP63NpU/92RXzDdwUmxfS6FjKYWO5bhs+cd/EhFxa16uFgQ6BxHoPBtvI/7IfLvB4PaRjOwex/kdmhHo61XzJ1f5FDek8inyV/kZsGgqrHwXDCd4+cGAe2DA/wOfgDp/+dScIuatS+ObtSmsSs6umH/40paFjmUUOH7WlYZEGiBvV7x5jKjz7EqX+PR2GJzXIYpLu8VybodIAnyqWURVPsUNqXyKHFZaCL/8F35+CUoPbUnseAkM/Rc0SajTl07LKebb9al8szaVFbsPVsw3cFFi30ihY+mhwpldpzlExE0Y4G20rNgi6mU0r1jk42VwfodoLunWgnPbN8Pfx3H851H5FDek8inicsKaD2HhvyAv1ZwX0wOGPgktB9bZy6bnFpuXtlyXyopdBzn6H1ixfQNFh7ZwOm0H6iyDiHgAA7yNVoeK6CC8jCOX6/XxgvM7RnFp1xacU1URVfkUN6TyKY2XYcCWefDTU5Cx0ZwXFg/nPwqdLwe7/cSPPwWHt3BWXTg3UeT4mQLHUpy2rFp/bRFpAAzwMdpUnKzkZRy5kpqvF5zXMYpLuh61RVTlU9xQdfvaKRzlLOKmDAN2/GiWzpTV5jy/UDj7Pjjr1lofOiklu4h561L5dn0aK4/apQ5HFU77Mpz2zFp9XRFpgGxQattOqX072V5v42O0PXSM6CAob8a369L5dl06Pl4G57aPYlTbJgy3OrPIKVL5lIZh93L48UlIXm7e9w6APhOh/10QEF5rL5OcVci3683Cueaos9QBiu0bKXIsV+EUkdNjg1LbNkrt2w4V0XaHrqw0EMqj+G5DBktWJ1eUz//9mcLgHi0JOd3hm0TqicqneC7DgN0/w5LnYecic57DF3rfbA4SHxRZKy+zLT2Pb9enMX99GhtTjx6H0zxpyNylvly71EWk9tmg1LaVUvvWQ0W0NQHOgXiX9a5Y5f7P1lL+zTYGtIlgeJdoLugUTXhdXVlJpBaofIrnMQzY/qNZOvf8as6ze0GPcTDoXghtcZpPb7B2bw7fbUjjuw1p7Nh/ZHB3c1ikdRQ6fqHQsRyn7eAJnklEpBbZoNS2g1L7Dkpd71bMjmliZ0eBwaIt+1m0ZT9T5qzjrMRwLuwczdDO0cSE+VsYWuRYOuFIPIfLZZ5ItOR5SF1jznP4wJnXm2N1nsawSeVOF78nHeC7DWl8vzGd1Jwj10s3KKPYvoYCx3KKHL9pHE4RsVxAKRQ8bU7/tvlHmjbpzbfr0pi/Ia3SldIAusaGMqxzNMM6R9GmWbAFaaWx0Nnu0nCUFcGfH5tjdWZtM+d5B0CvCdDvTghpfuLHH0dBSTlLtu5nwcZ0ftycQU5RWcUyF0UUO1ZSYF9OkWMFhq2wNt6JiEit+Gv57NP+vIplyVmFfL/R3HOzYvdBjv4r3yoikAs6RTG0cxTd45rgsNfPVd2kcVD5FM9XkAl/vAm//x8UHjqBxzcUzroZ+t4OgRE1fsqM3GJ+3JzBgo3pLNueSWm5q2KZkxyKvf6gwP4zRfY1YCs7/hOJiFjoROXzaPvzSvhhUzrfbUjj5+2ZlDmP/MmPCPLh/A5RXNApigFtIk48qL1INWioJfFc6Rvg9zfMrZ3lh3Z/h8aZhbPH9eBb/d1GhmGwISWXHzdl8OPmdNbuzam0vMyWQrHjDwrsyymxbwKb6zjPJCLieSKDfbnmrHiuOSuevOIyFh/a2/PT5gwy80uZvWIPs1fswc/bzoDWEZzfMYrzOzYjKsTP6ujSgKl8intwlsHmr82tnLt/PjI/5kxzuKSOI8FRvR/XolIny3dk8tPmDBZuziDlqOM3AUpsWw5t4VxOmS0ZtNdJRBqBYD9vLu4aw8VdYyhzuvht5wEWbEzjh00Z7Msu4sfNGfy4OQO+gDNahHJeh2ac16EZZ7QIxa7d81KLtNtdrJWXBivfhZVvH7kEps0BHS6CPrdBwgCwnfyXXnJWIQu3ZPDT5gx+2ZlVaXe6i2JKHGsotP9GoeMPXUddRDxedXe7V4dhGGxOy+PHTen8sCmDP/dmVzpONCLIh8HtzCI6sG0Eof4aT1Sqpt3u4r6c5bB9Aax6H7bOB8Npzg+MhJ7joeeNJx0uqbjMya87s1i8dT+Lt+5n51HDIQGU29IPnTD0OyX2tRi20jp6MyIins1ms9GxeQgdm4dw53lt2Z9XwsLNGSzcksHSbZlk5pfy+aq9fL5qLw67jZ7xTRjcPpLB7SLp1DxEW0WlxlQ+pf4c2AmrZ8HqDyA/7cj8uD7Q+xbodOlxL4FpGAY79uezZGsmi7fu59edWZQctXXTHH9zI8WOlRTaf9fudBGRUxQZ7MtVveO4qnccpeUuVuw6YB7GtCWDHfsL+H3XAX7fdYDnv9tCRJAvZ7eLYHC7SAa2iaBpUO1exlgaJpVPqVtFB2HjV/Dn7COXvgQIaArdrjEHho9sX+VDs/JLWLY9k6XbMlm2LZO03MrHbpbb9lPiWE2hfQVF9j8xbAVVPo+IiJwaHy87/dtE0L9NBA9f3InkrEIWb9vP4i37Wb4jk8z8Euas2secVfsA6NQ8hEHtIhjUJpJeLZvg560z6OVYKp9S+8pLYNsCWPsxbP0OnId3edug9Xlm4Ww/ArwqX/6toKSc33cdYPn2TH7enlXpUpYABqWHtm6uotC+Qls3RUTqWXzTAK5vmsD1fRPMraK7D7B4y36WbMtkU2ouGw/dXl+8E18vO2clhtOvdVMGtI6gS4tQjSsqgMqn1BZnGexcDBu/gE1fQ3H2kWXNOkHXMXDGaAiNrZhdXOZkzZ5slu/IYvn2TNbsyabcVfn8t1LbTkq8/qTQtpIS+0Yduyki4iZ8vOz0bx1B/9YRTMEcU/TnQ3urlm7bT0ZeyaHpTGALIX5e9G3VlP6tm9K/TQRtmwVhq8YJpdLwqHzKqXOWQdJi2PAFbP7G3MV+WHBzs2x2HQPRZwBm2Vy9I4tfd5q31XsOUlpeuWyW29Iocayj0LaGYsefOjNdRMRDRAb7MurMFow6swWGYbAtI5+fD+3J+m1nFrnF5Xy/MZ3vN6YDEB7oQ5/EcPq2akrfVk1p2yxIJy81EiqfUjPFubDjR9g8D7Z9B8VHDdoeGAkdL4XOl0FCf3JLXazcfZA/1mxmxa6DrNlbRdnkAKWO9RTZ11Bs/5Nye3o9vyEREaltNpuNdlHBtIsK5sYBiZQ7XaxPyWX5jkyWb89i5e6DHCgo5dv1aXy73jwBtUmAN71ahnNWy3B6J4bTOSYEb4fd4ncidUHlU04uZ6957OaWeZC05KhjOKkonEankewL7cHKPbmsWnuQ3+cuZ3NqLn8dRLacLEodGyiy/0mxfR3lthQdtyki0sB5Oex0jwuje1wYt5/ThtJyF+v2ZfPrzgP8ujOLFbsOcrCwjAUb01lwaMuov7eDM+PD6NUynJ4JTegeF6YxRhsIlU85VnkJJP9injS0/UfYv6ny8vDWlLcbzvbwwfxcnMjKPbms/Pgg6blLjnmqMlsKpY5NFNnWU2LfoLIpIiL4eNnpmRBOz4Rw7jjXLKPrU3L4I+kAf+w6wB+7DpJTVGaeE7AjCzCvN9KuWTA9EppUlNFWEYHaVe+BVD4FDAMyNpnHb+5cBElLoezIsEWGzU5JVA+2NxnET/Tmh/2hbFyaS7mzDNh6ZD3KKbXtpMyx1Sybjg04bQePfT0REZGj+HjZ6RHfhB7xTbhtcGtcLvOY0d93HWDV7oOsSj7I7qxCtqTnsSU9j49+TwYgxM+Lboe2qB6+aaxR96fy2RgZBhzcZe5CT1psfi3YX2mVYt8Itgb3YaGzG58cbMO+XX6w6/BS8zhPJ9mU2rdS4thEsW0jpfbtGLaS+nwnIiLSANntNtpHB9M+Opjr+yYA5tn0q5IPsmr3QVbuPsi6fTnkFpcfdUa9qUWYP2e0COWM2FDza4tQmgT6HO+lxAIqn42BywUZG81d6buXm18PX0f9kDK7L5u8u/BTSXu+L+nCpuJ4jJwjB3q7KKHMvoMy+3aKbJsptW+h3JauXegiIlIvIoN9GdY5mmGdowEoc7rYkpbH6j3Z/LknmzV7stmekc++7CL2ZRcxf8ORK+nFNvGnc0wInWNC6dQ8hM4tQogO8dNQTxZR+WyIig7CvpWwdwXs/cO8HX1WOlCGF2uN1ixzduZnZ2fWGG0oxTyQ26CMUtt2yh07KbZtocS+/dCA7k4r3o2IiMgxvB12urQIpUuL0Iqto3nFZazfl8v6fTms3ZfDur3Z7MoqZO/BIvYeLOK7DUdGVGka6EPH5iF0iA6mw6GvbZoF6apM9UDl09OVFkL6ekhZAymrce39A3vWtmNWyzf8WOVqyx+u9vxhdGC1qw0l+OCikFL7Lsod31Ni206pfSeltt1gK6//9yIiInIagv286de6Kf1aN62Yl1NYxobUHDam5LIhJZeNKbls359PVkEpy7Znsmz7kV32DruNxIhA2kcF0zYq6NBwUUEkNA3UsE+1SOXTkxQdhPQNGGnrKdmzGte+Vfjl7MBuHNkiefifRpIritVGW1a72rDa1YZNRgIltv2U2XdTal9HqddXlNqSKLelgu2vAyKJiIg0DKEB3hVXYjqsuMzJlrQ8Nqflsin1yNecojK2Z+SzPSMf1h15Dm+HjVYRQbRuFkibyCBaNwuidWQQrSIDCfBRlaopfcfcUVkxZG2jMGUD+bvX4UpbR2D2ZoJLzN0FNsDvqNX3GyGsdyWyzkhkjasNK1xNybAfpNy+hxL7VsocP1Bq34VhK7Tk7YiIiLgTP28H3eLC6BYXVjHPMAzSc0vYlJbLtvQ8tqbnsy09j20Z+RSWOivOtP+r5qF+JEYE0jIikFYRgbRsak7Hhfvj66Vd+FVR+bRQeX4WWbs3kLdvM2UZW/DK2kpo/k6alqXgwEUAEPCXx+w1ItjkSmCDEc8aowmrDQd77dmU2vZSZl9JmdcXuGzH/uMQERGR47PZbESH+hEd6se57ZtVzHe5DPZlF7F9fz47MvLZsb/g0Fdz131qTjGpOcUV45EeeT6ICfUnLtyfhPBA4psGEB8eQFx4ALFN/Gka6NNoT3hS+axDRSXlpKftJXvfFoozduDKSsIndzchhck0K9tLGHlEAVFVPDbHCGCrEctWVyTrCWI9XvxJIZn2DMrtOym3/YxhK63ikSIiIlJb7HYbcYdK49GlFOBgQSlJWQUk7S9gV1YBOzML2JVZQFJmAYWlzooz73/deeCY5/X3dhDbxJ+48ABahPkTE+ZPTJgfLcL8aR7mT1SwL14N9DhTlc9T4HIZZBWUkpFTQHZmCoX7d1OWuRtykvEt2EdQUQrh5ek0N/bT0lZ8wudKMcLZaYSzwwhkMz5swMl6Wz57bZmU2zdgOIrq6V2JiIhITTQJ9KFJoA894ptUmm8YBpn5pSQfKGB3ViHJBwpJPvR178Ei0vOKKSpzsi0jn20Z+VU+t8NuIzLI19waG+JXsVU2OsSPZsG+NAvxo1mIL8G+Xh63BVXl8y/KnC5W7jpA9sFMCrP2UZaTiis3DUdBGj5F+wkqzaBJeSZRtgO04yDeJxp+yAYuw0YqIewyQtiFLzsNG9ts5WyigC32A+TZdoN9V729PxEREalbNpuNyGBfIoN96ZkQfszyknInKdnF7D1YyJ4DRaRkm7d92UWk5BSRllNMmdMgLbeYtNwTb8Ty87YTFeJHZJD5ehFB5s2c9iEuPICOzUPq6q2eEpXPvygrOEi39zrif6Jd2kdtBXcaNtIIZC8B7Da82A3sooxdtiJ22nLYaSug1JZz3KcSERGRxsXXy0FiRCCJEYFVLne5DPbnl5B26HjS9NwjX9NyisnIKyYjt4S8knKKy1zszipkd1bVJxUPaNOUD27uW5dvp8ZOqXzOmDGD559/ntTUVDp37sxLL73EoEGDjrv+4sWLmTx5Mhs2bCAmJob777+fiRMnnnLouhQQHE6pzQVAjuFDOn6kGV6kYCfV5mIfpSTbithNPnspJ91m4FS5FBERkVpit9uICvEjKsSPbnHHX6+o1ElGXjHpuSVk5pewP8/8enh6f34p7aPca6snnEL5nD17Nvfccw8zZsxgwIABvP766wwfPpyNGzcSHx9/zPpJSUmMGDGCW265hVmzZvHzzz9z++23ExkZyRVXXFErb6JW2Wzsvv4Tur0/hKKGeZyviIiINAD+Pg4SmgaS0LTqLajuqsb1atq0adx0003cfPPNdOzYkZdeeom4uDheffXVKtd/7bXXiI+P56WXXqJjx47cfPPNTJgwgRdeeOG0w9eVspDmFHnWsbsiIiIiHqFG5bO0tJSVK1cydOjQSvOHDh3K8uXLq3zML7/8csz6w4YNY8WKFZSVlVX5mJKSEnJzcyvdRERERMTz1Wi3e2ZmJk6nk6ioyiNTRkVFkZaWVuVj0tLSqly/vLyczMxMmjdvfsxjpk6dyuOPP16TaLXKbjM7ucPm8LjhC0REpOEr9QOvxw2chpNfAz1rl6vIKZ1w9NdCZhjGCUtaVetXNf+wKVOmMHny5Ir7ubm5xMWd4IjbWtauaTv+O+K/5BTrRCIREXFfQT5B9Gjew+oYIjVSo/IZERGBw+E4ZitnRkbGMVs3D4uOjq5yfS8vL5o2bVrlY3x9ffH19a1JtFplt9m5vfftlr2+iIiISENVo2M+fXx86NmzJwsWLKg0f8GCBfTv37/Kx/Tr1++Y9b///nt69eqFt7d3DeOKiIiIiCer8dnukydP5s0332TmzJls2rSJSZMmkZycXDFu55QpUxg3blzF+hMnTmT37t1MnjyZTZs2MXPmTN566y3uvffe2nsXIiIiIuIRanzM55gxY8jKyuKJJ54gNTWVLl26MG/ePBISEgBITU0lOTm5Yv3ExETmzZvHpEmT+O9//0tMTAzTp093zzE+RURERKRO2YzDZ/+4sdzcXEJDQ8nJySEkxP1G6hcRERFp7Krb13QNHxERERGpNyqfIiIiIlJvVD5FREREpN6ofIqIiIhIvVH5FBEREZF6o/IpIiIiIvVG5VNERERE6o3Kp4iIiIjUG5VPEREREak3Kp8iIiIiUm9UPkVERESk3qh8ioiIiEi9UfkUERERkXrjZXWA6jAMA4Dc3FyLk4iIiIhIVQ73tMO97Xg8onzm5eUBEBcXZ3ESERERETmRvLw8QkNDj7vcZpysnroBl8tFSkoKwcHB2Gw2q+NYLjc3l7i4OPbs2UNISIjVcRodff+tp8/AevoMrKfPwHr6DCozDIO8vDxiYmKw249/ZKdHbPm02+3ExsZaHcPthISE6IfdQvr+W0+fgfX0GVhPn4H19BkccaItnofphCMRERERqTcqnyIiIiJSb1Q+PZCvry+PPvoovr6+VkdplPT9t54+A+vpM7CePgPr6TM4NR5xwpGIiIiINAza8ikiIiIi9UblU0RERETqjcqniIiIiNQblU8RERERqTcqnyIiIiJSb1Q+3dSSJUu45JJLiImJwWaz8eWXX1ZabhgGjz32GDExMfj7+3POOeewYcMGa8I2UCf6DMrKynjggQc444wzCAwMJCYmhnHjxpGSkmJd4AboZP8Ojnbbbbdhs9l46aWX6i1fY1Cdz2DTpk1ceumlhIaGEhwcTN++fUlOTq7/sA3UyT6D/Px87rzzTmJjY/H396djx468+uqr1oRtgKZOnUrv3r0JDg6mWbNmjBo1ii1btlRaR3+Ta0bl000VFBTQrVs3XnnllSqXP/fcc0ybNo1XXnmFP/74g+joaC644ALy8vLqOWnDdaLPoLCwkFWrVvHII4+watUq5syZw9atW7n00kstSNpwnezfwWFffvklv/32GzExMfWUrPE42WewY8cOBg4cSIcOHVi0aBF//vknjzzyCH5+fvWctOE62WcwadIk5s+fz6xZs9i0aROTJk3irrvu4quvvqrnpA3T4sWLueOOO/j1119ZsGAB5eXlDB06lIKCgop19De5hgxxe4DxxRdfVNx3uVxGdHS08cwzz1TMKy4uNkJDQ43XXnvNgoQN318/g6r8/vvvBmDs3r27fkI1Msf7DPbu3Wu0aNHCWL9+vZGQkGD8+9//rvdsjUVVn8GYMWOM6667zppAjVBVn0Hnzp2NJ554otK8Hj16GA8//HA9Jms8MjIyDMBYvHixYRj6m3wqtOXTAyUlJZGWlsbQoUMr5vn6+jJ48GCWL19uYbLGLScnB5vNRlhYmNVRGg2Xy8X111/PfffdR+fOna2O0+i4XC6++eYb2rVrx7Bhw2jWrBl9+vQ54eERUvsGDhzI3Llz2bdvH4ZhsHDhQrZu3cqwYcOsjtYg5eTkABAeHg7ob/KpUPn0QGlpaQBERUVVmh8VFVWxTOpXcXEx//jHPxg7diwhISFWx2k0nn32Wby8vLj77rutjtIoZWRkkJ+fzzPPPMOFF17I999/z2WXXcbll1/O4sWLrY7XaEyfPp1OnToRGxuLj48PF154ITNmzGDgwIFWR2twDMNg8uTJDBw4kC5dugD6m3wqvKwOIKfOZrNVum8YxjHzpO6VlZVx9dVX43K5mDFjhtVxGo2VK1fy8ssvs2rVKv3cW8TlcgEwcuRIJk2aBED37t1Zvnw5r732GoMHD7YyXqMxffp0fv31V+bOnUtCQgJLlizh9ttvp3nz5gwZMsTqeA3KnXfeydq1a1m2bNkxy/Q3ufq05dMDRUdHAxzzP6qMjIxj/ucldausrIyrrrqKpKQkFixYoK2e9Wjp0qVkZGQQHx+Pl5cXXl5e7N69m7///e+0bNnS6niNQkREBF5eXnTq1KnS/I4dO+ps93pSVFTEgw8+yLRp07jkkkvo2rUrd955J2PGjOGFF16wOl6DctdddzF37lwWLlxIbGxsxXz9Ta45lU8PlJiYSHR0NAsWLKiYV1payuLFi+nfv7+FyRqXw8Vz27Zt/PDDDzRt2tTqSI3K9ddfz9q1a1mzZk3FLSYmhvvuu4/vvvvO6niNgo+PD7179z5m2JmtW7eSkJBgUarGpaysjLKyMuz2yn/OHQ5HxZZpOT2GYXDnnXcyZ84cfvrpJxITEyst19/kmtNudzeVn5/P9u3bK+4nJSWxZs0awsPDiY+P55577uHpp5+mbdu2tG3blqeffpqAgADGjh1rYeqG5USfQUxMDKNHj2bVqlV8/fXXOJ3Oiv/1hoeH4+PjY1XsBuVk/w7+Wvi9vb2Jjo6mffv29R21wTrZZ3DfffcxZswYzj77bM4991zmz5/P//73PxYtWmRd6AbmZJ/B4MGDue+++/D39ychIYHFixfz3nvvMW3aNAtTNxx33HEHH374IV999RXBwcEVv+tDQ0Px9/fHZrPpb3JNWXquvRzXwoULDeCY2w033GAYhjm0w6OPPmpER0cbvr6+xtlnn22sW7fO2tANzIk+g6SkpCqXAcbChQutjt5gnOzfwV9pqKXaV53P4K233jLatGlj+Pn5Gd26dTO+/PJL6wI3QCf7DFJTU43x48cbMTExhp+fn9G+fXvjxRdfNFwul7XBG4jj/a5/++23K9bR3+SasRmGYdRpuxUREREROUTHfIqIiIhIvVH5FBEREZF6o/IpIiIiIvVG5VNERERE6o3Kp4iIiIjUG5VPEREREak3Kp8iIiIiUm9UPkVERESk3qh8ioiIiEi9UfkUERERkXqj8ikiIiIi9eb/A3WnvGUvmmqaAAAAAElFTkSuQmCC\n",
      "text/plain": [
       "<Figure size 800x600 with 1 Axes>"
      ]
     },
     "metadata": {},
     "output_type": "display_data"
    }
   ],
=======
   "outputs": [],
>>>>>>> upstream/main
   "source": [
    "# Visualizing this!\n",
    "rv = stats.norm(loc=mu, scale=sigma)\n",
    "# Don't worry about this numpy bit, it's to help visualize\n",
    "z_curve = np.linspace(rv.ppf(0.01), rv.ppf(0.99), 100)\n",
    "    \n",
    "plt.figure(figsize=(8,6))\n",
    "\n",
    "plt.plot(z_curve, rv.pdf(z_curve))\n",
    "plt.plot(z_curve, rv.cdf(z_curve), label='Normal Cumulative Distribution')\n",
    "\n",
    "plt.fill_between(z_curve, rv.pdf(z_curve), where=z_curve < 18, color='green')\n",
    "\n",
    "\n",
    "plt.vlines(x=x, ymin=0, ymax=rv.cdf(x), color='red', \n",
    "           label='x=18')\n",
    "plt.hlines(y=rv.cdf(x), xmin=z_curve[0], xmax=x, color='red')\n",
    "\n",
    "plt.legend();"
   ]
  },
  {
   "cell_type": "markdown",
   "metadata": {
    "slideshow": {
     "slide_type": "slide"
    }
   },
   "source": [
    "Note: the ```cdf``` function by default return the probability of the left hand tail of the distribution. If you are interested to calculate the right hand tail probability, you can simply subtract the probability of the left tail from 1.\n",
    "\n",
    "$$P(x>18) = 1 - P(x \\leq 18)$$\n"
   ]
  },
  {
   "cell_type": "markdown",
   "metadata": {
    "heading_collapsed": true,
    "hidden": true,
    "slideshow": {
     "slide_type": "slide"
    }
   },
   "source": [
    "## Example: Using CDF & comparison to PDF"
   ]
  },
  {
   "cell_type": "markdown",
   "metadata": {
    "hidden": true,
    "slideshow": {
     "slide_type": "fragment"
    }
   },
   "source": [
    "Consider the following normal distributions of heights (more on the normal distribution below).\n",
    "\n",
    "The PDF and the CDF look like so:\n"
   ]
  },
  {
   "cell_type": "code",
<<<<<<< HEAD
   "execution_count": 34,
=======
   "execution_count": null,
>>>>>>> upstream/main
   "metadata": {
    "ExecuteTime": {
     "end_time": "2021-10-08T21:00:09.746527Z",
     "start_time": "2021-10-08T21:00:08.932952Z"
    },
    "hidden": true,
    "slideshow": {
     "slide_type": "slide"
    }
   },
<<<<<<< HEAD
   "outputs": [
    {
     "data": {
      "image/png": "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\n",
      "text/plain": [
       "<Figure size 1000x500 with 2 Axes>"
      ]
     },
     "metadata": {},
     "output_type": "display_data"
    }
   ],
=======
   "outputs": [],
>>>>>>> upstream/main
   "source": [
    "# Create a simulate dataset with mean = 67, sigma = 4, and N = 1000\n",
    "r = sorted(stats.norm.rvs(loc=67, scale=4, size=1000))\n",
    "\n",
    "# Calculate the CDF using stats.norm.cdf()\n",
    "r_cdf = stats.norm.cdf(r, loc=67, scale=4)\n",
    "\n",
    "# Plot the PDF and CDF side-by-side\n",
    "fig, (ax1, ax2) = plt.subplots(1, 2, figsize=(10, 5))\n",
    "sns.kdeplot(r, ax=ax1, fill=True)\n",
    "ax1.set_title('PDF of Height in US')\n",
    "\n",
    "ax2.plot(r, r_cdf, color='g')\n",
    "ax2.set_title('CDF of Height in the US');"
   ]
  },
  {
   "cell_type": "markdown",
   "metadata": {
    "hidden": true,
    "slideshow": {
     "slide_type": "slide"
    }
   },
   "source": [
    "If we provide `numpy` with the underlying parameters of our distribution, we can calculate:"
   ]
  },
  {
   "cell_type": "code",
<<<<<<< HEAD
   "execution_count": 35,
=======
   "execution_count": null,
>>>>>>> upstream/main
   "metadata": {
    "ExecuteTime": {
     "end_time": "2021-10-08T21:00:09.751397Z",
     "start_time": "2021-10-08T21:00:09.748388Z"
    },
    "hidden": true,
    "slideshow": {
     "slide_type": "fragment"
    }
   },
<<<<<<< HEAD
   "outputs": [
    {
     "name": "stdout",
     "output_type": "stream",
     "text": [
      "The probability density at 73 is 0.9331927987311419\n"
     ]
    }
   ],
=======
   "outputs": [],
>>>>>>> upstream/main
   "source": [
    "# the probability that a value falls below a specified value\n",
    "r = stats.norm(67, 4)\n",
    "print(f'The probability density at 73 is {r.cdf(73)}')"
   ]
  },
  {
   "cell_type": "code",
<<<<<<< HEAD
   "execution_count": 36,
=======
   "execution_count": null,
>>>>>>> upstream/main
   "metadata": {
    "ExecuteTime": {
     "end_time": "2021-10-08T21:00:09.756558Z",
     "start_time": "2021-10-08T21:00:09.753422Z"
    },
    "hidden": true,
    "slideshow": {
     "slide_type": "fragment"
    }
   },
<<<<<<< HEAD
   "outputs": [
    {
     "name": "stdout",
     "output_type": "stream",
     "text": [
      "Probability between the range 67 to 75 is 0.4772498680518208\n"
     ]
    }
   ],
=======
   "outputs": [],
>>>>>>> upstream/main
   "source": [
    "# the probability that a value falls between two specified values\n",
    "r = stats.norm(67, 4)\n",
    "print(f'Probability between the range 67 to 75 is {r.cdf(75) - r.cdf(67)}')"
   ]
  },
  {
   "cell_type": "markdown",
   "metadata": {
    "hidden": true,
    "slideshow": {
     "slide_type": "slide"
    }
   },
   "source": [
    "We can also calculate the value associated with a specfic percentile:"
   ]
  },
  {
   "cell_type": "code",
<<<<<<< HEAD
   "execution_count": 37,
=======
   "execution_count": null,
>>>>>>> upstream/main
   "metadata": {
    "ExecuteTime": {
     "end_time": "2021-10-08T21:00:09.760204Z",
     "start_time": "2021-10-08T21:00:09.758011Z"
    },
    "hidden": true,
    "slideshow": {
     "slide_type": "fragment"
    }
   },
<<<<<<< HEAD
   "outputs": [
    {
     "name": "stdout",
     "output_type": "stream",
     "text": [
      "The 95th percentile: 73.5794145078059\n"
     ]
    }
   ],
=======
   "outputs": [],
>>>>>>> upstream/main
   "source": [
    "# the 95th percentile\n",
    "print(f'The 95th percentile: {r.ppf(0.95)}')"
   ]
  },
  {
   "cell_type": "markdown",
   "metadata": {
    "heading_collapsed": true,
    "slideshow": {
     "slide_type": "slide"
    }
   },
   "source": [
    "# Exercises"
   ]
  },
  {
   "cell_type": "markdown",
   "metadata": {
    "heading_collapsed": true,
    "hidden": true,
    "slideshow": {
     "slide_type": "fragment"
    }
   },
   "source": [
    "## Order Totals CDF & PDF"
   ]
  },
  {
   "cell_type": "markdown",
   "metadata": {
    "hidden": true,
    "slideshow": {
     "slide_type": "fragment"
    }
   },
   "source": [
    "Imagine that an online clothing business gets orders with totals that are normally distributed with an average of \\\\$95 and a standard deviation of \\\\$18. **Graph the PDF and CDF** for the orders for this business. "
   ]
  },
  {
   "cell_type": "code",
   "execution_count": null,
   "metadata": {
    "ExecuteTime": {
     "end_time": "2021-10-08T21:00:10.282262Z",
     "start_time": "2021-10-08T21:00:10.280216Z"
    },
    "hidden": true,
    "slideshow": {
     "slide_type": "fragment"
    }
   },
   "outputs": [],
   "source": [
<<<<<<< HEAD
    "# Your code here\n",
    "# Need our mean and standard deviation \n",
    "#mu = 95\n",
    "#sigma = 18"
   ]
  },
  {
   "cell_type": "code",
   "execution_count": 38,
   "metadata": {},
   "outputs": [
    {
     "data": {
      "image/png": "iVBORw0KGgoAAAANSUhEUgAAA2AAAAHBCAYAAAAPTdjGAAAAOXRFWHRTb2Z0d2FyZQBNYXRwbG90bGliIHZlcnNpb24zLjYuMiwgaHR0cHM6Ly9tYXRwbG90bGliLm9yZy8o6BhiAAAACXBIWXMAAA9hAAAPYQGoP6dpAACXb0lEQVR4nOzdd1xV9f8H8NcdwGVvLkMQFHCBC9yaW3NkpZajHKmVWpmaDbWl9c00M0eOcmalqTm+mpqae+AAcS+QqYDsvbnn94df7i8ElHHh3PF6Ph73UZz7Oee87hXuve97PkMiCIIAIiIiIiIiqnNSsQMQEREREREZChZgRERERERE9YQFGBERERERUT1hAUZERERERFRPWIARERERERHVExZgRERERERE9YQFGBERERERUT1hAUZERERERFRPWIARERERERHVExZgBmjTpk2QSCTqm1wuR4MGDfDGG2/g4cOH6nYnTpwo087Y2BiOjo7o0qUL5s6di+jo6Gce+9+3WbNmaewxrFixAt7e3jA2NoZEIkF6evpT258/fx6vvPIKXFxcYGxsDGdnZwwfPhxBQUG1yuHp6Ynx48erf46KioJEIsGmTZtqddy6UvpveuLEiWrve+7cOXz55ZcVPteenp4YPHhwnZ6/tkp/N4ODg0U5b1RUVL2el0gXXbt2DW+88Qa8vLygUChgYWGBtm3bYtGiRUhNTVW369Gjh/q9RSqVwtLSEt7e3njllVfw559/QqVSlTu2p6dnpe9P2dnZGskfFRWFQYMGwc7ODhKJBNOnT39q+5ycHHz77bdo06YNLCwsYG5ujtatW+Obb75BTk5OjXNU9Lozfvx4eHp61viYda1Hjx7o0aNHjfb95ptvsGfPnnLbq/O6X5vz11ZV30Pr4rz//gxD9UcudgASz8aNG9G0aVPk5eXh1KlTWLBgAU6ePInr16/D3Nxc3e6bb75Bz549UVJSgpSUFFy4cAEbNmzADz/8gLVr1+K1116r9Nj/5urqqpHcV65cwbRp0zBp0iSMGzcOcrkclpaWlbZfsWIFpk+fjvbt22PRokVo2LAhYmJisHLlSnTt2hXLli3Du+++q5FsLi4uCAoKQuPGjTVyPG1y7tw5zJs3D+PHj4eNjU2NjtG2bVsEBQWhefPmmg2nxQYNGoSgoCC4uLiIHYVIq61duxZTp05FkyZN8OGHH6J58+YoKipCcHAw1qxZg6CgIOzevVvdvlGjRvj9998BPC5kIiMjsWfPHrzyyivo1q0b9u3bB2tr6zLn6NKlCxYvXlzu3GZmZhp5DDNmzFC/Rzo7Oz/17/7Ro0fo06cP7t+/j2nTpmHRokUAgGPHjuHrr7/G1q1b8c8//0CpVGok22effYb3339fI8fSNt988w2GDx+Ol156qcbHWLVqleYC6Yjdu3fDyspK7BgGiQWYAfPz80NgYCAAqAusr776Cnv27ClTVPn4+KBjx47qn4cMGYIPPvgAffr0wfjx49GyZUv4+/tXemxNu3nzJgDgzTffRPv27Z/a9uzZs5g+fToGDhyI3bt3Qy7//1/5kSNH4uWXX8b777+PNm3aoEuXLrXOZmJiUua5orKsrKwM7vlxdHSEo6Oj2DGItFpQUBCmTJmCvn37Ys+ePTAxMVHf17dvX3zwwQf4+++/y+xjampa7vVk0qRJ2LhxIyZMmIC33noL27ZtK3O/jY1Nnb4G3bhxA+3bt69SITB27FjcuXMHx48fR9euXdXb+/bti0GDBqFnz54YN25cucddU/r4xaAmGdIXg6XatGkjdgSDxS6IpFb6plRR18In2dnZ4aeffkJxcTF++OEHjWXYsGEDWrVqBYVCATs7O7z88su4ffu2+v4ePXrg9ddfBwB06NABEonkqZfPFyxYAIlEgtWrV5cpvgBALpdj1apVkEgk+Pbbb9Xbv/zyS0gkEty8eROjRo2CtbU1lEolJkyYgIyMjKfmr6gLYnWOJwgCVq1ahdatW8PU1BS2trYYPnw4IiIinvXUAQDu3LmDUaNGQalUwsTEBB4eHhg7diwKCgqeut/evXvRqVMnmJmZwdLSEn379i3TPfPLL7/Ehx9+CADw8vJSd9t5sivh33//jbZt28LU1BRNmzbFhg0bytxfURfE8ePHw8LCAuHh4Rg4cCAsLCzg7u6ODz74oFzuBw8eYPjw4bC0tISNjQ1ee+01XLp0qVrdPtPS0vDGG2/Azs4O5ubmeOGFF8o9v5V1y3iyi4pKpcLXX3+NJk2awNTUFDY2NmjZsiWWLVumblNRV6AePXrAz88Ply5dQrdu3WBmZoZGjRrh22+/Ldd1KjMzE7NmzYKXlxeMjY3h5uaG6dOnl+uetGPHDnTo0AHW1tbq402YMKFaWYnE8s0330AikeDnn38uU3yVMjY2xpAhQ6p0rDfeeAMDBw7Ejh07qvR+VhUxMTF4/fXX4eTkBBMTEzRr1gzff/+9+u+19LUtPDwcBw8eVL9GVtb1ODg4GIcPH8bEiRPLFF+lunbtigkTJuDQoUMICQlRb5dIJHj33Xfx66+/olmzZjAzM0OrVq3w119/PfMxVNQFsTrHCwsLw+jRo8s8BytXrnzmeYHHrz8rVqxQv7eVFsJ79+596n6pqamYOnUq3NzcYGxsjEaNGmHu3Lll3hskEglycnLwyy+/qJ/3J7sSZmVlYcqUKXBwcIC9vT2GDh2KuLi4Mm2efH0vfT9fvHgxlixZAi8vL1hYWKBTp044f/58uaxr166Fr68vTExM0Lx5c2zZsqXa3T53796Nli1bQqFQoFGjRli+fHmZ+yvr0l7Re2toaCgGDx6s/vdydXXFoEGD8ODBA3WbJ9/rSo+zdetWzJ07F66urrCyskKfPn1w9+7dcnn/+ecf9O7dG1ZWVjAzM0OXLl1w9OjRMm2SkpLw1ltvwd3dHSYmJuqhLP/880+1suobFmCkFh4eDgBV/ra+Xbt2cHFxwalTp8rdV1JSguLi4jK3Z1mwYAEmTpyIFi1aYNeuXVi2bBmuXbuGTp06ISwsDMDjLgKffvopgMfdHIOCgvDZZ59VeLySkhIcP34cgYGBaNCgQYVt3N3dERAQgGPHjqGkpKTMfcOGDYOvry927tyJTz75BFu2bMGMGTOe+TgqU5Xjvf3225g+fTr69OmDPXv2YNWqVbh58yY6d+6MR48ePfX4V69eRbt27XD+/HnMnz8fBw8exIIFC1BQUIDCwsJK99uyZQtefPFFWFlZYevWrVi/fj3S0tLQo0cPnDlzBsDjb5Xfe+89AMCuXbsQFBSEoKAgtG3btsz5P/jgA8yYMQP//e9/0bJlS0ycOLHC348nFRUVYciQIejduzf++9//YsKECfjhhx+wcOFCdZucnBz07NkTx48fx8KFC7F9+3YolUqMGDHimcf/t4kTJ0IqlWLLli1YunQpLl68iB49ejxzHGFFFi1ahC+//BKjRo3C/v37sW3bNkycOLFKx0pISMBrr72G119/HXv37sWAAQMwe/Zs/Pbbb+o2ubm56N69O3755RdMmzYNBw8exMcff4xNmzZhyJAhEAQBwOOrByNGjECjRo3wxx9/YP/+/fj888/L/N3VJitRXSopKcGxY8cQEBAAd3d3jRyz9O/j9OnTZbYLglDuvami8WL/lpSUhM6dO+Pw4cP46quvsHfvXvTp0wezZs1Sd18v7V7t7OyMLl26qF8jK+uCeOTIEQB46pWy0vtK25bav38/fvzxR8yfPx87d+5Uf1lZ1S/qnlSV4926dQvt2rXDjRs38P333+Ovv/7CoEGDMG3aNMybN++Z5xg/fjzef/99tGvXDtu2bcMff/yBIUOGPHVsbH5+Pnr27InNmzdj5syZ2L9/P15//XUsWrQIQ4cOVbcLCgqCqakpBg4cqH7en+xOOGnSJBgZGWHLli1YtGgRTpw4of4y91lWrlyJI0eOYOnSpfj999+Rk5ODgQMHlvkC9eeff8Zbb72Fli1bYteuXfj0008xb968ao13vnLlCqZPn44ZM2Zg9+7d6Ny5M95///0Ku8w+S05ODvr27YtHjx6Vye/h4YGsrKxn7j9nzhxER0dj3bp1+PnnnxEWFoYXXnihzOek3377Df369YOVlRV++eUXbN++HXZ2dujfv3+ZImzMmDHYs2cPPv/8cxw+fBjr1q1Dnz59kJKSopGsOksgg7Nx40YBgHD+/HmhqKhIyMrKEv766y/B0dFRsLS0FBISEgRBEITjx48LAIQdO3ZUeqwOHToIpqam5Y5d0a2oqKjS46SlpQmmpqbCwIEDy2yPiYkRTExMhNGjR5c7x6VLl576OBMSEgQAwsiRI5/absSIEQIA4dGjR4IgCMIXX3whABAWLVpUpt3UqVMFhUIhqFQq9baGDRsK48aNU/8cGRkpABA2btyo3lbV4wUFBQkAhO+//75Mu9jYWMHU1FT46KOPnvo4evXqJdjY2AiJiYmVtin9Nz1+/LggCIJQUlIiuLq6Cv7+/kJJSYm6XVZWluDk5CR07txZve27774TAAiRkZHljtuwYUNBoVAI0dHR6m15eXmCnZ2d8Pbbb1d6fkEQhHHjxgkAhO3bt5c55sCBA4UmTZqof165cqUAQDh48GCZdm+//Xa557wipb83L7/8cpntZ8+eFQAIX3/9dZnH8+9/11Ldu3cXunfvrv558ODBQuvWrat03n8/b927dxcACBcuXCjTtnnz5kL//v3VPy9YsECQSqXlftf//PNPAYBw4MABQRAEYfHixQIAIT09vdIcVclKJIaqvlb/W/fu3YUWLVpUev/BgwcFAMLChQvV2xo2bFjhe9PcuXOfeq5PPvmkwr/XKVOmCBKJRLh7926ZcwwaNOiZ+SdPniwAEO7cuVNpm9u3bwsAhClTpqi3ARCUSqWQmZmp3paQkCBIpVJhwYIF6m0Vve6MGzdOaNiwYZlzVPV4/fv3Fxo0aCBkZGSU2f/dd98VFAqFkJqaWunjOHXqVJWe5ydfX9esWVPhe8PChQsFAMLhw4fV28zNzSt8zS59HqZOnVpm+6JFiwQAQnx8fKXnL30/9/f3F4qLi9XbL168KAAQtm7dKgjC4/dRZ2dnoUOHDmXOER0dLRgZGZV7zivSsGFDQSKRCFeuXCmzvW/fvoKVlZWQk5NT5vE8+T785HtrcHCwAEDYs2fPM8/77+et9DhPfhbbvn27AEAICgoSBEEQcnJyBDs7O+GFF14o066kpERo1aqV0L59e/U2CwsLYfr06ZVmqGpWfcMrYAasY8eOMDIygqWlJQYPHgxnZ2ccPHiwWgN+hf99A/+kzZs349KlS2VuT3YB/LegoCDk5eWV6/bl7u6OXr16lbukrUmlj0EikZTZ/mR3l5YtWyI/Px+JiYk1Os+zjvfXX39BIpHg9ddfL/PtrLOzM1q1avXUb9Jyc3Nx8uRJvPrqq9Uab3T37l3ExcVhzJgxkEr//+XAwsICw4YNw/nz55Gbm1ulY7Vu3RoeHh7qnxUKBXx9favUBUgikeCFF14os61ly5Zl9j158iQsLS3x/PPPl2k3atSoKuUr9eSkMZ07d0bDhg1x/Pjxah0HANq3b4+rV69i6tSpOHToEDIzM6u8r7Ozc7kxjE8+5r/++gt+fn5o3bp1md+J/v37l+lu0q5dOwDAq6++iu3bt5eZzVQTWYl0TWXvTV27di333jR16tSnHuvYsWNo3rx5ub/X8ePHQxAEHDt2TGO5/62y96aePXuWmXhKqVTCycmpxt0tn3W8/Px8HD16FC+//DLMzMzKvBYNHDgQ+fn5FXbJK3Xw4EEAwDvvvFOtXMeOHYO5uTmGDx9eZnvp54TqfC6o6P0XqNqQi0GDBkEmk1W67927d5GQkIBXX321zH4eHh7VGlveokULtGrVqsy20aNHIzMzE5cvX67ycQDA29sbtra2+Pjjj7FmzRrcunWrWvs/6/k6d+4cUlNTMW7cuHJXk59//nlcunRJ3U2+ffv22LRpE77++mucP38eRUVFGs2qq1iAGbDSIik0NBRxcXG4du1atSeiiImJqXB2w2bNmiEwMLDM7WlKL0VX1F3D1dVVfX91ODg4wMzMDJGRkU9tFxUVBTMzM9jZ2ZXZbm9vX+bn0nEJeXl51c5SleM9evQIgiBAqVTCyMiozO38+fNITk6u9NhpaWkoKSmptKtlZZ71vKtUKqSlpVXpWE8+PuDxY6zK82VmZgaFQlFu3/z8/DJZK/pyoLozhDk7O1e4rSa/Y7Nnz8bixYtx/vx5DBgwAPb29ujdu3eVpjyuyvP16NEjXLt2rdzvg6WlJQRBUP9OPPfcc9izZw+Ki4sxduxYNGjQAH5+fti6datGshLVpaq+VldH6QfFJ9+frK2ty703PWuG3pSUlEpfI0vvr67SL6ue9phLu+c92S2zNq+1FXnW8VJSUlBcXIwVK1aUey0aOHAgADz1/SkpKQkymazC196nSUlJgbOzc7kC1MnJCXK5vFrPe23ez5+1b2mO2r4/Vfbe9O9zVJW1tTVOnjyJ1q1bY86cOWjRogVcXV3xxRdflCuAKlKVzysAMHz48HK/EwsXLoQgCOplI7Zt24Zx48Zh3bp16NSpE+zs7DB27FgkJCRoJKuu4iyIBqy0SKqpixcvIiEhARMnTqx1ltI/9vj4+HL3xcXFwcHBodrHlMlk6NmzJ/7++288ePCgwuLkwYMHCAkJwYABA8p8wyUGBwcHSCQSnD59usJB6BVtK2VnZweZTFbtAavPet6lUilsbW2rdcy6Ym9vj4sXL5bbXvoiXlUVtU9ISIC3t7f6Z4VCUeHEJcnJyWV+F+VyOWbOnImZM2ciPT0d//zzD+bMmYP+/fsjNja21lNbOzg4wNTUtNxkJv++v9SLL76IF198EQUFBTh//jwWLFiA0aNHw9PTE506darzrEQ1JZPJ0Lt3bxw8eLDS1+rq2rt3LyQSCZ577rlaH8ve3r7S10gANXp/6tu3L+bMmYM9e/aUu6pfqnRdq759+1b7+Jpka2sLmUyGMWPGVHoVy8vLq9L9HR0dUVJSgoSEhGotx2Fvb48LFy5AEIQyRVhiYiKKi4tr9LzXhdL30YrGaVfn/amy96Z/n6P0i8on358qKoD9/f3xxx9/QBAEXLt2DZs2bcL8+fNhamqKTz75pMq5KlL63K9YsaLSWUVLi08HBwcsXboUS5cuRUxMDPbu3YtPPvkEiYmJ6hk+6zKrtuIVMKqR1NRUTJ48GUZGRrWamKJUp06dYGpqWmYCAuBxgXTs2DH07t27RsedPXs2BEHA1KlTy02yUVJSgilTpkAQBMyePbvG2TVl8ODBEAQBDx8+LPcNbWBgYLmp/v/N1NQU3bt3x44dO576TeSTmjRpAjc3N2zZsqVMl52cnBzs3LlTPTMiUPsrgLXVvXt3ZGVlqbuzlPrjjz+qdZzSdYNKnTt3DtHR0WVmv/L09MS1a9fKtLt3716Fs0CVsrGxwfDhw/HOO+8gNTVVIwsvDx48GPfv34e9vX2FvxMVza5lYmKC7t27qycwCQ0NrZesRLVR+lr95ptvVjhpUFFREfbt21elY23cuBEHDx7EqFGjynSLrqnevXvj1q1b5bqBbd68GRKJBD179qz2MQMDA9GvXz+sX78eZ8+eLXf/mTNnsGHDBjz//PMICAiocXZNMDMzQ8+ePREaGoqWLVtW+FpU0VW0UgMGDAAArF69ulrn7d27N7Kzs8stsLx582b1/aVqcwWwtpo0aQJnZ2ds3769zPaYmBicO3euyse5efMmrl69Wmbbli1bYGlpqZ7wqvQ1/8n3p6fNJimRSNCqVSv88MMPsLGxqXZ3xop06dIFNjY2uHXrVoW/D4GBgTA2Ni63n4eHB95991307du3whx1kVVb8QoYPVNYWBjOnz8PlUqlXoh5/fr1yMzMxObNm9GiRYtan8PGxgafffYZ5syZg7Fjx2LUqFFISUnBvHnzoFAo8MUXX9TouF26dMHSpUsxffp0dO3aFe+++y48PDzUCzFfuHABS5cuRefOnWv9GGqrS5cueOutt/DGG28gODgYzz33HMzNzREfH48zZ87A398fU6ZMqXT/JUuWoGvXrujQoQM++eQTeHt749GjR9i7dy9++umnCherlkqlWLRoEV577TUMHjwYb7/9NgoKCvDdd98hPT29zPT8pQXgsmXLMG7cOBgZGaFJkyZPXQRbk8aNG4cffvgBr7/+Or7++mt4e3vj4MGDOHTokPqxVEVwcDAmTZqEV155BbGxsZg7dy7c3NzKjAMZM2YMXn/9dUydOhXDhg1DdHQ0Fi1aVG583QsvvKBe887R0RHR0dFYunQpGjZsCB8fn1o/5unTp2Pnzp147rnnMGPGDLRs2RIqlQoxMTE4fPgwPvjgA3To0AGff/45Hjx4gN69e6NBgwZIT0/HsmXLYGRkhO7du9dLVqLa6NSpE1avXo2pU6ciICAAU6ZMQYsWLVBUVITQ0FD8/PPP8PPzKzNWNC8vTz32KC8vDxEREdizZw/++usvdO/eHWvWrNFIthkzZmDz5s0YNGgQ5s+fj4YNG2L//v1YtWoVpkyZAl9f3xodd/PmzejTpw/69euHadOmqQuKY8eOYdmyZWjatGmVl9eoa8uWLUPXrl3RrVs3TJkyBZ6ensjKykJ4eDj27dv31HFw3bp1w5gxY/D111/j0aNHGDx4MExMTBAaGgozMzP1DLtPGjt2LFauXIlx48YhKioK/v7+OHPmDL755hsMHDgQffr0Ubf19/fHiRMnsG/fPri4uMDS0hJNmjTR+PNQEalUinnz5uHtt9/G8OHDMWHCBKSnp2PevHlwcXGp8nuTq6srhgwZgi+//BIuLi747bffcOTIESxcuFD9RWi7du3QpEkTzJo1C8XFxbC1tcXu3bvVMxaX+uuvv7Bq1Sq89NJLaNSoEQRBwK5du5Cenq6RK6oWFhZYsWIFxo0bh9TUVAwfPhxOTk5ISkrC1atXkZSUhNWrVyMjIwM9e/bE6NGj0bRpU1haWuLSpUv4+++/1TNZ1nVWbcUCjJ5pzpw5AB53t7K2toavr696kcuGDRtq7DyzZ8+Gk5MTli9fjm3btsHU1BQ9evTAN998U6sPiO+99x7atWuH77//Hh988AFSUlJgZ2eHrl274syZM+jUqZPGHkNt/fTTT+jYsSN++uknrFq1CiqVCq6urujSpcszF51u1aoVLl68iC+++AKzZ89GVlYWnJ2d0atXrwq/iSo1evRomJubY8GCBRgxYgRkMhk6duyI48ePlylMe/TogdmzZ+OXX37B2rVroVKpcPz48XLrrdQVc3NzHDt2DNOnT8dHH30EiUSCfv36YdWqVRg4cCBsbGyqdJz169fj119/xciRI1FQUICePXti2bJlZcYAjh49GnFxcVizZg02btwIPz8/rF69utx0yz179sTOnTuxbt06ZGZmwtnZGX379sVnn30GIyMjjTzm06dP49tvv8XPP/+MyMhImJqawsPDA3369FF/G9qhQwcEBwfj448/RlJSEmxsbBAYGIhjx46pvyCp66xEtfXmm2+iffv26iUoEhISYGRkBF9fX4wePVo95XupiIgI9eu3ubk5lEol2rZtix07dmDo0KFV/uD7LI6Ojjh37hxmz56N2bNnIzMzE40aNcKiRYswc+bMGh9XqVTi/PnzWL58ObZv365e88nb2xtz5szB9OnTYW5urpHHUFvNmzfH5cuX8dVXX+HTTz9FYmIibGxs4OPjox4H9jSbNm1C27ZtsX79emzatAmmpqZo3ry5+vNFRRQKBY4fP465c+fiu+++Q1JSEtzc3DBr1qxyX8ouW7YM77zzDkaOHKlevqM6U8DX1ltvvQWJRIJFixbh5ZdfhqenJz755BP897//RUxMTJWO0bp1a7zxxhv44osvEBYWBldXVyxZsqRMLyOZTIZ9+/bh3XffxeTJk2FiYoKRI0fixx9/xKBBg9TtfHx8YGNjg0WLFiEuLg7GxsZo0qQJNm3ahHHjxmnkMb/++uvw8PDAokWL8PbbbyMrKwtOTk5o3bq1eqIUhUKBDh064Ndff0VUVBSKiorg4eGBjz/+GB999FG9ZdVGEqGyqYKIiHTAN998g08//RQxMTEaGTtCRERUW+np6fD19cVLL72En3/+Wew4pGV4BYyIdMaPP/4IAGjatCmKiopw7NgxLF++HK+//jqLLyIiEkVCQgL+85//oGfPnrC3t0d0dDR++OEHZGVl4f333xc7HmkhFmBEpDPMzMzwww8/ICoqCgUFBequDJ9++qnY0YiIyECZmJggKioKU6dORWpqKszMzNCxY0esWbNGI+PkSf+wCyIREREREVE94TT0RERERERE9YQFGBERERERUT1hAUZERERERFRPOAlHDalUKsTFxcHS0hISiUTsOEREBkMQBGRlZcHV1VVjaz3pC743ERGJozrvTSzAaiguLg7u7u5ixyAiMlixsbFcfuAJfG8iIhJXVd6bWIDVkKWlJYDHT7KVlZXIaYiIDEdmZibc3d3Vr8P0//jeREQkjuq8N7EAq6HSrh1WVlZ8kyMiEgG72JXH9yYiInFV5b2JneeJiIiIiIjqCQswIiIiIiKiesICjIiIiIiIqJ6wACMiIiIiIqonLMCIiIiIiIjqCQswIiIiIiKiesICjIiIiIiIqJ6wACMiIiIiIqonLMCIiIiIiIjqCQswIiKiOnDq1Cm88MILcHV1hUQiwZ49e565z8mTJxEQEACFQoFGjRphzZo1dR+UiIjqFQswIiKiOpCTk4NWrVrhxx9/rFL7yMhIDBw4EN26dUNoaCjmzJmDadOmYefOnXWclIiI6pNc7ABERET6aMCAARgwYECV269ZswYeHh5YunQpAKBZs2YIDg7G4sWLMWzYsDpKSURE9Y1XwIiIiLRAUFAQ+vXrV2Zb//79ERwcjKKiogr3KSgoQGZmZpkbERFpNxZgREREWiAhIQFKpbLMNqVSieLiYiQnJ1e4z4IFC2Btba2+ubu710dUIiK9UVhSiNiMWFx6eAl77+5FXlFenZ+TXRCJiIi0hEQiKfOzIAgVbi81e/ZszJw5U/1zZmYmizAiov/JL85HdHo0otKjEJUehcj0SMRmxiIhO0F9S81LLbPPram30MyxWZ3mYgFGRJVSqQQcuf0It+Iy8ZyvA9q420IqrfiDIBHVjrOzMxISEspsS0xMhFwuh729fYX7mJiYwMTEpD7iERFprayCLNxMuonrj67jRuINXE+8jjvJdxCfHV+l/Y2kRnC2cIazhTOKVBV3+dYkFmBEVKGkrAKMXnseYYnZMDOWYdnRMPRp5oRVrwXAWM7ey0Sa1qlTJ+zbt6/MtsOHDyMwMBBGRkYipSIi0h4qQYW7yXdx9dFVXH90HdcTHxdckemRle5jbmQOL1sveNp4wtPaEx7WHnCxdIGLhYu66LIztau0p0FdYAFGROUUFqsw5bcQJGcXYN6QFvB2tMClqFT8eDwc7/8Rih9Ht4WMV8KInio7Oxvh4eHqnyMjI3HlyhXY2dnBw8MDs2fPxsOHD7F582YAwOTJk/Hjjz9i5syZePPNNxEUFIT169dj69atYj0EIiJRFZUUITQhFKeiT+F0zGmciTlTrstgKRcLF/gr/eHn6Ad/pT9aOLZAI9tG9V5cVQULMCIq5/vDd3ElNh2fDW4OX6UlAKBDI3tIpRIsOXIPf1yKwWsdGoqckki7BQcHo2fPnuqfS8dqjRs3Dps2bUJ8fDxiYmLU93t5eeHAgQOYMWMGVq5cCVdXVyxfvpxT0BORwRAEAbeTb+NA2AEcun8I52LPIbcot0wbU7kpWju3hp+TH/yd/OGv9Ie/kz/szSruqq2NJELpCF+qlszMTFhbWyMjIwNWVlZixyHSmISMfDy36DhebO2KoW0blLt/zcn7uBKbjhOzesDW3FiEhGTo+PpbOT43RKRrilXFOBpxFHvv7sWB8AOISo8qc7+twhZdPbqim0c3dGvYDW1d2sJYpn2fP6rz+ssrYERUxpqT92Esl+J5P+cK7x/Zzh2XolKx5Mg9fPWSXz2nIyIiIl2nElQ4F3sOW69vxY5bO5CUm6S+z0Rmgh6ePTDQZyB6efVCc8fmkEr0a+w5CzAiUkvMzMeWCzF4sbUrzIwrfnmwMTPGkFau+ONSDKb19oGjJWdgIyIiomcLTw3HusvrsOX6FsRmxqq3O5o54uWmL2Ow72D08uoFc2NzEVPWPRZgRKS2I+QBJBJUevWrVO9mSuwOfYhfz0djZl/fekpHREREuqZYVYx9d/dhdfBqHIk4ot5uaWyJoc2GYpTfKPRu1BtyqeGUJYbzSInoqQRBwJ8hD9DO067Sq1+lLEzk6O7riF+DojC1R2MojGT1lJKIiIh0QXZhNn4K/gk/nP8BD7MeAgAkkGCAzwBMaD0BA30GwtTIVOSU4mABRkQAgGsPMhCZnIOR7dyr1H6AnwuO3HqEvVfj8Gpg1fYhIiIi/ZaSm4IVF1dg+YXlSMtPA/C4i+HENhPxVsBb8LL1Ejmh+FiAEREAYNflB7AzN4afq3WV2jtbK+DnZo0/gx+wACMiIjJwiTmJWHR2EdYEr0FOUQ4AwNfeF590+QSj/UfDRM4x46VYgBERSlQC9l2LR+fGj9f6qqpuPg5YdeI+YlNz4W5nVocJiYiISBvlFObgh/M/YNHZRcgqzAIAtHZujTld52Bos6GQSTlM4UkswIgIV2LTkZpTiHaedtXar52nHUyNorDr8kO838enjtIRERGRtlEJKmy6sgmfHvsU8dnxAIAAlwB81fMrPO/9PCSSqn+ha2hYgBERjt15BEuFHN6OFtXaT2EkQ3svO+y8/ADTenvzxZaIiMgA3Ey8ibf/ehtnY88CALxsvPBN72/waotX9W7NrrrAZ4iI8M/tRLRuYFOt7oelung7ICY1FzceZtZBMiIiItIWeUV5mHN0Dlr/1BpnY8/C3Mgci/suxu13bmOk30gWX1XEK2BEBu5heh7uJmTh+d5PX/urMs1cLGGpkOPgjXj4N6jaBB5ERESkWw7fP4wp+6cgIi0CAPBikxexYsAKuFtzIq7qYplKZOCO3UmETCpByxoWT3KpFAEetth/PR6CIGg4HREREYkpuzAbb+17C/1/64+ItAg0sGqA3SN2Y8/IPSy+aohXwIgM3NmwJPg6WTxz8eWn6dDIDifuJeHuoyw0dbbSYDoiIiISy4UHF/D67tcRnhoOCSR4r/17+LrX17A0sRQ7mk7jFTAiA6ZSCTh3PwXNXWtXNPm5WsPcWIaD1xM0lIyIiIjEIggClp1fhq4buyI8NRzuVu44OvYolg1YxuJLA1iAERmwW/GZyMwvRosqLr5cGblMitbuNjh8iwUYERGRLssqyMLInSMx/dB0FKuK8UrzV3BtyjX09OopdjS9wQKMyIAF3U+BiVwKb6fqTT9fkbYNbXE7Pgtx6XkaSEZERET17VbSLbRf1x7bb26HXCrH8ueXY9vwbbBR2IgdTa+wACMyYGfvJ6OJ0hJGstq/FLRqYAOZVIKjtx9pIBkRERHVpz139qD92va4k3wHbpZuODn+JN7r8B7X+KwDLMCIDFRRiQoXI1PRrJbjv0qZm8jRzNkS/9xO1MjxiIiIqO4JgoAlQUswdNtQ5BTloKdnT1x++zI6u3cWO5reYgFGZKBuxmUit7AEzV00N2thGw9bnLufjJyCYo0dk4iIiOpGsaoY7x54Fx8c/gACBEwJnILDYw7DydxJ7Gh6jQUYkYEKjkqFsUyKRg7mGjtmQENbFJUIOBOerLFjEhERkeblFuXixT9exKrgVZBAgu/7fY+VA1dCLuUqVXWNBRiRgQqOSkVjJ3PINTD+q5TSSgFXGwVO3E3S2DGJiIhIszLyM9D/t/44EHYApnJT/Pnqn5jZaSbHe9UTlrhEBkgQBFyKTkM3bweNH7tVAxscv5MIQRD4Qk5ERKRlknOT8fxvzyMkPgRWJlY4MPoAunh0ETuWQeEVMCIDFJ2Si5TsQjRx1vxiiq3dbZCQmY97j7I1fmwiIiKqufiseHTf1B0h8SFwMHPAiXEnWHyJgAUYkQEKjk6DBICPk+YLsKbOVjCRS3H8LmdDJCIi0hZxWXF4btNzuJV0C26Wbjg1/hTauLQRO5ZBYgFGZICCo1LhbmcGcxPN90I2lkvRwtUKx++wACMiItIGiTmJ6L25N8JTw+Fp44nTb5xGM8dmYscyWCzAiAxQSHQafJws6uz4rdxtEBKdhmxOR09ERCSqlNwU9NncB3eS78Ddyh3Hxx2Hl62X2LEMGgswIgOTmV+E8MRs+CjrsABrYINilYBznI6eiIhINBn5Gej3Wz9cT7wOFwsXHB17FJ42nmLHMngswIgMzLXYDAgAvOtg/FcppZUCLtYKnLzH6eiJiIjEUFBcgKHbh+Jy/GU4mjni6Nij8LH3ETsWgQUYkcEJjUmDuYkMLtaKOj2Pv5s1TtxNgiAIdXoeIiIiKkslqDD+v+NxLPIYLIwtcOj1QxzzpUVYgBEZmNDYdHg7WkBax2t0tWpgg4fpeYhMzqnT8xAREVFZHx35CH/c+ANyqRy7Xt3F2Q61DAswIgMiCAJCY9LQuA4n4CjV3NUKRjIJuyESERHVox+CfsD3Qd8DADa+uBF9G/cVORE9iQUYkQGJSc1FWm5Rnc6AWEphJIOv0hKnWIARERHVi7139+KDwx8AABb2WYjXW74uciKqCAswIgMSGpMOAGjsWPcFGAC0dLNGUEQKCopL6uV8REREhur6o+t4bddrECBgSuAUfNj5Q7EjUSVYgBEZkCux6XCxVsBSYVQv52vpboP8IhVCotLq5XxERESGKDk3GUP+GILswmz09OyJZc8vg6SOx3pTzbEAIzIgVx+ko5GDeb2dz8PODDZmRjgZxm6IREREdaGwpBDDtw9HVHoUGts2xo5XdsBIVj9ftFLNsAAjMhBFJSrcfJhZLxNwlJJKJPB3tcbJuyzAiIiI6sKsw7NwMvokLI0tsXfUXtib2YsdiZ6BBRiRgbibkIXCElW9jf8q1dLdBncSspCYlV+v5yUiItJ3O27uwIqLKwAAvw39Dc0dm4uciKqCBRiRgbgSmw6ZVAJP+/rrggg8XpAZAE7fS67X8xIREemzsJQwTNw7EQDwcZePMaTJEJETUVWxACMyEFdj0+FhZwZjef3+2VubGqGRgzlOcRwYERGRRuQV5eGVHa8gqzAL3Ty64eteX4sdiaqBBRiRgbgSW78TcPybn5s1Tt1LgkoliHJ+IiIiffL+3+/j6qOrcDRzxB/D/4BcKhc7ElUDCzAiA5BdUIzwxOx6H/9VqlUDa6TlFuFmXKYo5yciItIXv179FWsvr4UEEmwZtgWulq5iR6JqYgFGZABuPMyAANTrDIj/5qu0hKmRjN0QiYiIauFeyj1M3j8ZAPBljy/Rp1EfkRNRTYhegK1atQpeXl5QKBQICAjA6dOnn9r+5MmTCAgIgEKhQKNGjbBmzZoy969duxbdunWDra0tbG1t0adPH1y8eLHW5yXSZdcepMNELoWbjako55fLpGjuYsXp6ImIiGqoqKQIr+96HblFuejl1Qtzu80VOxLVkKgF2LZt2zB9+nTMnTsXoaGh6NatGwYMGICYmJgK20dGRmLgwIHo1q0bQkNDMWfOHEybNg07d+5Utzlx4gRGjRqF48ePIygoCB4eHujXrx8ePnxY4/MS6bqrDzLg5WAOmVQiWoaW7ta4HJOGrPwi0TIQERHpqvkn5+NS3CXYKmzxy0u/QCaViR2JakgiCIJoo+I7dOiAtm3bYvXq1eptzZo1w0svvYQFCxaUa//xxx9j7969uH37tnrb5MmTcfXqVQQFBVV4jpKSEtja2uLHH3/E2LFja3TeimRmZsLa2hoZGRmwsrKq0j5EYum68BhaulljTCdP0TI8yszH9G1X8POYAPRr4SxaDtJ9fP2tHJ8bIv10NuYsntv0HFSCCtuHb8crLV4ROxI9oTqvv6JdASssLERISAj69etXZnu/fv1w7ty5CvcJCgoq175///4IDg5GUVHF36rn5uaiqKgIdnZ2NT4vABQUFCAzM7PMjUgXpOYU4kFanmjjv0oprRRwsVbg5D12QyQiIqqqzIJMjNk9BipBhbGtxrL40gOiFWDJyckoKSmBUqkss12pVCIhIaHCfRISEipsX1xcjOTkihd5/eSTT+Dm5oY+ffrU+LwAsGDBAlhbW6tv7u7uz3yMRNrg6oN0ABBtBsR/83ezxom7SRDxwjsREZFO+fjIx4hMj4SnjSdWDFghdhzSANEn4ZBIyo5JEQSh3LZnta9oOwAsWrQIW7duxa5du6BQKGp13tmzZyMjI0N9i42NrbQtkTa5FpsBCxM5nCxNxI6Clg1s8DA9D5HJOWJHISIi0nrHIo9hTcjjCec2DNkAKxN2LdYHoq3a5uDgAJlMVu6qU2JiYrmrU6WcnZ0rbC+Xy2Fvb19m++LFi/HNN9/gn3/+QcuWLWt1XgAwMTGBiYn4H2CJquvqg3Q0djR/6hcM9aWFqxXkUglO3UtCIy24IkdERKStcgpzMGnvJADA5IDJ6OnVU+REpCmiXQEzNjZGQEAAjhw5Umb7kSNH0Llz5wr36dSpU7n2hw8fRmBgIIyMjNTbvvvuO3z11Vf4+++/ERgYWOvzEukqQRBwJTZda4odhZEMTZ0tcYLjwIiIiJ5qztE5iEyPhIe1Bxb1XSR2HNIgUbsgzpw5E+vWrcOGDRtw+/ZtzJgxAzExMZg8+fECc7Nnz1bPXAg8nvEwOjoaM2fOxO3bt7FhwwasX78es2bNUrdZtGgRPv30U2zYsAGenp5ISEhAQkICsrOzq3xeIn0Rl5GP1JxCrRj/VaqVuw3O309BflGJ2FGIiIi00pmYM1hx8fF4r58H/wxLE0uRE5EmidYFEQBGjBiBlJQUzJ8/H/Hx8fDz88OBAwfQsGFDAEB8fHyZtbm8vLxw4MABzJgxAytXroSrqyuWL1+OYcOGqdusWrUKhYWFGD58eJlzffHFF/jyyy+rdF4ifXE1Nh0A0NjRXNwg/9KqgQ1+vxCDi5GpeM7XUew4REREWiWvKA8T906EAAETWk9Af+/+YkciDRN1HTBdxrVWSBcsOHgbO0MeYMWotmJHURMEAe9tDcVLbdzw2eDmYschHcTX38rxuSHSfZ8e+xT/Of0fuFq64ubUm7BR2IgdiapAJ9YBI6K6dyUmHY0ctKf7IfB4BtKWDaxx/G6i2FGIiIi0yp3kO1h09vF4rx8H/MjiS0+xACPSUyUqATceZmhV98NSrRrYICIpBw/ScsWOQkREpBUEQcCU/VNQpCrCIJ9BeKnpS2JHojrCAoxIT0UkZSOnsERrZkD8Nz83a0glwEnOhkhERAQA+P367zgRdQKmclOsGLBCK5aPobrBAoxIT4XGpkMCoJEWXgEzN5GjibMlTtxlAUZERJSWl4YPDn8AAPjsuc/gZeslciKqSyzAiPTU1dh0NLA1hZmxqJOdVqqlmw3OhiejsFgldhQiIiJRzT02F4k5iWjm0AwfdP5A7DhUx1iAEemp0BjtWYC5Iq3cbZBbWILg6FSxoxAREYnm4sOLWBO8BgCwatAqGMuMRU5EdY0FGJEeyisswd2ELK1agPlJnvZmsDUzwkl2QyQ9tmrVKnh5eUGhUCAgIACnT59+avvff/8drVq1gpmZGVxcXPDGG28gJSWlntISUX1TCSpMOzgNAgSMaTkGPTx7iB2J6gELMCI9dDMuAyWCAG8n7S3AJBIJ/N04HT3pr23btmH69OmYO3cuQkND0a1bNwwYMAAxMTEVtj9z5gzGjh2LiRMn4ubNm9ixYwcuXbqESZMm1XNyIqovW65vwYWHF2BhbIGFfRaKHYfqCQswIj10JTYdJnIp3O1MxY7yVK3dbXHvUTbi0vPEjkKkcUuWLMHEiRMxadIkNGvWDEuXLoW7uztWr15dYfvz58/D09MT06ZNg5eXF7p27Yq3334bwcHB9ZyciOpDTmEOPvnnEwDAnK5z4GLpInIiqi8swIj0UGhsOjwdzCGXavefuH8DTkdP+qmwsBAhISHo169fme39+vXDuXPnKtync+fOePDgAQ4cOABBEPDo0SP8+eefGDRoUH1EJqJ6tvDsQjzMeggvGy/M6DRD7DhUj7T70xkR1UhoTJpWj/8qZWEih4/SEifZDZH0THJyMkpKSqBUKstsVyqVSEhIqHCfzp074/fff8eIESNgbGwMZ2dn2NjYYMWKFZWep6CgAJmZmWVuRKT9otOj8d257wAA3/X9Dgq5QuREVJ9YgBHpmcTMfMSl58NXi8d//VurBjY4HZaMohJOR0/658mFVAVBqHRx1Vu3bmHatGn4/PPPERISgr///huRkZGYPHlypcdfsGABrK2t1Td3d3eN5ieiuvHxPx8jvzgf3Rt2x9BmQ8WOQ/WMBRiRnrkckw4AWj0Bx7+1drdBTmEJQqLTxI5CpDEODg6QyWTlrnYlJiaWuypWasGCBejSpQs+/PBDtGzZEv3798eqVauwYcMGxMfHV7jP7NmzkZGRob7FxsZq/LEQkWadiTmDbTe3QSqRYunzSyv9Uob0FwswIj0TGpsGe3Nj2FuYiB2lShram8HGzIizIZJeMTY2RkBAAI4cOVJm+5EjR9C5c+cK98nNzYX0iXGbMpkMwOMrZxUxMTGBlZVVmRsRaS+VoMKMQ4/He01qMwmtnVuLG4hEwQKMSM+ERqfrzNUvAJBKJGjpZo0TdzgRB+mXmTNnYt26ddiwYQNu376NGTNmICYmRt2lcPbs2Rg7dqy6/QsvvIBdu3Zh9erViIiIwNmzZzFt2jS0b98erq6uYj0MItKgP2/9ieC4YFgYW+CrXl+JHYdEIhc7ABFpTlGJCtcepGNYQAOxo1RLa3cbLD8WjviMPLhYa/fU+URVNWLECKSkpGD+/PmIj4+Hn58fDhw4gIYNGwIA4uPjy6wJNn78eGRlZeHHH3/EBx98ABsbG/Tq1QsLF3JtICJ9UFRShDlH5wAAPuz8IZzMnURORGJhAUakR+4mZCG/WAUfJ0uxo1SLv5vN4+no7yZhZHsPseMQaczUqVMxderUCu/btGlTuW3vvfce3nvvvTpORURiWHt5Le6n3YeTuRNmdpopdhwSEbsgEumRyzFpkEsl8HIwFztKtVgo5PBxssQJjgMjIiI9lF2YjXkn5wEAvuj+BSyMdWeoAGkeCzAiPRIclQYvB3MYy3XvT7tlA2ucCU/hdPRERKR3lgQtQWJOIrztvPFm2zfFjkMi071PaURUqeDoVPgodav7YalW7jbILijGZU5HT0REeiQxJ1G96PJ/ev0HRjIjkROR2FiAEemJhIz/LcCs1M1uDV4O5rA2NcLJe5wNkYiI9MfXp75GdmE2AlwCMLz5cLHjkBZgAUakJ0oXMm6io1fApBIJ/N2suR4YERHpjYi0CKwJXgMAWNhnIaQSfvQmFmBEeiM4OhVKKwVszIzFjlJjrdxtcDs+C4mZ+WJHISIiqrV5J+ehSFWEvo36onej3mLHIS3BAoxIT4REpcFHhxZgrkhLN2tIAHZDJCIinXc3+S5+u/YbgMdjv4hKsQAj0gO5hcW4FZ8JXx3tfljKytQIjRzNcYoFGBER6bj5p+ZDJajwgu8LaOfWTuw4pEVYgBHpgdCYdBSrBDR11u0CDHi8KPOpsGSUqASxoxAREdXI7aTb2Hp9KwBgXo95IqchbcMCjEgPXIxMhYWJHG62pmJHqbVW7tbIyCvC9YcZYkchIiKqkXkn50GAgJebvow2Lm3EjkNahgUYkR64GJmKJkpLSCUSsaPUmreTBcyMZeyGSEREOun6o+vYfnM7AODLHl+KG4a0EgswIh1XVKJCaGwamuhB90MAkEul8HO1xglOR09ERDqo9OrXK81fQUtlS7HjkBZiAUak4248zEB+kUovxn+VatnAGldjM5CRVyR2FCIioiq7mnAVO2/vhAQSfNH9C7HjkJZiAUak44Kj0mAil8LLwVzsKBrj72aNEkFA0P0UsaMQERFV2ZcnvwQAjPAbgRZOLcQNQ1qLBRiRjrsQmQJvJwvIZfrz5+xkpYCLtQKnwzgOjIiIdMPVhKvYc2cPJJDg8+c+FzsOaTH9+cRGZIBKVAIuRKaimYuV2FE0zt/NmhNxEBGRzvjmzDcAHl/9aubYTOQ0pM1YgBHpsDsJmcjKL9bLAqxlAxvEpuUhOiVH7ChERERPdSf5Dnbc3AEAmNN1jshpSNuxACPSYRciUmEkk8Db0ULsKBrX3MUKMqmEV8GIiEjrfXvmWwgQMKTJEPgr/cWOQ1qOBRiRDjsf8Xj8l7Fc//6UTY1l8FVa4Ex4sthRiIiIKhWVHoXfrv0GAJjbba7IaUgX6N+nNiIDodLj8V+lWrha41x4CkpUgthRiIiIKrTo7CKUCCXo06gP2ru1FzsO6QAWYEQ66l5iFjLyitDMWX8LMH83a2QVFOP6wwyxoxAREZUTnxWPDaEbAPDqF1UdCzAiHXUuPAVymQS+Sv1ZgPlJjR0tYGokwxlOR09ERFro+6DvUVBSgM7undG9YXex45COYAFGpKOCIlLQRGmpl+O/SsmkEjR3tcLpMI4DIyIi7ZKSm4I1wWsAPL76JZFIRE5EukJ/P7kR6bESlYDz91PQXI/Hf5Xyc7VGSHQacguLxY5CRESktuzCMuQU5aCNcxsM8B4gdhzSISzAiHTQzbgMZBUUo7mrARRgblYoVgkIjkoTOwoREREAIKsgCysurgAAzOk2h1e/qFpYgBHpoKD7KTCRS/Vy/a8nudmYwsbMCOfup4gdhYiICACwPnQ90vPT4WPng5ebvix2HNIxLMCIdNC5+ylo6mwJuUz//4QlEgmau1jhHNcDIyIiLVBUUoQfzv8AAPig0weQSWUiJyJdo/+f3oj0TGGxChciU9Dc1VrsKPXGz9UaN+IykJFXJHYUIiIycDtu7UBMRgwczRwxttVYseOQDmIBRqRjQmPSkF+kgr+b4RRgLVytoBKACxHshkhEROIRBAHfnfsOAPBe+/dgamQqciLSRSzAiHTM2fspsFTI0dDeTOwo9cbJSgEnSxOOAyMiIlEdjTyKKwlXYGZkhqntpoodh3QUCzAiHXMmLAnNXawgNbAZl5q7WOHcfY4DIyIi8ZRe/ZrQegLszexFTkO6igUYkQ7Jyi/C1dgMtDCg8V+lmrta4d6jbKTmFIodhYiIDNDVhKs4fP8wpBIpZnaaKXYc0mEswIh0yMXIVJQIgkGN/yrV7H+LTl+MZDdEIiKqf4uDFgMAhjcfDi9bL5HTkC5jAUakQ86EJ8PR0gRKKxOxo9Q7B4vHj/t8RKrYUYiIyMDEZsTijxt/AAA+7PyhyGlI17EAI9Ihp+4lwc/VGhIDG/9Vqpkzx4EREVH9W3p+KYpVxejh2QOBroFixyEdxwKMSEfEZ+ThflKOQXY/LMVxYEREVN/S89Px8+WfAfDqF2kGCzAiHXEmLBkSAH5uVmJHEU1zjgMjIqJ6tu7yOmQXZqOFYwsM8B4gdhzSAyzAiHTEmfBkeDmaw1JhJHYU0dj/bxzYxcg0saMQEZEBKFYVY8XFFQCAGR1nGOwQANIsFmBEOkClEnA6LBl+Bjj9/JN8lZa4wCtgRERUD/bc2YOYjBg4mDngtZaviR2H9AQLMCIdcDshE6k5hQY9/qtUM2cr3I7PRGZ+kdhRiIhIzy27sAwAMDlgMhRyhchpSF+wACPSAafDkmEil6KJs6XYUUTX1MUSKgEIiWY3RCIiqjvBccE4E3MGRlIjTGk3Rew4pEdYgBHpgFP3ktDcxQpGMv7JOlspYGtmhIuRXA+MiIjqTunVr1dbvApXS1eR05A+4ac5Ii2XV1iCS1Gp8G/A7ocAIJFI0MTZkgUYERHVmfiseGy7sQ0AML3jdHHDkN5hAUak5S5EpqCoREBLNxuxo2iNps5WuBqbjvyiErGjEBGRHlodvBpFqiJ0ce/ChZdJ41iAEWm502HJsLcwhqsNB/+WauJsiWKVgKux6WJHISIiPZNfnI/VwasBAO93eF/kNKSPWIARabmT95Lg72rNtUf+xcPWDKZGMgRzIg4iItKwLde3IDk3Ge5W7ni52ctixyE9xAKMSIvFZ+QhPDEbLRvYiB1Fq0ilEvgqLTgOjIiINEoQBPXkG++1fw9yqVzkRKSPWIARabHT95IhAeDnZiV2FK3jq7TE5eg0lKgEsaMQEZGeOBF1AtceXYOZkRkmtZ0kdhzSUyzAiLTYqbAkNHaygKXCSOwoWqepsyWyCopx71GW2FGIiEhPLL2wFAAwrtU42JraihuG9BYLMCItVaIScDosGf5unH6+Io2dLCCTShAcxW6IRERUexFpEdh3dx8AYFqHaSKnIX3GAoxIS914mIGMvCK0ZAFWIRO5DF4O5rgUxYk4iIio9lZfWg0BAvo17oemDk3FjkN6TPQCbNWqVfDy8oJCoUBAQABOnz791PYnT55EQEAAFAoFGjVqhDVr1pS5/+bNmxg2bBg8PT0hkUiwdOnScsf48ssvIZFIytycnZ01+bCIau10WBJMjWTwVlqIHUVr+TpZIDiaV8CIiKh2cotysT50PQDg3XbvipyG9J2oBdi2bdswffp0zJ07F6GhoejWrRsGDBiAmJiYCttHRkZi4MCB6NatG0JDQzFnzhxMmzYNO3fuVLfJzc1Fo0aN8O233z61qGrRogXi4+PVt+vXr2v88RHVxsl7SWjhagW5VPTvSbSWr9IScen5SMjIFzsKERHpsD9u/IG0/DQ0tG6IgT4DxY5Dek7UT3ZLlizBxIkTMWnSJDRr1gxLly6Fu7s7Vq9eXWH7NWvWwMPDA0uXLkWzZs0wadIkTJgwAYsXL1a3adeuHb777juMHDkSJiYmlZ5bLpfD2dlZfXN0dNT44yOqqaz8IoTGpKNlA3Y/fBofpSUA4HIMuyESEVHNCIKAlZdWAgCmtpsKmVQmciLSd6IVYIWFhQgJCUG/fv3KbO/Xrx/OnTtX4T5BQUHl2vfv3x/BwcEoKiqq1vnDwsLg6uoKLy8vjBw5EhEREU9tX1BQgMzMzDI3orpyPiIVxSqB6389g525MZwsTRDCBZmJiKiGLjy8gMvxl2EiM8GENhPEjkMGQLQCLDk5GSUlJVAqlWW2K5VKJCQkVLhPQkJChe2Li4uRnJxc5XN36NABmzdvxqFDh7B27VokJCSgc+fOSElJqXSfBQsWwNraWn1zd3ev8vmIqut0WBKUViZQWinEjqL1fJSWuMSZEImIqIZKr36N9BsJBzMHkdOQIRB9cIlEIinzsyAI5bY9q31F259mwIABGDZsGPz9/dGnTx/s378fAPDLL79Uus/s2bORkZGhvsXGxlb5fETVdfJuEqefryJfpQVuxWUiv6hE7ChERKRjEnMSsf3mdgDAu+05+QbVD9EKMAcHB8hksnJXuxITE8td5Srl7OxcYXu5XA57e/saZzE3N4e/vz/CwsIqbWNiYgIrK6syN6K6EJuai+jUXHY/rCJfpSWKVQKuPcgQOwoREemYdZfXobCkEO3d2iPQNVDsOGQgRCvAjI2NERAQgCNHjpTZfuTIEXTu3LnCfTp16lSu/eHDhxEYGAgjI6MaZykoKMDt27fh4uJS42MQacrpsGRIJUALVxb5VeFuawaFkZQTcRARUbUUq4qxJvjxckbvtHtH5DRkSETtgjhz5kysW7cOGzZswO3btzFjxgzExMRg8uTJAB53+xs7dqy6/eTJkxEdHY2ZM2fi9u3b2LBhA9avX49Zs2ap2xQWFuLKlSu4cuUKCgsL8fDhQ1y5cgXh4eHqNrNmzcLJkycRGRmJCxcuYPjw4cjMzMS4cePq78ETVeJUWBJ8nCxhZiwXO4pOkEklaOxowYk4iIioWv669xdiM2PhYOaAV1u8KnYcMiCiFmAjRozA0qVLMX/+fLRu3RqnTp3CgQMH0LBhQwBAfHx8mTXBvLy8cODAAZw4cQKtW7fGV199heXLl2PYsGHqNnFxcWjTpg3atGmD+Ph4LF68GG3atMGkSZPUbR48eIBRo0ahSZMmGDp0KIyNjXH+/Hn1eYnEUqIScDY8GX4c/1UtPk4WuBydph4TSqQtVq1aBS8vLygUCgQEBOD06dNPbV9QUIC5c+eiYcOGMDExQePGjbFhw4Z6SktkWH68+CMAYFKbSVDIOekV1R/Rv2KfOnUqpk6dWuF9mzZtKrete/fuuHz5cqXH8/T0fOaHsD/++KNaGYnqy7UH6cjKL+b6X9Xko7TEnitxiE3Ng4e9mdhxiAAA27Ztw/Tp07Fq1Sp06dIFP/30EwYMGIBbt27Bw8Ojwn1effVVPHr0COvXr4e3tzcSExNRXFxcz8mJ9N+d5Ds4GnkUUokUkwMnix2HDIzoBRgR/b/TYckwM5ahsaOF2FF0io/T4+frckwaCzDSGkuWLMHEiRPVPTCWLl2KQ4cOYfXq1ViwYEG59n///TdOnjyJiIgI2NnZAXj8pSIRad6qS6sAAIN9B6OhDXtAUf0SfRp6Ivp/p8OS0MLVCjJp1ZdVIMBSYQRXGwUn4iCtUVhYiJCQEPTr16/M9n79+uHcuXMV7rN3714EBgZi0aJFcHNzg6+vL2bNmoW8vLxKz1NQUIDMzMwyNyJ6uqyCLPxy9fHSQ5x8g8TAK2BEWiKnoBihMekY04nfxNWENyfiIC2SnJyMkpKScsuqKJXKcsuplIqIiMCZM2egUCiwe/duJCcnY+rUqUhNTa10HNiCBQswb948jecn0me/XfsNmQWZ8LX3RZ9GfcSOQwaIV8CItMSFyBQUqwT4u3L8V034KC1xJz4LeYVckJm0h0RS9mq2IAjltpVSqVSQSCT4/fff0b59ewwcOBBLlizBpk2bKr0KNnv2bGRkZKhvsbGxGn8MRPpEEASsvLQSADA1cCqkEn4UpvrH3zoiLXE6LBmOFiZwtuZMTDXh42SBEkHAtQfpYkchgoODA2QyWbmrXYmJieWuipVycXGBm5sbrK3//0uYZs2aQRAEPHjwoMJ9TExMYGVlVeZGRJU7FX0KN5NuwszIDONac/khEgcLMCItcSYsGX5uVpV+O05PV7ogc2hsuthRiGBsbIyAgAAcOXKkzPYjR46gc+fOFe7TpUsXxMXFITs7W73t3r17kEqlaNCgQZ3mJTIUa0IeL7z8mv9rsFHYiBuGDBYLMCItkJiZj7DEbK7/VQvS/y3IHMqJOEhLzJw5E+vWrcOGDRtw+/ZtzJgxAzExMZg8+fGU17Nnz8bYsWPV7UePHg17e3u88cYbuHXrFk6dOoUPP/wQEyZMgKmpqVgPg0hvJOUkYeetnQDAqedJVJyEg0gLnL2fDADw4/ivWvF2ssDZ8OSnjrMhqi8jRoxASkoK5s+fj/j4ePj5+eHAgQNo2PDxRDvx8fGIiYlRt7ewsMCRI0fw3nvvITAwEPb29nj11Vfx9ddfi/UQiPTKpiubUKQqQjvXdmjr0lbsOGTAWIARaYEzYSnwtDeDlamR2FF0mo+TJf57JQ4P0/PQwJbrgZH4pk6diqlTp1Z436ZNm8pta9q0ablui0RUeypBhZ9CfgIAvB3wtshpyNCxCyKRyARBwJnwJLTg1a9a+/8FmdPFDUJERFrlWOQx3E+7DysTK4z0Gyl2HDJwLMCIRBaRnINHmQXwc+PsZbVlZWoEZysFx4EREVEZa4IfT74xpuUYmBubi5yGDB0LMCKRnQ1PhlwqQVNnFmCa0NjJApdZgBER0f/EZ8Xjv3f/C4DdD0k7sAAjEtnZ8GT4OFlAYSQTO4pe8HGywK24TBQUc0FmIiICNoRuQLGqGJ3dO8Nf6S92HCIWYERiKlEJCLqfguYc/6Ux3k4WKCoRcDMuU+woREQkshJVCdZeXguAV79Ie9SoAIuMjNR0DiKDdDs+E5n5xfBzZfdDTWloZwZjmRShnIiDiMjgHb5/GNEZ0bBV2OKV5q+IHYcIQA0LMG9vb/Ts2RO//fYb8vPzNZ2JyGCcu58ME7kU3v+bvY9qTy6TopGjOceBERER1oQ8nnxjXKtxMDXiguakHWpUgF29ehVt2rTBBx98AGdnZ7z99tu4ePGiprMR6b2z4Slo4mwJuYy9gTXJ28kCIdEswIiIDNmDzAf4695fAIC3A9n9kLRHjT71+fn5YcmSJXj48CE2btyIhIQEdO3aFS1atMCSJUuQlJSk6ZxEeqewWIWLkalo4cLuh5rm7WSBhIx8PMrkFXoiIkO17vI6qAQVujfsjqYOTcWOQ6RWq6/d5XI5Xn75ZWzfvh0LFy7E/fv3MWvWLDRo0ABjx45FfHy8pnIS6Z1rD9KRV1TCCTjqgI+TJQBwPTAiIgNVrCrGusvrAACTAyeLnIaorFoVYMHBwZg6dSpcXFywZMkSzJo1C/fv38exY8fw8OFDvPjii5rKSaR3gu6nwMxYBi8HLgipaXbmxnCwMOZEHEREBmr/vf14mPUQDmYOeLnpy2LHISpDXpOdlixZgo0bN+Lu3bsYOHAgNm/ejIEDB0IqfVzPeXl54aeffkLTprzcS1SZc/dT0NTZEjKpROwoesmbCzITERmsn0J+AgBMaD0BJnITkdMQlVWjAmz16tWYMGEC3njjDTg7O1fYxsPDA+vXr69VOCJ9VVBcgssxaRge0EDsKHrL29ESf4bEoqhEBSNOckJEZDCi0qPwd/jfAIA3A94UOQ1ReTUqwI4cOQIPDw/1Fa9SgiAgNjYWHh4eMDY2xrhx4zQSkkjfXIlJR0GxCi04/qvO+CgtkF+swp34LPg34PNMRGQo1oashQABfRr1gbedt9hxiMqp0dfCjRs3RnJycrntqamp8PLyqnUoIn0XFJECcxMZGtqZiR1Fb3nam0MulbAbIhGRASkqKcL60Mc9sCYHcPIN0k41KsAEQahwe3Z2NhQKRa0CERmCoPspaOZsBSnHf9UZY7kUXg5ckJmIyJD89+5/8SjnEZwtnDGkyRCx4xBVqFpdEGfOnAkAkEgk+Pzzz2Fm9v/f3peUlODChQto3bq1RgMS6Zv8ohKExqRjRDt3saPoPS7ITERkWEon35jYZiKMZEYipyGqWLUKsNDQUACPr4Bdv34dxsbG6vuMjY3RqlUrzJo1S7MJifTMldh0FJao0NyVCzDXNR8nSxy8kYCkrAI4WnIWLCIifRaeGo5/Iv6BBBK82ZaTb5D2qlYBdvz4cQDAG2+8gWXLlsHKih8giarrQkQqzE1k8LDl+K+65qu0AABcjklD/xYVz9hKRET64eeQnwEAA3wGoKFNQ5HTEFWuRmPANm7cyOKLqIbOR6SgqZLjv+qDvYUJ7M2NcZndEImI9FpBcQE2XtkIAHg74G2R0xA9XZWvgA0dOhSbNm2ClZUVhg4d+tS2u3btqnUwIn1UUFyC0Jg0DA/g+K/64qPkODAiIn236/YuJOcmw83SDQN9Boodh+ipqlyAWVtbQyKRqP+fiKrv2oMM5Ber0MzFUuwoBsPHyRLbg2NRWKyCsZwLMhMR6aPSyTfebPsm5NIaLXNLVG+q/Bu6cePGCv+fiKruQkQKzIxl8LQ3FzuKwfBxskBBsQq34jPR2t1G7DhERKRht5Nu42T0SUglUkxsO1HsOETPVKOvg/Py8pCbm6v+OTo6GkuXLsXhw4c1FoxIH12ITEUTpSXHf9UjTwdzGMkkHAdGRKSnSiffeMH3BTSwaiByGqJnq1EB9uKLL2Lz5s0AgPT0dLRv3x7ff/89XnzxRaxevVqjAYn0RXGJCiHRaWjqzO6H9clIJkVjRwsER6eKHYWIiDQsrygPm65uAsDJN0h31KgAu3z5Mrp16wYA+PPPP+Hs7Izo6Ghs3rwZy5cv12hAIn1xKz4TuYUlaOrCGUTrm4+TBYKj0iAIgthRiIhIg3bc2oH0/HR42niiX+N+YschqpIaFWC5ubmwtHz8Lf7hw4cxdOhQSKVSdOzYEdHR0RoNSKQvLkamwkQuRSMHjv+qb75KSyRmFeBhep7YUYiISIP+PfmGTCoTOQ1R1dSoAPP29saePXsQGxuLQ4cOoV+/x984JCYmcn0wokpciEyFj5MF5DLOxFfffJWPvzDidPRERPrj+qPrOBd7DnKpHBPaTBA7DlGV1eiT4Oeff45Zs2bB09MTHTp0QKdOnQA8vhrWpk0bjQYk0gcqlYCLkalo4swvKMRgZWoEF2sFJ+IgItIjpVe/Xmr6EpwtnEVOQ1R1NVooYfjw4ejatSvi4+PRqlUr9fbevXvj5Zdf1lg4In0RlpiNjLwiTsAhIl+lJS5FsQAjItIHOYU5+PXarwA4+QbpnhqvVOfs7Axn57LfNrRv377WgYj00cWoVMikEvgoLcSOYrB8lZY4HZaErPwiWCqMxI5DRES18MeNP5BZkAlvO2/08uoldhyiaqlRAZaTk4Nvv/0WR48eRWJiIlQqVZn7IyIiNBKOSF9cikxFIwdzmMg5QFgsTZwtoRKA0Jh0POfrKHYcIiKqhTUhawAAb7V9C1IJx1aTbqlRATZp0iScPHkSY8aMgYuLCyQSLipLVBlBeDz+K9DTVuwoBs3VWgErhRzBUakswIiIdNjl+MsIjguGscwY41uPFzsOUbXVqAA7ePAg9u/fjy5dumg6D5HeeZieh4TMfDRRcvyXmCQSCZo4W+Iix4EREem0NcGPr34NazYMjub8Qo10T42u2dra2sLOzk7TWYj00qWoVACPu8CRuHyVlrgSk4aiEtWzGxMRkdbJLMjElutbAACTAyeLnIaoZmpUgH311Vf4/PPPkZubq+k8RHrnYmQa3G1NOfGDFmjqbIn8YhVuxmWKHYWIiGpgy/UtyCnKQTOHZujm0U3sOEQ1UqMuiN9//z3u378PpVIJT09PGBmV/WB5+fJljYQj0geXolLVCwGTuDztzWEil+JSZCpau9uIHYeIiKpBEAR198O3At7iHASks2pUgL300ksajkGkn9JyChGemI1+zZViRyEAcpkU3k4WuBiVijefayR2HCIiqoaLDy/i6qOrUMgVGNtqrNhxiGqsRgXYF198oekcRHopJPrxhA+cgEN7NHW2xD+3E6FSCZBK+e0pEZGuKJ16/tUWr8LOlHMRkO6q8cIJ6enpWLduHWbPno3U1MeTDFy+fBkPHz7UWDgiXXcpOhV25sZwtDQROwr9T1NnK2TkFSEsMVvsKEREVEVpeWnYdmMbAGByACffIN1Woytg165dQ58+fWBtbY2oqCi8+eabsLOzw+7duxEdHY3NmzdrOieRTroUmQpfpQX7qWsRH6UFZFIJLkamcGZKIiId8eu1X5FXnAd/J390bNBR7DhEtVKjK2AzZ87E+PHjERYWBoVCod4+YMAAnDp1SmPhiHRZflEJrj3IQBOlldhR6F9M5DI0djTH+YhUsaMQEVEVCIKAn0J+AvB46nl+qUm6rkYF2KVLl/D222+X2+7m5oaEhIRahyLSB9ceZKBYJfAqixZq6myFC5EpEARB7ChERPQMZ2LO4FbSLZgZmeE1/9fEjkNUazUqwBQKBTIzy6+jc/fuXTg6ckVyIuDx9POmRjJ42JmJHYWe0NTZEsnZhYhMzhE7ChERPUPp1a9RfqNgrbAWOQ1R7dWoAHvxxRcxf/58FBUVAQAkEgliYmLwySefYNiwYRoNSKSrQqJS4e30eLwRaZcmzpaQSoALkeyGSESkzZJzk/HnrT8BPO5+SKQPalSALV68GElJSXByckJeXh66d+8Ob29vWFpa4j//+Y+mMxLpHJVKQHB0GnyVFmJHoQqYGcvRyMEc5yNSxI5CRERP8cuVX1BQUoC2Lm0R6BoodhwijajRLIhWVlY4c+YMjh8/jpCQEKhUKrRt2xZ9+vTRdD4inXQ/KRuZ+cVo4swJOLRVUxcrBN1/PA6MA7qJiLRPmck3OPU86ZFqF2AqlQqbNm3Crl27EBUVBYlEAi8vLzg7O/ODDNH/BEenQSoBvB15BUxbNXexwl/X4hGVkgsvB3Ox4xAR0ROORx1HWGoYLI0tMcp/lNhxiDSmWl0QBUHAkCFDMGnSJDx8+BD+/v5o0aIFoqOjMX78eLz88st1lZNIpwRHpaGhvTlMjWViR6FKlI4DYzdEIiLtVHr16/WWr8PCmF9okv6o1hWwTZs24dSpUzh69Ch69uxZ5r5jx47hpZdewubNmzF27FiNhiTSNcFRqZx+Xsv9exzYqPYeYschIqJ/eZT9CLtu7wIAvB1QfukjIl1WrStgW7duxZw5c8oVXwDQq1cvfPLJJ/j99981Fo5IFyVlFSA6NZcFmA5o7mqNc/e5HhgRkbbZeGUjilXF6NigI1o5txI7DpFGVasAu3btGp5//vlK7x8wYACuXr1a61BEuiwkOg0A0ETJAkzbNXexQlJWAe4ncT0wIiJtoRJU+DnkZwC8+kX6qVoFWGpqKpRKZaX3K5VKpKWl1ToUkS4LiU6Fg4Ux7C1MxI5Cz9DE2RIyqQRB95PFjkJERP9z5P4RRKZHwtrEGq+2eFXsOEQaV60CrKSkBHJ55cPGZDIZiouLax2KSJddikqDjxOvfukChZEMPk4WOHufE3EQEWmL0sk3xrUaBzMjM5HTEGletSbhEAQB48ePh4lJxd/sFxQUaCQUka7KLyrBjYcZeK1DQ7GjUBU1d7XC0duJUKkESKVcRoOISExxWXHYe3cvAODtQHY/JP1UrQJs3Lhxz2zDGRDJkF1/mIFilcAJOHRIC1dr7Lr8ELfiM+HnZi12HCIig7b+8nqUCCXo5tENzR2bix2HqE5UqwDbuHFjXeUg0gvBUWlQGEnhYccuE7rCx8kCJnIpgu6nsAAjIhJRsaoYP1/m5Buk/6o1BoyIni4kOhXejhaQsSubzjCSSdFEaYkz4ZyIg4hITH/d+wsPMh/AwcwBw5oPEzsOUZ1hAUakIYIgICQ6Db6cfl7ntHCzxoXIFBQWq8SOQkRksFZeWgkAmNRmEhRyhchpiOqO6AXYqlWr4OXlBYVCgYCAAJw+ffqp7U+ePImAgAAoFAo0atQIa9asKXP/zZs3MWzYMHh6ekIikWDp0qUaOS/Rs0Qk5yAtt4gFmA7yc7VCfpEKV2LTxY5Ceqam7zVnz56FXC5H69at6zYgkZa4m3wX/0T8AwkknHyD9J6oBdi2bdswffp0zJ07F6GhoejWrRsGDBiAmJiYCttHRkZi4MCB6NatG0JDQzFnzhxMmzYNO3fuVLfJzc1Fo0aN8O2338LZ2Vkj5yWqipDoNEgA+CgtxI5C1eRpbw4LEzm7IZJG1fS9JiMjA2PHjkXv3r3rKSmR+NYEP/5CfZDvIHjaeIobhqiOSQRBEMQ6eYcOHdC2bVusXr1ava1Zs2Z46aWXsGDBgnLtP/74Y+zduxe3b99Wb5s8eTKuXr2KoKCgcu09PT0xffp0TJ8+vVbnrUhmZiasra2RkZEBKyurKu1D+u3jP68hKCIFC4e1FDsK1cAP/9xDcYkKu6Z2ETsKPYOuvP7W9L1m5MiR8PHxgUwmw549e3DlypUqn1NXnhuif8spzIHbEjdkFGTg4GsH8bz382JHIqq26rz+inYFrLCwECEhIejXr1+Z7f369cO5c+cq3CcoKKhc+/79+yM4OBhFRUV1dl7g8RpnmZmZZW5E/3YpKhW+vPqls/xcrXA1NgNZ+VV7LSF6mpq+12zcuBH379/HF198UaXz8L2J9MHWG1uRUZCBxraN0a9xv2fvQKTjRCvAkpOTUVJSAqVSWWa7UqlEQkJChfskJCRU2L64uBjJyVXrOlST8wLAggULYG1trb65u7tX6XxkGNJyChGRnMPxXzrM380GJYKACxGpYkchPVCT95qwsDB88skn+P333yGXV22VGL43ka4TBEE9+caUwCmQSkSfnoCozon+Wy6RlJ2uWxCEctue1b6i7Zo+7+zZs5GRkaG+xcbGVut8pN8ux6QBAAswHaa0MoGjpQnHgZFGVfW9pqSkBKNHj8a8efPg6+tb5ePzvYl03fkH53El4QoUcgXGtx4vdhyielGthZg1ycHBATKZrNw3gYmJieW+MSzl7OxcYXu5XA57e/s6Oy8AmJiYwMTEpErnIMNzKSoNtmZGcLLk74iukkgk8HO1xumwJLGjkB6o7ntNVlYWgoODERoainfffRcAoFKpIAgC5HI5Dh8+jF69epXbj+9NpOtKr36N9BsJe7OqfZYj0nWiXQEzNjZGQEAAjhw5Umb7kSNH0Llz5wr36dSpU7n2hw8fRmBgIIyMjOrsvETPEhyVCh+lZbWvxJJ28Xezwv2kHCRk5IsdhXRcdd9rrKyscP36dVy5ckV9mzx5Mpo0aYIrV66gQ4cO9RWdqN4k5iRix60dAIB32r0jchqi+iPaFTAAmDlzJsaMGYPAwEB06tQJP//8M2JiYjB58mQAj7tWPHz4EJs3bwbweMbDH3/8ETNnzsSbb76JoKAgrF+/Hlu3blUfs7CwELdu3VL//8OHD3HlyhVYWFjA29u7Suclqo6C4hJce5CBEe049kLXtXCzBgCcCU/G8IAGIqchXVed9zipVAo/P78y+zs5OUGhUJTbTqQvNoRuQGFJIdq5tkOga6DYcYjqjagF2IgRI5CSkoL58+cjPj4efn5+OHDgABo2bAgAiI+PL7NeipeXFw4cOIAZM2Zg5cqVcHV1xfLlyzFs2DB1m7i4OLRp00b98+LFi7F48WJ0794dJ06cqNJ5iarjxsNMFJaoOP5LD1gpjODlYI4zYUkswKjWqvseR2RISlQl6rW/prabKnIaovol6jpguoxrrVCpn0/dx/eH72HduEDIpaLPa0O1tOVCNM5FpCB4bh92KdVSfP2tHJ8b0hX77u7DkD+GwM7UDg9mPICpkanYkYhqRSfWASPSF8FRaWjsaMHiS0/4N7BBSnYh7iRkiR2FiEhvlU6+MaH1BBZfZHD4iZGoFgRBQHB0Ghdg1iNNlJYwlklxJozT0RMR1YXw1HAcun8IEkgwOZDj78nwsAAjqoWolFyk5hSiiTPHf+kLY7kUTZ0tOR09EVEdWX1pNQDgee/n0diuschpiOofCzCiWrgUlQoJAB8nFmD6xM/NGhcjU5FfVCJ2FCIivZJTmIONVzYC4OQbZLhYgBHVQkhUGjzszWBuIuqEoqRh/g2skV+swuXoNLGjEBHpld+v/460/DQ0sm2EAd4DxI5DJAoWYES1cDEqlVe/9JCHnRmsTY1wiuPAiIg0RhAELL+wHADwbrt3IZPKRE5EJA4WYEQ1lJJdgMjkHDTl+C+9I5VI4OdqxXFgREQadCzyGG4m3YS5kTneaPOG2HGIRMMCjKiGQv7XPY0LMOsn/wbWuBWXidScQrGjEBHpheUXH1/9Gt96PGwUNuKGIRIRCzCiGroUlQp7C2M4WBiLHYXqgL+bDQQAZ8PZDZGIqLYi0iKw7+4+AMC77d8VOQ2RuFiAEdXQhchUNFFaQiKRiB2F6oCduTEa2JpyPTAiIg348eKPECCgf+P+aOrQVOw4RKJiAUZUA7mFxbgVl8nxX3rOz9Uap8KSIAiC2FGIiHRWdmE21oeuBwC83+F9kdMQiY8FGFENXIlJR7FKQFNnK7GjUB3yd7NGfEY+olJyxY5CRKSzNl/djMyCTPjY+aC/d3+x4xCJjgUYUQ1cjEqFhYkcbramYkehOtTMxQoyqQRnOBsiEVGNqAQVVlxcAQB4r/17kEr40ZOIfwVENXAxMhW+SgtIOf5Lr5kay+DjZIHTHAdGRFQjR+4fwZ3kO7A0tsT41uPFjkOkFViAEVVTUYkKoTHpaMLuhwbBz80a5+6noLhEJXYUIiKdUzr1/IQ2E2BpwnHTRAALMKJqu/EwA3lFJWjGCTgMgr+bNbILinH1QYbYUYiIdEpYShgOhB2ABBJOPU/0LyzAiKrpYmQqTORSeDmaix2F6kFjRwuYGcu4HhgRUTUtu7AMADDQZyC87bxFTkOkPViAEVXThYgU+CotIZfyz8cQyKQSNHex4npgRETVkJqXio1XNgIAZnScIXIaIu3CT5BE1VCiEnApKo3rfxkYfzdrXI5JQ05BsdhRiIh0wk/BPyG3KBetlK3Qy6uX2HGItAoLMKJquJOQiayCYjRz4QQchsTPzRrFKgEXo1LFjkJEpPUKSwrVU89/0OkDSDhjMFEZLMCIquFCRCqMZBI0drQQOwrVIxdrBewtjNkNkYioCrZe34r47Hi4WrpihN8IseMQaR0WYETVcCEyBd5OFjCW80/HkEgkEvi5WuM0F2QmInoqQRDwfdD3AIBp7afBWGYsciIi7cNPkURVpFIJOB+Ryu6HBsrPzRr3HmUjKatA7ChERFrrn4h/cD3xOsyNzPFWwFtixyHSSizAiKro7qMsZOQVoTkLMIPk5/r43/3cfXZDJCKqTOnVr4ltJsLW1FbkNETaiQUYURWdj0iBkUwCHyfOgGiIbMyM4WFnxvXAiIgqcSPxBg7dPwSpRIr3O74vdhwircUCjKiKgu6nwMfJkuO/DFgLVyucDkuGIAhiRyEi0jpLgpYAAF5u+jIa2TYSOQ2R9uInSaIqeDz+KwXNXHj1y5D5uVojPiMfUSm5YkchItIqCdkJ+P367wAeTz1PRJVjAUZUBXcSspCZX8zxXwaumYsVpBLgDLshEhGV8ePFH1FYUohODTqhk3snseMQaTUWYERVcO5+MoxlUnhz/JdBMzWWwUdpyXFgRET/klWQhVWXVgHg1S+iqmABRlQFZ8KT0cSZ47/o8Tiwc+HJKFFxHBgREQCsvbwWaflp8LHzwUtNXxI7DpHW46dJomcoKlHhYmQqWriy+yEB/q7WyMwvxq24TLGjEBGJrqC4QD31/EddPoJMKhM5EZH2YwFG9AxXY9ORW1iCFq7WYkchLeDtZAETuZTjwIiIAPx27TfEZcXB1dIVY1qOETsOkU5gAUb0DGfDU2BuLEMjB3Oxo5AWkMukaOZixXFgRGTwSlQlWHh2IQBgZseZMJGbiJyISDewACN6hnP3kx/PfieViB2FtEQLVytcikpFflGJ2FGIiESz+85uhKWGwVZhi7cC3hI7DpHOYAFG9BQ5BcUIiU5j90Mqw9/NGgXFKlyOSRM7ChGRKARBwIIzCwAA77Z/F5YmnCWYqKpYgBE9xYXIFBSrBLRqwAKM/p+7nRmsFHJ2QyQig/VPxD+4HH8ZpnJTTOswTew4RDqFBRjRU5wOS4ajpQmcrRViRyEtIpVI0MLVmhNxEJHBKr369WbbN+Fg5iByGiLdwgKM6ClO3UuCn6s1JBKO/6Ky/Nyscf1BBjLyisSOQkRUry48uIDjUcchl8rxQWcuvExUXSzAiCoRn5GH+0k5aMnuh1QBP1crqATgfESK2FGIiOpV6dWv1/xfg4e1h8hpiHQPCzCiSpwOS4YEgB8n4KAKOFkpoLQywTl2QyQiA3Il4Qr+e/e/kECCj7t8LHYcIp3EAoyoEifuJsLbyQIWCrnYUUhL+bla41QYCzAiMhzzT84HAIzwG4Fmjs1ETkOkm1iAEVWguESF02HJaNnARuwopMX83KwRmZyD+Iw8saMQEdW5a4+uYfed3ZBAgs+e+0zsOEQ6iwUYUQVCY9ORlV+M1u7sfkiVa+FqBQmAM7wKRkQGoPTq1ystXkFzx+YipyHSXSzAiCpw4m4iLBVyNHKwEDsKaTFLhRG8HM25HhgR6b3rj65j5+2dAMCrX0S1xAKMqALH7yShpZs1pFJOP09P5+dqjdPhyRAEQewoRER15qtTXwEAhjcfDj8nP5HTEOk2FmBET0jMzMet+Ey0crcROwrpAD83a6RkF+Leo2yxoxAR1YmbiTfx560/AQCfP/e5yGmIdB8LMKInHLuTCKkELMCoSpooLWEsk+J0WJLYUYiI6sRXp76CAAFDmw2Fv9Jf7DhEOo8FGNETjt5JhI/SElYKI7GjkA4wlkvR1NkSpzkRBxHpoVtJt7D95nYAvPpFpCkswIj+Jb+oBKfDktCWV7+oGvwbWONCRAryi0rEjkJEpFHzT86HAAEvNX0JrZxbiR2HSC+wACP6l6CIFOQXqdDGw1bsKKRD/N2skV+swuXoNLGjEBFpzJWEK9h2cxsAYF6PeSKnIdIfLMCI/uXo7UdQWpmgga2p2FFIh3jYmcHGzAin2A2RiPTIp8c+BQCM8huFlsqWIqch0h8swIj+R6UScOTWI7TxsIVEwunnqeokEgn8XK1x6h4n4iAi/XA25iz2h+2HTCLj1S8iDWMBRvQ/1x9m4FFmAdp52okdhXRQywbWuBWfiaSsArGjEBHViiAImHNsDgBgQpsJ8LH3ETkRkX5hAUb0P4dvJcBSIUcTpaXYUUgH+btZAwDOhPMqGBHptiMRR3Aq+hRMZCb4vDtnPiTSNBZgRP/z940EtPWwhUzK7odUfTZmxmjkYI6Td1mAEZHuEgQBc44+vvr1Trt30MCqgciJiPQPCzAiABFJ2biflIPAhpz9kGrOv4E1Tt5LgkoliB2FiKhGdt3ehZD4EFgYW+CTrp+IHYdIL7EAIwJw8EYCFEZS+DewFjsK6bBWDWyQlluEG3EZYkchIqq2wpJCfHL0cdE1s+NMOJo7ipyISD+xACMCsP9aPFq728BELhM7CukwH6UFTI1kOMFuiESkg34K/gnhqeFQmisxq/MsseMQ6S0WYGTwolNycCs+Ex297MWOQjpOLpXC380ax+8mih2FiKha0vPTMe/k4+nm5/ecD0sTTkhFVFdYgJHBO3gjASZyKVq524gdhfRAa3cbXIlJR2pOodhRSAusWrUKXl5eUCgUCAgIwOnTpyttu2vXLvTt2xeOjo6wsrJCp06dcOjQoXpMS4ZswekFSMlLQXPH5pjQZoLYcYj0GgswMnj7r8WjlbsNFEbsfki119rDBgLARZkJ27Ztw/Tp0zF37lyEhoaiW7duGDBgAGJiYipsf+rUKfTt2xcHDhxASEgIevbsiRdeeAGhoaH1nJwMTVR6FJZdWAYA+K7vd5BL5SInItJvLMDIoEUl5+D6wwx09OLiy6QZtv+bjv74HXZDNHRLlizBxIkTMWnSJDRr1gxLly6Fu7s7Vq9eXWH7pUuX4qOPPkK7du3g4+ODb775Bj4+Pti3b189JydDM/fYXBSUFKCXVy8M8B4gdhwivccCjAzaX9fioDCSoi2nnycNauVugxP3klDC6egNVmFhIUJCQtCvX78y2/v164dz585V6RgqlQpZWVmws+MXRFR3Lj28hC3Xt0ACCRb3XQyJhGthEtU1FmBk0PZejUNAQ1vOfkga1cbdBhl5RbgckyZ2FBJJcnIySkpKoFQqy2xXKpVISEio0jG+//575OTk4NVXX620TUFBATIzM8vciKpKEAR8cPgDAMCYVmPQxqWNyImIDAMLMDJYdxOycO9RNjo1chA7CumZxo4WsDY1wj+3HokdhUT25NUEQRCqdIVh69at+PLLL7Ft2zY4OTlV2m7BggWwtrZW39zd3WudmQzHHzf+wOmY0zCVm+Lrnl+LHYfIYLAAI4O19+pDmJvI0JKLL5OGSaUStPWwwWEWYAbLwcEBMpms3NWuxMTEclfFnrRt2zZMnDgR27dvR58+fZ7advbs2cjIyFDfYmNja52dDEN2YTZmHXm81tecbnPgbs3inai+sAAjg6RSCdgd+hAdvOxhJOOfAWle24a2iEzOwf2kbLGjkAiMjY0REBCAI0eOlNl+5MgRdO7cudL9tm7divHjx2PLli0YNGjQM89jYmICKyurMjeiqvjPqf8gLisOjWwbcdFlonrGT55kkC5FpSIuPR/dvNn9kOqGv5s1TORSHL3Nq2CGaubMmVi3bh02bNiA27dvY8aMGYiJicHkyZMBPL56NXbsWHX7rVu3YuzYsfj+++/RsWNHJCQkICEhARkZGWI9BNJTYSlh+D7oewDAD/1/gEKuEDkRkWERvQCrziKVAHDy5EkEBARAoVCgUaNGWLNmTbk2O3fuRPPmzWFiYoLmzZtj9+7dZe7/8ssvIZFIytycnZ01+rhIu+258hCOlibwdbYUOwrpKRO5DH5u1jh0kwWYoRoxYgSWLl2K+fPno3Xr1jh16hQOHDiAhg0bAgDi4+PLrAn2008/obi4GO+88w5cXFzUt/fff1+sh0B6SBAEvP/3+yhSFeF57+fxgu8LYkciMjiiFmDVXaQyMjISAwcORLdu3RAaGoo5c+Zg2rRp2Llzp7pNUFAQRowYgTFjxuDq1asYM2YMXn31VVy4cKHMsVq0aIH4+Hj17fr163X6WEl75BeV4K+r8ejS2AFSTrdLdSiwoS0uR6chMStf7CgkkqlTpyIqKgoFBQUICQnBc889p75v06ZNOHHihPrnEydOQBCEcrdNmzbVf3DSW3/d+wsHww/CSGqEZc8v47TzRCIQtQCr7iKVa9asgYeHB5YuXYpmzZph0qRJmDBhAhYvXqxus3TpUvTt2xezZ89G06ZNMXv2bPTu3RtLly4tcyy5XA5nZ2f1zdHRsS4fKmmRI7ceIaugGN182P2Q6lZAQ1tIJMBhXgUjIi2QV5SH6YemAwBmdpoJX3tfcQMRGSjRCrCaLFIZFBRUrn3//v0RHByMoqKip7Z58phhYWFwdXWFl5cXRo4ciYiIiKfm5Vor+mNHcCx8lRZwtTEVOwrpOUuFEVq4WuPgjXixoxAR4atTXyEiLQJulm749LlPxY5DZLBEK8BqskhlQkJChe2Li4uRnJz81Db/PmaHDh2wefNmHDp0CGvXrkVCQgI6d+6MlJSUSvNyrRX9kJCRjzPhyXjOl1c8qX6087TD+fupSMspFDsKERmw64+u47tz3wEAVg5cCQtjC5ETERku0SfhqO4ilRW1f3L7s445YMAADBs2DP7+/ujTpw/2798PAPjll18qPS/XWtEPOy8/gJFMik6N7MWOQgainactVIKAI1wTjIhEohJUeOuvt1CsKsbLTV/Gi01fFDsSkUETrQCrySKVzs7OFbaXy+Wwt7d/apunLXxpbm4Of39/hIWFVdqGa63oPpVKwPZLsWjnaQczY7nYcchA2JgZo5mLFf66Fid2FCIyUGuC1+D8g/OwNLbEigErxI5DZPBEK8Bqskhlp06dyrU/fPgwAgMDYWRk9NQ2T1v4sqCgALdv34aLi0tNHgrpiPMRKYhOzUWvpk5iRyED07GRPc6GpyAlu0DsKERkYB5mPsTso7MBAAt6L4CblZvIiYhI1C6I1V2kcvLkyYiOjsbMmTNx+/ZtbNiwAevXr8esWf+/gvv777+Pw4cPY+HChbhz5w4WLlyIf/75B9OnT1e3mTVrFk6ePInIyEhcuHABw4cPR2ZmJsaNG1dvj53q39aLMXC1MUVTrv1F9ayDlx0ECDh4o+LxrUREdUEQBLx38D1kFmSig1sHTA6cLHYkIgIgaj+sESNGICUlBfPnz0d8fDz8/Pyeukill5cXDhw4gBkzZmDlypVwdXXF8uXLMWzYMHWbzp07448//sCnn36Kzz77DI0bN8a2bdvQoUMHdZsHDx5g1KhRSE5OhqOjIzp27Ijz58+rz0v6JzWnEH/fTMCrge5c84TqnZWpEfzdrLHvahxe78jXGSKqH1tvbMXuO7shl8rx8ws/QyaViR2JiABIhNJZLKhaMjMzYW1tjYyMDI4H0wFrT0Vg0aE7+HFUW1iZGokdhwzQyXuJ+OlkBM7N7gUXay6BUBt8/a0cnxsqFZcVB79VfkjLT8O8HvPweffPxY5EpNeq8/or+iyIRHVNpRLw6/lotPeyY/FFomnnaQcjmRR7QjkZBxHVLUEQ8Na+t5CWn4YAlwDM7jpb7EhE9C8swEjvnQlPRkxqLvo2cxY7ChkwM2M5Aj1tsfPyA7DjARHVpU1XNmF/2H4Yy4zxy0u/wEjGLx+JtAkLMNJ7vwZFo6G9GXyVXHSSxNXNxwHhidm48TBT7ChEpKdiM2Ix/dB0AMD8HvPRwqmFuIGIqBwWYKTXYlNzcfTOI/RppuTkGyQ6fzcb2JgaYeflB2JHISI9pBJUmLB3AjILMtGxQUfM6jzr2TsRUb1jAUZ67dfz0TA1lqGrt4PYUYggk0rQ1ccBu0MfoqC4ROw4RKRnvj/3Pf6J+AemclNsenETZz0k0lIswEhv5RYWY+vFGPRs4gSFEd+ESDv0aOKEjLwiHL75SOwoRKRHguOCMefYHADAsueXoYlDE5ETEVFlWICR3tp1+SFyCorRr7lS7ChEam7/Wwz8j0sxz25MRFQFWQVZGLVzFIpVxRjWbBgmtZ0kdiQiegoWYKSXVCoB685EILChHRwtFWLHISqjRxMnnA1PQUxKrthRiEgPvHvwXYSnhsPdyh1rX1jLMc9EWo4FGOmlY3cSEZWci0EtXcSOQlROx0Z2MDeRYctFXgUjotr59eqv2Hx1M6QSKbYM2wJbU1uxIxHRM7AAI7209nQEfJQW8FVaih2FqBwTuQzP+Thi26UYTsZBRDV27dE1vP3X2wCAz5/7HF09uoqciIiqggUY6Z1rD9JxITIVg/x49Yu0V59mSqTlFuHg9QSxoxCRDkrPT8fQbUORV5yH/o3749PnPhU7EhFVEQsw0jurTtyHi7UC7TztxI5CVClXG1P4u1lj07kosaMQkY5RCSqM2zMO99Puo6F1Q/w+9HdOOU+kQ1iAkV4JT8zGoRsJGNzSFVIpByGTduvXXIkrsem4EpsudhQi0iELzyzE3rt7YSIzwc5Xd8LezF7sSERUDSzASK/8dPI+bM2N0c2HCy+T9mvrYQtnKwXWn44QOwoR6Yi9d/di7rG5AIAfB/6IANcAkRMRUXWxACO9EZuai12hDzHQzwVGMv5qk/aTSiXo30KJA9cTEJ+RJ3YcItJy1x5dw+idoyFAwOSAyVzvi0hH8VMq6Y3VJ+/D3FiG3s2cxI5CVGXdfZ2gMJJi09kosaMQkRZ7lP0IL2x9ATlFOejt1RvLBywXOxIR1RALMNIL8Rl52H4pFoP8XaAw4kBk0h2mxjL0bqbEb+ejkZlfJHYcItJC+cX5eGnbS4jJiIGvvS92vLIDRjIjsWMRUQ2xACO9sPJ4OEyNZOjb3FnsKETV9ryfMwpLVPj9PBdmJqKySlQleH3X6zj/4DxsFDbYN2ofF1sm0nEswEjnPUjLxR8XYzG4pQtMjXn1i3SPrZkxuno7Yv2ZCOQXcWFmInpMEAS8e+Bd7Ly9E8YyY+x6dRd87X3FjkVEtcQCjHTeiqPhMDeRo18LXv0i3fVCSxek5hRiR8gDsaMQkZaYd3Ie1oSsgQQS/D70d/T06il2JCLSABZgpNMikrLxZ8gDDGnlyrFfpNNcbEzRsZE9Vh0PR2GxSuw4RCSy1ZdWY97JeQCAlQNXYnjz4SInIiJNYQFGOu37w/dga26EPs2UYkchqrWXWrshPiMfuy7zKhiRIdtyfQveOfAOAOCL7l9gSrspIiciIk1iAUY66/qDDOy/Ho9hbRvAWM5fZdJ97nZm6OBlhxXHeBWMyFD9ceMPjNk9Rr3W1xfdvxA7EhFpGD+1kk4SBAELDt5GA1tTdPNxFDsOkcYMa9sAcel52BESK3YUIqpn229ux2u7XoNKUGFC6wlYOWglJBKJ2LGISMNYgJFOOnEvCefup2BkOw/IpHxzIv3hbmeGTo3tseJoOGdEJDIgO27uwOido6ESVBjfejzWDlkLqYQf04j0Ef+ySecUl6jwzf7baOFqhbYeNmLHIdK4YW0bIDErH1sucF0wIkOw/vJ6jNw5EiVCCca1God1L6xj8UWkx/jXTTpnW3AswhKzMaq9B7tmkF5ytTFFd19HrDgWhqz8IrHjEFEdWnR2ESbtmwSVoMLENhOxfsh6yKSc1ZdIn7EAI52SkVeExYfu4jlfBzR2tBA7DlGdGda2AXIKSrD2dKTYUYioDgiCgI+OfISP//kYAPBxl4+x9oW1LL6IDAALMNIpK46GIbewBCMCPcSOQlSn7C1M8LyfM34+dR+PMvPFjkNEGlRQXIBxe8bhu3PfAQAW9VmEb/t8y14dRAaCBRjpjPDEbGw8F4UhrVxhZ24sdhyiOjeklSuMZFJ8f/iu2FGISEMScxLRa3Mv/HrtV8gkMqwfsh4fdvlQ7FhEVI9YgJFOEAQB8/bdhIOFMQa3dBU7DlG9MDeRY3jbBtgR/AA34zLEjkNEtXTt0TW0X9se52LPwUZhg4OvHcSENhPEjkVE9YwFGOmEQzcf4XRYMsZ09OSiy2RQejVzgquNKebtvQVBEMSOQ0Q1tPv2bnTZ0AXRGdHwsfPB+Ynn0bdxX7FjEZEI+EmWtF5uYTHm7buJNu42nHaeDI5cKsXYTg1xMSoV+67Fix2HiKqpsKQQ0/+ejqHbhyK7MBu9vHrh/KTzaOLQROxoRCQSFmCk9ZYfDUdKdiHGdfbkAGUySC0b2KCdpy3+s/8WcgqKxY5DRFUUkRaBLhu6YNmFZQCAWZ1m4e/X/oadqZ3IyYhITCzASKvdTcjC2tMRGNLaFUorhdhxiEQzpmNDpOcWYek/98SOQkRVsOPmDrT5qQ2C44JhZ2qHfaP24bt+38FIZiR2NCISGQsw0loqlYDZu65BaaXAkFaceIMMm6OlAi+3ccOGM1G4FZcpdhwiqkRqXipG7xyNV/98FZkFmejs3hlX3r6Cwb6DxY5GRFqCBRhpra2XYnA5Jh0Tu3rBSMZfVaJB/i5wtVFg9q5rKFFxQg4ibSIIAnbd3gW/VX7YemMrZBIZPu32KU6MOwF3a3ex4xGRFuGnWtJKCRn5WHDgDno0cURzFyux4xBpBblMikndGuHagwxsOBMpdhwi+p+ItAgM3joYw7YPQ3x2PJo6NMW5iefwVa+v2OWQiMphAUZaRxAEfLbnBoxkErzWoaHYcYi0iq/SEs/7OWPx4buITM4ROw6RQSsoLsDXp75Gi1UtcCDsAIykRvi026e4/NZltHdrL3Y8ItJSLMBI6+y/Ho8jtx9hXCdPWJjIxY5DpHVeDXSHrZkxZm6/guISldhxiAyOSlBh241taLGqBT47/hnyi/PRy6sXrk+5jq96fQVTI1OxIxKRFmMBRlolJbsAn+25gfZedujQyF7sOERaSWEkw+TujXE1Nh0/nYoQOw6RQTkWeQwd1nXAyJ0jcT/tPpwtnLFl6Bb8M+Yfru1FRFXCywukVT7/700UqwS80dlT7ChEWq2JsyUGt3TFkiP30NXbAa3cbcSORKTXTkadxFenvsLRyKMAAAtjC3zU+SPM6DQDFsYWIqcjIl3CAoy0xr6rcdh/PR7v9fKGjZmx2HGItN4rAQ1wMy4D720NxYH3u7HLLpGGlahKcCDsAL479x1Ox5wGAMilckwJnIJPn/sUTuZOIickIl3ELoikFRIz8/Hpnhvo2MgOnRs7iB2HSCfIZVK829MHSVkFmLvrOgSBU9MTaUJGfgZ+CPoBvj/6YsgfQ3A65jRMZCaYGjgV4e+FY/mA5Sy+iKjG+HUpiU4QBHz45zVIALzRxUvsOEQ6xdlagUndvLDiWDjaednh9Y6cOZSoJgRBQHBcMDZe2Yhfr/2K7MJsAICtwhZvtn0T73d8H66WriKnJCJ9wAKMRPfr+WicvJeEj59vAisF10shqq7OjR1wJyEL8/bdhL+bNceDEVXDw8yH+P3679h0ZRNuJ99Wb2/h2ALvd3gfr7V8DWZGZiImJCJ9wwKMRHXvURb+s/82+jVXorW7rdhxiHTWmI4NEZWSg7d/DcFf07rCwcJE7EhEWissJQy77+zG7ju7cf7BefV2U7kphjYbigltJqCnZ09IJBIRUxKRvmIBRqLJLyrBu1suw8nSBKM7eIgdh0inGcmkmN7bF3N3X8fU3y7jt0kdYCznMF8iACgqKcKFhxdwKPwQdt/ZjZtJN8vc39WjK8a3Go9XWrwCKxMrkVISkaFgAUai+eqvW4hKzsXXL/nBRC4TOw6RzrMzN8b0Pr74ev8tfLH3Br552Z/f4JNByi7MRmh8KC7FXcLxqOM4EXVCPaYLeDyTYU/Pnni56ct4semLHNtFRPWKBRiJ4r9XHuL3CzGY1NUL7nbsW0+kKU2cLTGhqxd+PhUBH6fH/0+kz7ILs3El4QqC44IREh+C4Lhg3E2+CwFlZwV1MHNAL69eGOwzGIN9B8PWlN3eiUgcLMCo3oUnZmP2ruvo6u2AXk05jS+RpvVs4oS49Dx8vf8WPB3M0KupUuxIRLUmCAJS8lJwJ/kOLsdfVhdct5Nulyu2AKCBVQMEuASgs3tn9G3UF62cW0EqYbdcIhIfCzCqV9kFxXjr12DYmRtjYlcvdo8iqiOj2nngUWY+3vk9FDsmd4Kfm7XYkQzSqlWr8N133yE+Ph4tWrTA0qVL0a1bt0rbnzx5EjNnzsTNmzfh6uqKjz76CJMnT67HxOLJL87Ho+xHSMhOQHx2PBKyExCXFYfw1HCEp4YjLDUM6fnpFe7raumKQNdABLgEqP+rtOAXD0SknViAUb1RqQTM2n4F8en5+PolPyiMOO6LqK5IpRJM7eGNr/ffwhubLmHPO13gZmMqdiyDsm3bNkyfPh2rVq1Cly5d8NNPP2HAgAG4desWPDzKTzwUGRmJgQMH4s0338Rvv/2Gs2fPYurUqXB0dMSwYcNEeAQ1JwgCCksKkVuUi5yiHKTkpiAhO6HsLafsz5UVV09qYNUArZ1bI9AlEAGuAQhwCYCLpUvdPiAiIg2SCIJQ/ro9PVNmZiasra2RkZEBKyvOmFQVPxy5h2VHw/BBX18EetqJHYfIIKTnFuKLvTdhZWqEnZM7w9pM99fa05XX3w4dOqBt27ZYvXq1eluzZs3w0ksvYcGCBeXaf/zxx9i7dy9u3/7/tagmT56Mq1evIigoqErnrM1zk1OYg0txlx4XTYU56uKpwp8r2f7vbSVCSbXODwDGMmO4WLjA2cJZfWtk2wg+dj7wtvNGY7vGXJOLiLRSdV5/eQWM6sVf1+Kw7GgYXg10Z/FFVI9szIzx0fNNMW/vTby5ORibJ7bn1ed6UFhYiJCQEHzyySdltvfr1w/nzp2rcJ+goCD069evzLb+/ftj/fr1KCoqgpFR+eK5oKAABQUF6p8zMzNrnDk6Ixo9f+lZ4/0rYyQ1go3CBi6W/yqszJ3LFFml91mbWLNrOhHpPRZgVOeCo1Ixc9tVdPG2x0utOdUvUX1zszHFrP5N8J/9tzF92xWsHN0WMik/5Nal5ORklJSUQKksOw5JqVQiISGhwn0SEhIqbF9cXIzk5GS4uJTvZrdgwQLMmzdPI5mtTKzQ3LE5zIzMYGZkBnMj88f/NTaHmfx///3XdvV9T7Z9oo2RTPevuhIRaRILMKpT4YnZmLQ5GI0dzfH2c435zSaRSHyVlnivtzd+OHIPX+y9ga9e9OPfYz148jkWBOGpz3tF7SvaXmr27NmYOXOm+ufMzEy4u7vXKGsDqwa4OfXmsxsSEVGtsACjOhOXnocx6y/AwkSOmX2bwEjG6X+JxBTY0A6TujbCz6cjYGdmjJn9mogdSW85ODhAJpOVu9qVmJhY7ipXKWdn5wrby+Vy2NvbV7iPiYkJTExMNBOaiIjqBT8RU51IzMzH6HXnUawSMHtAM1goWOsTaYOeTZ0wqr0Hlh8Lx7rTEWLH0VvGxsYICAjAkSNHymw/cuQIOnfuXOE+nTp1Ktf+8OHDCAwMrHD8FxER/V979x4VVdnvAfw7MMOABIQgjCOKkJQXDAlcpnK0k4WmhpezEi3R87aOK8oLlzL0pMdeu6B2Mi+ohGFnuaxwnROYFaZQSJCUHhCvnKTiFUWINJH7ZZjn/NFyVsNNZlJm7833sxZ/sPdvZj/fGfb8eGb27C1PnIDRXVdd14yFe79HXZMBr80chYHODrYeEhH9SUSQHhFBerz5ZQkOfH/Z1sNRrPj4eHzwwQfYt28fSkpKEBcXh/LyctN1vdauXYslS5aY6qOjo3H58mXEx8ejpKQE+/btQ2pqKl555RVbRSAionuAH0vQXXXl90Y898EPqG8xYN2sUfB2dbT1kIioCwvHD0WLwYj1h87Dwd4OC8Zb970h6l5kZCRu3LiBjRs3orKyEoGBgcjMzISvry8AoLKyEuXl5aZ6Pz8/ZGZmIi4uDrt27YJer8eOHTtkdw0wIiLqGa8DZiW5XIemL128Vou//ddJAMC/PzUKXpx8EUmaUQjsyy/DN/9Xjc3/8rBsJmF8/e0eHxsiItvgdcCoz2Vf/BWr0k5D5+qIV6Y/BPcBPOyQSOrsVCo8H+YHlQp49dOzaDa0Y8nE4bYeFhERkaJxAkZ/iaHdiG3ZpUjK+Qnjh7vjpcdG8CKvRDJip1Lh+cl+cFDb4z8+u4DfG1oRMy2Ap6gnIiK6RzgBI6uVXW9A3MFinL1ag8jxQxERpIcd/2kjkh2VSoXFE4bBxVGNbdmluFbThDfnjoWDmudpIiIiuts4ASOLNbe1I+XbX7Ar5ye4D3DAhqfH4EFvF1sPi4j+ApVKhbnjhsDD2QF7837BT9X1SF4cwu9yEhER3WWcgFGvtRjakV5Uge3ZpfitvgWzxg7GvOAhPOSQSEH+KWAQdK6OeC/7EmZsz8PWBUF47CEvWw+LiIhIMTgBozsqv9GI/ym8go9OluP3+lY86u+BV2c8hMFuTrYeGhHdAwHeLkic/zCSc3/Gv354CgtCffDazNFwG8CLARMREf1VNj/Af/fu3fDz84OjoyNCQkKQl5fXY31ubi5CQkLg6OgIf39/JCcnd6r59NNPMXr0aGi1WowePRoZGRl/ebv9SavBiMLLv2N7dilm78jDlHdysDevDMFD3fHuM0FYNS2Aky8ihXNz0mD19Ifwb2F++OJsJab+Zw725Zehua3d1kMjIiKSNZt+Anbw4EHExsZi9+7dmDx5Mt5//3089dRTuHjxIoYNG9apvqysDDNnzsSyZctw4MABfPfdd3jppZcwaNAg04UqCwoKEBkZiTfeeAPz5s1DRkYGFixYgPz8fEyYMMGq7SqV0Sjwa10zyq434OffGvBjVS3OV9Ti4rVatLYb4exgj7E+bljxzyMQOtwdWjUPNSTqT+xUKkwb5Y1HfN3x3/97FW9+eRG7j/+Ev032wzMhPvx+GBERkRVseiHmCRMm4JFHHsGePXtMy0aNGoW5c+ciMTGxU31CQgIOHz6MkpIS07Lo6GicOXMGBQUFAIDIyEjU1tbiyJEjppoZM2bA3d0dn3zyiVXb7YocLnbZ0GJAVW0zfr3VjMpbzai81YSKmmZU3GzE1ZtNqKhpQovBCACwt1NBf78jhrkPwANe9yHAywV+ns6wt+NZDYnoD5U1Tfj8bCW+++k62o0Cjz4wEE+O8sakEZ4I8Lqvz05dL4fXX1vhY0NEZBuyuBBza2srCgsLsWbNGrPl4eHhOHHiRJe3KSgoQHh4uNmy6dOnIzU1FW1tbdBoNCgoKEBcXFynmm3btlm9XQBoaWlBS0uL6fdbt24B+OPBvheMRoE2oxFt7QKtBiNaDe1oamtHU2s7GlvaUd9qQH2zAbeaWnGryYCaxlbcaGjFjfpW/Fbfguv1LWhoMT9UyMXRHgOdtfBwdsBwNweMH+KOQfdp4eXqCC9XLdSqPx+RKtDcUH9PshGRPLnaA88FD8LcMe44+Y/fUfSPm9iYfhUGo8B9WnuM1LnCb5Azhro7wdvVER7OWrgNUMNFq8EArRqOGjs42NtBbf/Xjn6//bprw/cPJev2Y3KvehMREXXNkt5kswnY9evX0d7eDm9vb7Pl3t7eqKqq6vI2VVVVXdYbDAZcv34dgwcP7rbm9n1as10ASExMxN///vdOy4cOHdp9SCKifqTkziV3VV1dHdzc3Pp4q9JWV1cHgL2JiMhWetObbH4WxI6HrAghejyMpav6jst7c5+Wbnft2rWIj483/V5TUwNfX1+Ul5fL+h+A2tpaDB06FFeuXJHt4SpKyAAwh5QoIQOg3BxCCNTV1UGv19t6aJKj1+tx5coVuLi4WH1IqFL+bizVX3MD/Td7f80N9N/s9zK3Jb3JZhMwT09P2Nvbd/rUqbq6utOnU7fpdLou69VqNTw8PHqsuX2f1mwXALRaLbRabaflbm5uivjDdXV1lX0OJWQAmENKlJABUGYOOb/xdS/Z2dnBx8fnrtyXUv5uLNVfcwP9N3t/zQ303+z3Kndve5PNTkPv4OCAkJAQZGVlmS3PysrCpEmTurzNxIkTO9UfO3YMoaGh0Gg0Pdbcvk9rtktERERERHQ32PQQxPj4eERFRSE0NBQTJ05ESkoKysvLER0dDeCPw/4qKiqwf/9+AH+c8TApKQnx8fFYtmwZCgoKkJqaajq7IQDExMRgypQp2Lx5M+bMmYPPPvsM2dnZyM/P7/V2iYiIiIiI7gWbTsAiIyNx48YNbNy4EZWVlQgMDERmZiZ8fX0BAJWVlSgvLzfV+/n5ITMzE3Fxcdi1axf0ej127NhhugYYAEyaNAlpaWlYt24d1q9fjwceeAAHDx40XQOsN9vtDa1Wiw0bNnR5WKKcKCGHEjIAzCElSsgAMAdZp78+3v01N9B/s/fX3ED/zS6V3Da9DhgREREREVF/YrPvgBEREREREfU3nIARERERERH1EU7AiIiIiIiI+ggnYERERERERH2EE7AeJCYmYvz48XBxcYGXlxfmzp2LH3/80axGCIHXX38der0eTk5OeOyxx3DhwgUbjbh3EhMToVKpEBsba1omlxwVFRVYvHgxPDw8MGDAAIwbNw6FhYWm9VLPYTAYsG7dOvj5+cHJyQn+/v7YuHEjjEajqUaKGb799ls8/fTT0Ov1UKlUOHTokNn63oy5paUFK1euhKenJ5ydnREREYGrV6/2YYqec7S1tSEhIQFjx46Fs7Mz9Ho9lixZgmvXrkkqx52eiz974YUXoFKpsG3bNrPlts4A9C5HSUkJIiIi4ObmBhcXFzz66KNmZ8aVQg6lkHNfsJTc+4i15Np/rKGUnmUpJfQ4a8mtN3IC1oPc3FwsX74c33//PbKysmAwGBAeHo6GhgZTzZYtW7B161YkJSXh1KlT0Ol0ePLJJ1FXV2fDkXfv1KlTSElJwcMPP2y2XA45bt68icmTJ0Oj0eDIkSO4ePEi3n33Xdx///2mGqnn2Lx5M5KTk5GUlISSkhJs2bIF77zzDnbu3GmqkWKGhoYGBAUFISkpqcv1vRlzbGwsMjIykJaWhvz8fNTX12P27Nlob2/vqxg95mhsbERRURHWr1+PoqIipKen49KlS4iIiDCrs3WOOz0Xtx06dAg//PAD9Hp9p3W2zgDcOcfPP/+MsLAwjBw5EsePH8eZM2ewfv16ODo6mmqkkEMJ5NwXLKWEPmItufYfayilZ1lKCT3OWrLrjYJ6rbq6WgAQubm5QgghjEaj0Ol0YtOmTaaa5uZm4ebmJpKTk201zG7V1dWJgIAAkZWVJaZOnSpiYmKEEPLJkZCQIMLCwrpdL4ccs2bNEs8//7zZsvnz54vFixcLIeSRAYDIyMgw/d6bMdfU1AiNRiPS0tJMNRUVFcLOzk589dVXfTb2P+uYoysnT54UAMTly5eFENLL0V2Gq1eviiFDhojz588LX19f8d5775nWSS2DEF3niIyMNO0XXZFiDjmSe1+wlBL6iLWU0H+soZSeZSkl9DhryaE38hMwC9y6dQsAMHDgQABAWVkZqqqqEB4ebqrRarWYOnUqTpw4YZMx9mT58uWYNWsWnnjiCbPlcslx+PBhhIaG4plnnoGXlxeCg4Oxd+9e03o55AgLC8PXX3+NS5cuAQDOnDmD/Px8zJw5E4A8MnTUmzEXFhaira3NrEav1yMwMFCyuYA/9nmVSmV6d1wOOYxGI6KiorB69WqMGTOm03q5ZPjyyy/x4IMPYvr06fDy8sKECRPMDimRQw45kHtfsJQS+oi1lNh/rKHknmUpOfY4a0mtN3IC1ktCCMTHxyMsLAyBgYEAgKqqKgCAt7e3Wa23t7dpnVSkpaWhqKgIiYmJndbJJccvv/yCPXv2ICAgAEePHkV0dDRWrVqF/fv3A5BHjoSEBCxatAgjR46ERqNBcHAwYmNjsWjRIgDyyNBRb8ZcVVUFBwcHuLu7d1sjNc3NzVizZg2effZZuLq6ApBHjs2bN0OtVmPVqlVdrpdDhurqatTX12PTpk2YMWMGjh07hnnz5mH+/PnIzc0FII8cUqeEvmApJfQRaymx/1hDqT3LUnLtcdaSWm9U3/V7VKgVK1bg7NmzyM/P77ROpVKZ/S6E6LTMlq5cuYKYmBgcO3bM7PsTHUk9h9FoRGhoKN5++20AQHBwMC5cuIA9e/ZgyZIlpjop5zh48CAOHDiAjz/+GGPGjEFxcTFiY2Oh1+uxdOlSU52UM3THmjFLNVdbWxsWLlwIo9GI3bt337FeKjkKCwuxfft2FBUVWTweqWQAYDopwJw5cxAXFwcAGDduHE6cOIHk5GRMnTq129tKKYeUKaUvWEoJfcRaSu4/1lBSz7KUXHuctaTYG/kJWC+sXLkShw8fRk5ODnx8fEzLdTodAHSaGVdXV3d6Z8WWCgsLUV1djZCQEKjVaqjVauTm5mLHjh1Qq9WmsUo9x+DBgzF69GizZaNGjTKdFU0Oz8fq1auxZs0aLFy4EGPHjkVUVBTi4uJM70DLIUNHvRmzTqdDa2srbt682W2NVLS1tWHBggUoKytDVlaW6Z1BQPo58vLyUF1djWHDhpn29cuXL+Pll1/G8OHDAUg/AwB4enpCrVbfcX+Xeg4pU0pfsJQS+oi1lNh/rKG0nmUpOfc4a0mxN3IC1gMhBFasWIH09HR888038PPzM1vv5+cHnU6HrKws07LW1lbk5uZi0qRJfT3cbk2bNg3nzp1DcXGx6Sc0NBTPPfcciouL4e/vL4sckydP7nQZgEuXLsHX1xeAPJ6PxsZG2NmZ73b29vamd/zlkKGj3ow5JCQEGo3GrKayshLnz5+XVK7bjam0tBTZ2dnw8PAwWy/1HFFRUTh79qzZvq7X67F69WocPXoUgPQzAICDgwPGjx/f4/4uhxxSppS+YCkl9BFrKbH/WENJPctScu9x1pJkb7zrp/VQkBdffFG4ubmJ48ePi8rKStNPY2OjqWbTpk3Czc1NpKeni3PnzolFixaJwYMHi9raWhuO/M7+fLYrIeSR4+TJk0KtVou33npLlJaWio8++kgMGDBAHDhwwFQj9RxLly4VQ4YMEV988YUoKysT6enpwtPTU7z66qumGilmqKurE6dPnxanT58WAMTWrVvF6dOnTWdO6s2Yo6OjhY+Pj8jOzhZFRUXi8ccfF0FBQcJgMEgiR1tbm4iIiBA+Pj6iuLjYbJ9vaWmRTI47PRcddTzTkxC2zyDEnXOkp6cLjUYjUlJSRGlpqdi5c6ewt7cXeXl5ksqhJHLsC5ZSQh+xllz7jzWU0rMspYQeZy259UZOwHoAoMufDz/80FRjNBrFhg0bhE6nE1qtVkyZMkWcO3fOdoPupY6NVi45Pv/8cxEYGCi0Wq0YOXKkSElJMVsv9Ry1tbUiJiZGDBs2TDg6Ogp/f3/x2muvmb34STFDTk5Ol/vC0qVLez3mpqYmsWLFCjFw4EDh5OQkZs+eLcrLyyWTo6ysrNt9PicnRzI57vRcdNRVk7F1BiF6lyM1NVWMGDFCODo6iqCgIHHo0CHJ5VASufYFS8m9j1hLrv3HGkrpWZZSQo+zltx6o0oIIe7OZ2lERERERETUE34HjIiIiIiIqI9wAkZERERERNRHOAEjIiIiIiLqI5yAERERERER9RFOwIiIiIiIiPoIJ2BERERERER9hBMwIiIiIiKiPsIJGBERERERUR/hBIyIiIiIiKiPcAJGRERERETURzgBIyIiIiIi6iOcgBEREREREfWR/wcuWq/nF7crSQAAAABJRU5ErkJggg==\n",
      "text/plain": [
       "<Figure size 1000x500 with 2 Axes>"
      ]
     },
     "metadata": {},
     "output_type": "display_data"
    }
   ],
   "source": [
    "# Create a simulate dataset with mean = 67, sigma = 4, and N = 1000\n",
    "r = sorted(stats.norm.rvs(loc=95, scale=18, size=1000))\n",
    "\n",
    "# Calculate the CDF using stats.norm.cdf()\n",
    "r_cdf = stats.norm.cdf(r, loc=95, scale=18)\n",
    "\n",
    "# Plot the PDF and CDF side-by-side\n",
    "fig, (ax1, ax2) = plt.subplots(1, 2, figsize=(10, 5))\n",
    "sns.kdeplot(r, ax=ax1, fill=True)\n",
    "ax1.set_title('PDF of Online clothing business')\n",
    "\n",
    "ax2.plot(r, r_cdf, color='g')\n",
    "ax2.set_title('CDF of Online clothing business');"
=======
    "# Your code here\n"
>>>>>>> upstream/main
   ]
  },
  {
   "cell_type": "markdown",
   "metadata": {
    "slideshow": {
     "slide_type": "fragment"
    }
   },
   "source": [
    "<details>\n",
    "    <summary>Answer</summary>\n",
    "\n",
    "```python \n",
    "        r = sorted(stats.norm.rvs(loc=95, scale=18, size=1000))\n",
    "        r_cdf = stats.norm.cdf(r, loc=95, scale=18)\n",
    "        fig, (ax1, ax2) = plt.subplots(1, 2, figsize=(10, 5))\n",
    "        sns.kdeplot(r, ax=ax1, fill=True)\n",
    "        ax1.set_title('PDF of Revenue') \n",
    "        ax2.plot(r, r_cdf, color='g')\n",
    "        ax2.set_title('CDF of Revenue');\n",
    "```\n",
    "</details>"
   ]
  },
  {
   "cell_type": "markdown",
   "metadata": {
    "slideshow": {
     "slide_type": "slide"
    }
   },
   "source": [
    "## How to Describe Distributions: Center, Spread and Shape\n",
    "\n",
    "The **center** refers loosely to the middle-values of a distribution, and is measured more precisely by notions like the mean, the median, and the mode.\n",
    "\n",
    "The **spread** refers loosely to how far away the more extreme values are from the center, and is measured by some value showing variation - more precisely by the standard deviation, which is effectively a measure of the average distance away from the mean.\n",
    "\n",
    "![different spread representations](images/examplesOfSpread.jpg)\n",
    "\n",
    "The **shape** refers loosely how the data shows up when visualized, more specifically capturing details like symmetry or skew, as well as the number of peaks in the distribution.\n",
    "\n",
    "![different distribution shapes](images/shapesOfDistributions.jpg)\n",
    "\n",
    "Note that sometimes the center of your distribution is harder to capture precisely, if the shape is skewed:\n",
    "\n",
    "![examples of skewed distributions](images/order_of_mean_median_mode.png)\n",
    "\n",
    "[Image Source for the images in this cell](http://mathcenter.oxford.emory.edu/site/math117/shapeCenterAndSpread/)"
   ]
  },
  {
   "cell_type": "markdown",
   "metadata": {
    "heading_collapsed": true
   },
   "source": [
    "# Level Up: Details on Expected Value and Variance"
   ]
  },
  {
   "cell_type": "markdown",
   "metadata": {
    "heading_collapsed": true,
    "hidden": true
   },
   "source": [
    "## For PMF - Discrete Values"
   ]
  },
  {
   "cell_type": "markdown",
   "metadata": {
    "heading_collapsed": true,
    "hidden": true
   },
   "source": [
    "### Expected Value/Mean"
   ]
  },
  {
   "cell_type": "markdown",
   "metadata": {
    "hidden": true
   },
   "source": [
    "The expected value, or the mean, describes the 'center' of the distribution (you may hear this called the first moment).  The 'center' refers loosely to the middle-values of a distribution, and is measured more precisely by notions like the mean, the median, and the mode.\n",
    "\n",
    "For a discrete distribution, working from the vantage point of a collected sample of n data points:\n",
    "\n",
    "mean = $\\Large\\mu = \\frac{\\Sigma^n_{i = 1}x_i}{n}$\n",
    "\n",
    "If we are working from the vantage point of known probabilities, the mean is referred to as the expected value. The expected value of a discrete distribution is the weighted sum of all values of x, where the weight is their probability.\n",
    " \n",
    "The expected value of the Lotto example is:\n",
    "${\\displaystyle \\operatorname {E} [X]= \\Sigma^n_{i=1}p(x_i)x_i}$"
   ]
  },
  {
   "cell_type": "markdown",
   "metadata": {
    "heading_collapsed": true,
    "hidden": true
   },
   "source": [
    "### Variance/Standard Deviation"
   ]
  },
  {
   "cell_type": "markdown",
   "metadata": {
    "hidden": true
   },
   "source": [
    "Variance describes the spread of the data (it is also referred to as the second moment).  The 'spread' refers loosely to how far away the more extreme values are from the center.\n",
    "\n",
    "Standard deviation is the square root of variance, and effectively measures the *average distance away from the mean*.\n",
    "\n",
    "From the standpoint of a sample, the variance of a discrete distribution of n data points is:\n",
    "\n",
    "std = $\\Large\\sigma = \\sqrt{\\frac{\\Sigma^n_{i = 1}(x_i - \\mu)^2}{n}}$\n",
    "\n",
    "\n",
    "Variance is the expectation of the squared deviation of a random variable from its mean.\n",
    "\n",
    "For our Lotto PMF, that means:\n",
    "\n",
    " $ \\Large E((X-\\mu)^2) = \\sigma^2 = \\Sigma^n_{i=1}p(x_i)(x_i - \\mu)^2$"
   ]
  },
  {
   "cell_type": "markdown",
   "metadata": {
    "heading_collapsed": true
   },
   "source": [
    "# Level Up: CDF Use Cases"
   ]
  },
  {
   "cell_type": "markdown",
   "metadata": {
    "hidden": true
   },
   "source": [
    "You might look at the CDF and wonder if it's a shadow of my beloved histogram. But there are some good use cases for this way of visualizing the CDF"
   ]
  },
  {
   "cell_type": "code",
   "execution_count": null,
   "metadata": {
    "ExecuteTime": {
     "end_time": "2021-10-08T21:00:13.628294Z",
     "start_time": "2021-10-08T21:00:13.624664Z"
    },
    "hidden": true
   },
   "outputs": [],
   "source": [
    "# First let's define some data\n",
    "domain_x = np.linspace(-1,1,100)\n",
    "norm_dist = stats.norm.rvs(0,0.3,domain_x.shape)\n",
    "norm_dist.shape"
   ]
  },
  {
   "cell_type": "markdown",
   "metadata": {
    "heading_collapsed": true,
    "hidden": true
   },
   "source": [
    "## Quickly identify key values"
   ]
  },
  {
   "cell_type": "markdown",
   "metadata": {
    "hidden": true
   },
   "source": [
    "Finding features like the median, minimum, maximum, and quartiles are easy to read"
   ]
  },
  {
   "cell_type": "code",
   "execution_count": null,
   "metadata": {
    "ExecuteTime": {
     "end_time": "2021-10-08T21:00:14.331413Z",
     "start_time": "2021-10-08T21:00:14.111518Z"
    },
    "hidden": true
   },
   "outputs": [],
   "source": [
    "f,(ax_pdf,ax_cdf) = plt.subplots(nrows=1,ncols=2,figsize=(12,4))\n",
    "\n",
    "###### Histogram (PDF)\n",
    "ax_pdf = sns.histplot(x=norm_dist, ax=ax_pdf, alpha=0.4)\n",
    "# You can also see the PDF if you want\n",
    "# ax_pdf = sns.kdeplot(x=out, cumulative=False, ax=ax_pdf)\n",
    "\n",
    "# Median line\n",
    "ax_pdf.vlines(\n",
    "    x=np.median(norm_dist),\n",
    "    ymin=0,\n",
    "    ymax=10,\n",
    "    linestyles='--',\n",
    "    color='red'      \n",
    ")\n",
    "# 25th-percentile line\n",
    "ax_pdf.vlines(\n",
    "    x=np.quantile(norm_dist, 0.25),\n",
    "    ymin=0,\n",
    "    ymax=10,\n",
    "    linestyles='--',\n",
    "    color='purple'      \n",
    ")\n",
    "# 75th-percentile line\n",
    "ax_pdf.vlines(\n",
    "    x=np.quantile(norm_dist, 0.75),\n",
    "    ymin=0,\n",
    "    ymax=10,\n",
    "    linestyles='--',\n",
    "    color='purple'      \n",
    ")\n",
    "\n",
    "###### CDF \n",
    "ax_cdf = sns.kdeplot(x=norm_dist, cumulative=True, ax=ax_cdf)\n",
    "\n",
    "# Median line\n",
    "ax_cdf.hlines(\n",
    "    y=0.5,\n",
    "    xmin=-1,\n",
    "    xmax=1,\n",
    "    linestyles='--',\n",
    "    color='red'\n",
    ")\n",
    "# 25th-percentile line\n",
    "ax_cdf.hlines(\n",
    "    y=0.25,\n",
    "    xmin=-1,\n",
    "    xmax=1,\n",
    "    linestyles='--',\n",
    "    color='purple'\n",
    ")\n",
    "# 75th-percentile line\n",
    "ax_cdf.hlines(\n",
    "    y=0.75,\n",
    "    xmin=-1,\n",
    "    xmax=1,\n",
    "    linestyles='--',\n",
    "    color='purple'\n",
    ");"
   ]
  },
  {
   "cell_type": "markdown",
   "metadata": {
    "heading_collapsed": true,
    "hidden": true
   },
   "source": [
    "## Outliers can be more obvious"
   ]
  },
  {
   "cell_type": "markdown",
   "metadata": {
    "hidden": true
   },
   "source": [
    "Visualizations with outliers can be a little tricky. Take a look at your histogram. With outliers, it might be identified but can distort our focus."
   ]
  },
  {
   "cell_type": "code",
   "execution_count": null,
   "metadata": {
    "ExecuteTime": {
     "end_time": "2021-10-08T21:00:14.672833Z",
     "start_time": "2021-10-08T21:00:14.668761Z"
    },
    "hidden": true
   },
   "outputs": [],
   "source": [
    "# Add an outlier\n",
    "norm_with_outliers = np.append(norm_dist, 5*np.abs(np.random.randn(5)))\n",
    "print(f'The range of norm_dist: \\n{norm_dist.min(), norm_dist.max()}\\n')\n",
    "print(f'The range of norm_with_outliers: \\n{norm_with_outliers.min(), norm_with_outliers.max()}\\n')"
   ]
  },
  {
   "cell_type": "code",
   "execution_count": null,
   "metadata": {
    "ExecuteTime": {
     "end_time": "2021-10-08T21:00:14.989799Z",
     "start_time": "2021-10-08T21:00:14.696050Z"
    },
    "hidden": true
   },
   "outputs": [],
   "source": [
    "f,(ax0,ax1) = plt.subplots(1,2, figsize=(12,4))\n",
    "\n",
    "# Showing the outliers\n",
    "sns.histplot(x=norm_with_outliers, alpha=0.4, ax=ax0)\n",
    "\n",
    "# Ignoring outliers\n",
    "ax1=sns.histplot(x=norm_with_outliers, alpha=0.4, ax=ax1)\n",
    "ax1.set_xlim(right=1.)"
   ]
  },
  {
   "cell_type": "markdown",
   "metadata": {
    "hidden": true
   },
   "source": [
    "In a worst-case, you might not notice the outliers because it gets swallowed up due by a bin because of the number of bins or bin width parameter"
   ]
  },
  {
   "cell_type": "markdown",
   "metadata": {
    "hidden": true
   },
   "source": [
    "Now using a CDF, it can be a lot easier to identify when there is an extreme value even if we scale the $x$-axis."
   ]
  },
  {
   "cell_type": "code",
   "execution_count": null,
   "metadata": {
    "ExecuteTime": {
     "end_time": "2021-10-08T21:00:15.423689Z",
     "start_time": "2021-10-08T21:00:15.203172Z"
    },
    "hidden": true
   },
   "outputs": [],
   "source": [
    "f,(ax0,ax1) = plt.subplots(1,2, figsize=(12,4))\n",
    "\n",
    "# Showing the outliers\n",
    "ax0 = sns.kdeplot(x=norm_with_outliers, cumulative=True, ax=ax0)\n",
    "ax0.hlines(1,xmin=-1,xmax=3,color='red',linestyles='--')\n",
    "\n",
    "# Ignoring outliers\n",
    "ax1 = sns.kdeplot(x=norm_with_outliers, cumulative=True, ax=ax1)\n",
    "ax1.hlines(1,xmin=-1,xmax=1,color='red',linestyles='--')\n",
    "ax1.set_xlim(right=1.)"
   ]
  },
  {
   "cell_type": "markdown",
   "metadata": {
    "heading_collapsed": true,
    "hidden": true
   },
   "source": [
    "## Identifying clusters"
   ]
  },
  {
   "cell_type": "markdown",
   "metadata": {
    "hidden": true
   },
   "source": [
    "Typically not hard with a histogram. But you can also see it in CDFs!"
   ]
  },
  {
   "cell_type": "code",
   "execution_count": null,
   "metadata": {
    "ExecuteTime": {
     "end_time": "2021-10-08T21:00:15.718993Z",
     "start_time": "2021-10-08T21:00:15.716159Z"
    },
    "hidden": true
   },
   "outputs": [],
   "source": [
    "# Create two sets of simulated data follow normal distribution\n",
    "domain_x = np.linspace(-1, 1, 100)\n",
    "norm_dist0 = stats.norm.rvs(0,0.3, domain_x.shape)\n",
    "norm_dist1 = stats.norm.rvs(2,0.2, domain_x.shape)\n",
    "\n",
    "# Combine the two datasets into one\n",
    "two_dist = np.append(norm_dist0, norm_dist1)"
   ]
  },
  {
   "cell_type": "code",
   "execution_count": null,
   "metadata": {
    "ExecuteTime": {
     "end_time": "2021-10-08T21:00:16.443920Z",
     "start_time": "2021-10-08T21:00:15.747406Z"
    },
    "hidden": true
   },
   "outputs": [],
   "source": [
    "f,(ax0,ax1,ax2) = plt.subplots(3,2, figsize=(12,12))\n",
    "\n",
    "# Histogram\n",
    "ax=sns.histplot(x=norm_dist0, alpha=0.4, ax=ax0[0])\n",
    "ax.set_xlim(-1,3.5)\n",
    "ax=sns.histplot(x=norm_dist1, alpha=0.4, ax=ax1[0])\n",
    "ax.set_xlim(-1,3.5)\n",
    "ax=sns.histplot(x=two_dist, alpha=0.4, ax=ax2[0])\n",
    "ax.set_xlim(-1,3.5)\n",
    "\n",
    "# CDF\n",
    "ax=sns.kdeplot(x=norm_dist0, alpha=0.4, ax=ax0[1], cumulative=True)\n",
    "ax.set_xlim(-1,3.5)\n",
    "ax=sns.kdeplot(x=norm_dist1, alpha=0.4, ax=ax1[1], cumulative=True)\n",
    "ax.set_xlim(-1,3.5)\n",
    "ax=sns.kdeplot(x=two_dist, alpha=0.4, ax=ax2[1], cumulative=True)\n",
    "ax.set_xlim(-1,3.5)"
   ]
  },
  {
   "cell_type": "markdown",
   "metadata": {
    "heading_collapsed": true,
    "hidden": true
   },
   "source": [
    "## Relatively easy to view multiple distributions"
   ]
  },
  {
   "cell_type": "code",
   "execution_count": null,
   "metadata": {
    "ExecuteTime": {
     "end_time": "2021-10-08T21:00:16.448471Z",
     "start_time": "2021-10-08T21:00:16.445562Z"
    },
    "hidden": true
   },
   "outputs": [],
   "source": [
    "# Craete three datasets that follow normal distribution\n",
    "norm_dist0 = stats.norm.rvs(0,0.3,domain_x.shape)\n",
    "norm_dist1 = stats.norm.rvs(0,0.2,domain_x.shape)\n",
    "norm_dist2 = stats.norm.rvs(0.3,0.2,domain_x.shape)"
   ]
  },
  {
   "cell_type": "code",
   "execution_count": null,
   "metadata": {
    "ExecuteTime": {
     "end_time": "2021-10-08T21:00:16.806819Z",
     "start_time": "2021-10-08T21:00:16.450355Z"
    },
    "hidden": true
   },
   "outputs": [],
   "source": [
    "f,(ax0,ax1) = plt.subplots(2,1, figsize=(12,12))\n",
    "\n",
    "# Histogram\n",
    "ax=sns.histplot(x=norm_dist0, alpha=0.4, ax=ax0, color='red')\n",
    "ax=sns.histplot(x=norm_dist1, alpha=0.4, ax=ax0, color='yellow')\n",
    "ax=sns.histplot(x=norm_dist2, alpha=0.4, ax=ax0, color='blue')\n",
    "\n",
    "# CDF\n",
    "ax=sns.kdeplot(x=norm_dist0, alpha=0.4, ax=ax1, cumulative=True, color='red')\n",
    "ax=sns.kdeplot(x=norm_dist1, alpha=0.4, ax=ax1, cumulative=True, color='yellow')\n",
    "ax=sns.kdeplot(x=norm_dist2, alpha=0.4, ax=ax1, cumulative=True, color='blue')"
   ]
  },
  {
   "cell_type": "markdown",
   "metadata": {
    "heading_collapsed": true
   },
   "source": [
    "# Level Up: Skewness"
   ]
  },
  {
   "cell_type": "markdown",
   "metadata": {
    "hidden": true
   },
   "source": [
    "Probability distributions can have skew, meaning they have more mass further from the mean on one side of the distribution than another. A skew of zero is perfectly symmetrical about the mean.   \n",
    "\n",
    "![skew](images/skew.png)"
   ]
  },
  {
   "cell_type": "code",
   "execution_count": null,
   "metadata": {
    "ExecuteTime": {
     "end_time": "2021-10-08T21:00:16.812366Z",
     "start_time": "2021-10-08T21:00:16.808630Z"
    },
    "hidden": true
   },
   "outputs": [],
   "source": [
    "# We can check skewness with scipy\n",
    "z_curve = np.random.normal(0, 1, 1000)\n",
    "print(f'The skewness measure of z_curve: {stats.skew(z_curve)}')"
   ]
  },
  {
   "cell_type": "code",
   "execution_count": null,
   "metadata": {},
   "outputs": [],
   "source": [
    "# Plotting the distribution\n",
    "fig, ax = plt.subplots(1, 1)\n",
    "ax.hist(z_curve, density=True, histtype='stepfilled', alpha=0.2)\n",
    "plt.show()"
   ]
  },
  {
   "cell_type": "code",
   "execution_count": null,
   "metadata": {
    "ExecuteTime": {
     "end_time": "2021-10-08T21:00:16.818025Z",
     "start_time": "2021-10-08T21:00:16.814693Z"
    },
    "scrolled": true
   },
   "outputs": [],
   "source": [
    "# Check the skewness of a Chi Square Distribution\n",
    "chisquare = stats.chi2.rvs(df=10, size=500)\n",
    "print(f'The skewness measure of chi^2 distribution: \\n{stats.skew(chisquare)}\\n')"
   ]
  },
  {
   "cell_type": "code",
   "execution_count": null,
   "metadata": {
    "ExecuteTime": {
     "end_time": "2021-10-08T21:00:16.976720Z",
     "start_time": "2021-10-08T21:00:16.820148Z"
    }
   },
   "outputs": [],
   "source": [
    "# Plotting the Chi Square distribution\n",
    "fig, ax = plt.subplots(1, 1)\n",
    "ax.hist(chisquare, density=True, histtype='stepfilled', alpha=0.2)\n",
    "ax.legend(loc='best', frameon=False)\n",
    "plt.show()"
   ]
  },
  {
   "cell_type": "markdown",
   "metadata": {
    "heading_collapsed": true
   },
   "source": [
    "# Level Up: Kurtosis"
   ]
  },
  {
   "cell_type": "markdown",
   "metadata": {
    "hidden": true
   },
   "source": [
    "![kurtosis](images/kurtosis.png)"
   ]
  },
  {
   "cell_type": "code",
   "execution_count": null,
   "metadata": {
    "ExecuteTime": {
     "end_time": "2021-10-08T21:00:17.382143Z",
     "start_time": "2021-10-08T21:00:17.379232Z"
    }
   },
   "outputs": [],
   "source": [
    "# Check kurtosis with scipy\n",
    "print(f'The kurtosis measure of z_curve: {stats.kurtosis(z_curve)}')"
   ]
  },
  {
   "cell_type": "code",
   "execution_count": null,
   "metadata": {
    "ExecuteTime": {
     "end_time": "2021-10-08T21:00:17.406828Z",
     "start_time": "2021-10-08T21:00:17.404056Z"
    }
   },
   "outputs": [],
   "source": [
    "# Check kurtosis for Chi Square distribution\n",
    "print(f'The kurtosis meausre of Chi^2 distribution: {stats.kurtosis(chisquare)}')"
   ]
  }
 ],
 "metadata": {
  "celltoolbar": "Slideshow",
  "hide_input": false,
  "kernelspec": {
   "display_name": "Python 3 (ipykernel)",
   "language": "python",
   "name": "python3"
  },
  "language_info": {
   "codemirror_mode": {
    "name": "ipython",
    "version": 3
   },
   "file_extension": ".py",
   "mimetype": "text/x-python",
   "name": "python",
   "nbconvert_exporter": "python",
   "pygments_lexer": "ipython3",
   "version": "3.9.7"
  },
  "latex_envs": {
   "LaTeX_envs_menu_present": true,
   "autoclose": false,
   "autocomplete": true,
   "bibliofile": "biblio.bib",
   "cite_by": "apalike",
   "current_citInitial": 1,
   "eqLabelWithNumbers": true,
   "eqNumInitial": 1,
   "hotkeys": {
    "equation": "Ctrl-E",
    "itemize": "Ctrl-I"
   },
   "labels_anchors": false,
   "latex_user_defs": false,
   "report_style_numbering": false,
   "user_envs_cfg": false
  },
  "nbTranslate": {
   "displayLangs": [
    "*"
   ],
   "hotkey": "alt-t",
   "langInMainMenu": true,
   "sourceLang": "en",
   "targetLang": "fr",
   "useGoogleTranslate": true
  },
  "toc": {
   "base_numbering": 1,
   "nav_menu": {},
   "number_sections": true,
   "sideBar": true,
   "skip_h1_title": false,
   "title_cell": "Table of Contents",
   "title_sidebar": "TOC",
   "toc_cell": true,
   "toc_position": {
    "height": "calc(100% - 180px)",
    "left": "10px",
    "top": "150px",
    "width": "219px"
   },
   "toc_section_display": true,
   "toc_window_display": false
  }
 },
 "nbformat": 4,
 "nbformat_minor": 4
}
